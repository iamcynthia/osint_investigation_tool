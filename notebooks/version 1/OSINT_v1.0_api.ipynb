{
 "cells": [
  {
   "cell_type": "code",
   "execution_count": 1,
   "id": "85cf97dc",
   "metadata": {},
   "outputs": [],
   "source": [
    "import math\n",
    "import os\n",
    "import random\n",
    "import re\n",
    "import time\n",
    "from collections import Counter\n",
    "from contextlib import closing\n",
    "from string import punctuation as enPunc\n",
    "\n",
    "import gensim\n",
    "import numpy as np\n",
    "import pandas as pd\n",
    "import requests\n",
    "from bs4 import BeautifulSoup\n",
    "from gensim.models.word2vec import Word2Vec\n",
    "from LAC import LAC\n",
    "from opencc import OpenCC\n",
    "from zhon.hanzi import punctuation as zhPunc"
   ]
  },
  {
   "cell_type": "markdown",
   "id": "4089bdd3",
   "metadata": {},
   "source": [
    "## Target Page : V 1.2 (Api version)"
   ]
  },
  {
   "cell_type": "markdown",
   "id": "8b1ec190",
   "metadata": {},
   "source": [
    "- input: 某taskId包含之網址\n",
    "- output: 網頁重新排序後之列表\n",
    "---------------------\n",
    "0. (載入)預訓練詞向量\n",
    "1. 爬蟲&資料預處理：爬網頁文章內容、分詞並計算tfidf\n",
    "2. 排序模組：匯入詞向量並進行增量訓練，取得搜尋詞詞向量，取得文件向量並與搜尋詞比較相似性"
   ]
  },
  {
   "cell_type": "code",
   "execution_count": 22,
   "id": "f9b310bc",
   "metadata": {},
   "outputs": [
    {
     "name": "stderr",
     "output_type": "stream",
     "text": [
      "/opt/anaconda3/lib/python3.8/site-packages/ipykernel/ipkernel.py:287: DeprecationWarning: `should_run_async` will not call `transform_cell` automatically in the future. Please pass the result to `transformed_cell` argument and any exception that happen during thetransform in `preprocessing_exc_tuple` in IPython 7.17 and above.\n",
      "  and should_run_async(code)\n"
     ]
    }
   ],
   "source": [
    "user_name = 'csti-user'\n",
    "file_dir = 'OSINT'"
   ]
  },
  {
   "cell_type": "markdown",
   "id": "1dade73d",
   "metadata": {},
   "source": [
    "### 爬蟲&資料預處理"
   ]
  },
  {
   "cell_type": "markdown",
   "id": "cfa3949e",
   "metadata": {},
   "source": [
    "#### 爬蟲取得網頁內容文章"
   ]
  },
  {
   "cell_type": "code",
   "execution_count": 23,
   "id": "6ddf7527",
   "metadata": {},
   "outputs": [],
   "source": [
    "def __get_content_texts(google_search_rs):\n",
    "    \"\"\"爬蟲取得網頁內容文章\n",
    "    \n",
    "    :param google_search_rs: 特定taskID中所有url\n",
    "    :return context: 網頁文章，以句子分開\n",
    "    \"\"\"\n",
    "    articleLength, context = [], []\n",
    "    for idx, url in enumerate(google_search_rs):\n",
    "#         print(idx +1, url)\n",
    "        try:\n",
    "            with closing(requests.get(url, headers={\n",
    "                \"User-Agent\": \"Mozilla/5.0 (Windows NT 10.0; Win64; x64) \"\n",
    "                \"AppleWebKit/537.36 (KHTML, like Gecko) Chrome/94.0.4606.71 Safari/537.36\"\n",
    "            }, timeout=30, verify=False)) as resp:\n",
    "                if resp.ok and resp.headers.get(\"Content-Type\", \"\").startswith(\"text/html\"):\n",
    "                    soup = BeautifulSoup(resp.content.decode(\"utf-8\", \"ignore\"), \"lxml\")\n",
    "                    if soup.body:\n",
    "                        for tree in soup.find_all([\n",
    "                            \"a\", \"audio\", \"button\", \"head\", \"iframe\", \"img\",\n",
    "                            \"input\", \"link\", \"meta\", \"noscript\", \"object\", \"script\",\n",
    "                            \"select\", \"source\", \"style\", \"textarea\", \"title\", \"video\"\n",
    "                        ]):\n",
    "                            tree.extract()\n",
    "                        if soup.body.find(\"main\"):\n",
    "                            texts = [\n",
    "                                re.sub(r\"[\\xa0\\r\\n\\t\\f\\v ]+\", \" \", text.strip())\n",
    "                                for text in soup.body.find(\"main\").get_text().splitlines()\n",
    "                                if re.search(r\"\\w\", text)\n",
    "                            ]\n",
    "                        else:\n",
    "                            texts = [\n",
    "                                re.sub(r\"[\\xa0\\r\\n\\t\\f\\v ]+\", \" \", text.strip())\n",
    "                                for text in soup.body.get_text().splitlines()\n",
    "                                if re.search(r\"\\w\", text)\n",
    "                            ]\n",
    "            context.append(texts)\n",
    "        except Exception as e:\n",
    "            context.append([\"\"])\n",
    "            print(e)\n",
    "        \n",
    "        length = sum(len(s) for s in texts)          \n",
    "        articleLength.append(length if length != 0 else 0)\n",
    "    \n",
    "    return context, articleLength"
   ]
  },
  {
   "cell_type": "markdown",
   "id": "c0c0be0a",
   "metadata": {},
   "source": [
    "#### 分詞&計算詞頻"
   ]
  },
  {
   "cell_type": "code",
   "execution_count": 6,
   "id": "165a50a6",
   "metadata": {},
   "outputs": [],
   "source": [
    "STOPWORD_PATH = f'/Users/{user_name}/Downloads/{file_dir}/stopwords-master/baidu_stopwords.txt'\n",
    "__stopwords = list(\"\\xa0\\r\\n\\t\\f\\v \") + list(enPunc) + list(zhPunc)\n",
    "__converter = OpenCC(\"tw2sp\")\n",
    "\n",
    "with open(STOPWORD_PATH, \"r\") as f:\n",
    "    lines = f.read().splitlines()\n",
    "    __stopwords.extend(lines)\n",
    "    for line in lines:\n",
    "        __stopwords.append(__converter.convert(line))"
   ]
  },
  {
   "cell_type": "code",
   "execution_count": 7,
   "id": "e0ae0dd2",
   "metadata": {},
   "outputs": [],
   "source": [
    "__valid_tags = [\"n\", \"nz\", \"v\", \"vd\", \"vn\", \"a\", \"ad\", \"an\", \"d\", \"PER\", \"LOC\", \"ORG\", \"TIME\"]\n",
    "__lac = LAC(mode=\"lac\")\n",
    "__lac.load_customization(f'/Users/{user_name}/Downloads/{file_dir}/data/custom_dict.txt')"
   ]
  },
  {
   "cell_type": "code",
   "execution_count": 8,
   "id": "fb822d06",
   "metadata": {},
   "outputs": [],
   "source": [
    "def __get_named_entities(texts):\n",
    "    \"\"\"取得文章命名實體\n",
    "    \n",
    "    :param texts: 所有網頁文章(list)\n",
    "    :return for_target_page(目標頁所需之命名實體), for_info_extract(關鍵資訊擷取所需之命名實體)\n",
    "    \"\"\"\n",
    "    for_target_page, for_info_extract = [], []\n",
    "    for idx, text in enumerate(texts):\n",
    "        try:\n",
    "            result: list[(str, str)] = []\n",
    "            if isinstance(text, (str, list)) and len(text):\n",
    "                try:\n",
    "                    lac_result = __lac.run(text if isinstance(text, list) else [text])\n",
    "                except:\n",
    "                    lac_result = __lac.run([\" \".join(text)]) if isinstance(text, list) else []\n",
    "                finally:\n",
    "                    for words, tags in lac_result:\n",
    "                        result.extend((words[idx], tags[idx]) for idx in range(len(words)) if len(words[idx])>1)\n",
    "#             print(result) # [('中國國防科技', 'ORG'), ('信息', 'n'), ('中心', 'n'),....\n",
    "\n",
    "            _for_target_page = [\n",
    "                # 篩選出屬於合法詞性類別標籤且不包含在斷詞中的分詞\n",
    "                word for word, tag in result\n",
    "                if tag in __valid_tags\n",
    "                and word not in __stopwords\n",
    "                and not re.search(r\"[0-9]\", word)\n",
    "            ]\n",
    "            for_target_page.append(_for_target_page)\n",
    "\n",
    "            _for_info_extract = [\n",
    "                # 篩選出關鍵詞彙(客製化需求欄位，未來來源可能會調整)\n",
    "                word for word, tag in result\n",
    "                if tag in [\"ORG\", \"PER\", \"nz\", \"an\", \"vn\"]\n",
    "                and word not in __stopwords\n",
    "                and not re.search(r\"[0-9]\", word)\n",
    "            ]\n",
    "            for_info_extract.append(_for_info_extract)\n",
    "            \n",
    "        except Exception as e:\n",
    "            for_target_page.append([])\n",
    "            for_info_extract.append([])\n",
    "    return for_target_page, for_info_extract"
   ]
  },
  {
   "cell_type": "markdown",
   "id": "b08cabac",
   "metadata": {},
   "source": [
    "#### 計算tfidf"
   ]
  },
  {
   "cell_type": "code",
   "execution_count": 11,
   "id": "24152761",
   "metadata": {},
   "outputs": [],
   "source": [
    "def __get_tfidfs(counters, top):\n",
    "    \"\"\"取得各篇文章的關鍵字及其透過TF-IDF加權分數的前20名\n",
    "    \n",
    "    :param counters: 各篇文章詞頻\n",
    "    :param top: 前?名\n",
    "    :return 各篇文章的前?名關鍵詞(dataframe)\n",
    "    \"\"\"\n",
    "    def tf(word, counter):\n",
    "        return counter[word] / sum(counter.values())\n",
    "\n",
    "    def idf(word, counters):\n",
    "        return math.log2(len(counters) / sum(1 for counter in counters if word in counter))\n",
    "\n",
    "    data = []\n",
    "    for idx, counter in enumerate(counters):\n",
    "        data.extend([idx, word, round(score, 5)] for word, score in sorted([\n",
    "            (word, tf(word, counter) * idf(word, counters)) for word in counter\n",
    "        ], key=lambda x: x[1], reverse=True)[:top])\n",
    "    \n",
    "    return pd.DataFrame(data, columns=[\"idx\", \"word\", \"score\"])"
   ]
  },
  {
   "cell_type": "markdown",
   "id": "51ba54d7",
   "metadata": {},
   "source": [
    "### 排序模組"
   ]
  },
  {
   "cell_type": "markdown",
   "id": "4e3ff147",
   "metadata": {},
   "source": [
    "#### 匯入自行訓練的詞向量並進行增量訓練"
   ]
  },
  {
   "cell_type": "code",
   "execution_count": 14,
   "id": "a06dde6b",
   "metadata": {},
   "outputs": [],
   "source": [
    "MODEL_PATH = f'/Users/{user_name}/Downloads/{file_dir}/model/api_version/word2vec.model'\n",
    "\n",
    "def __get_trained_model(query, corpus):\n",
    "    \"\"\"詞向量增量訓練\n",
    "\n",
    "    :param query(str): 搜尋詞\n",
    "    :param corpus: 語料庫，預期帶入文章分詞結果集合\n",
    "    :return: 增量訓練後的模型\n",
    "    \"\"\"\n",
    "    if os.path.isfile(MODEL_PATH): #該路徑是否為文件\n",
    "        model = Word2Vec.load(MODEL_PATH)\n",
    "    else:\n",
    "        return None\n",
    "\n",
    "    words, tags = __lac.run(query)\n",
    "\n",
    "    model.build_vocab(corpus, update=True, trim_rule=lambda word, count, min_count:\n",
    "                      gensim.utils.RULE_KEEP if word in words else gensim.utils.RULE_DEFAULT)\n",
    "    model.train(corpus, total_examples=model.corpus_count, epochs=model.epochs)\n",
    "    model.save(MODEL_PATH)\n",
    "\n",
    "    return model"
   ]
  },
  {
   "cell_type": "code",
   "execution_count": 33,
   "id": "05a255c7",
   "metadata": {},
   "outputs": [
    {
     "name": "stderr",
     "output_type": "stream",
     "text": [
      "/opt/anaconda3/lib/python3.8/site-packages/ipykernel/ipkernel.py:287: DeprecationWarning: `should_run_async` will not call `transform_cell` automatically in the future. Please pass the result to `transformed_cell` argument and any exception that happen during thetransform in `preprocessing_exc_tuple` in IPython 7.17 and above.\n",
      "  and should_run_async(code)\n"
     ]
    }
   ],
   "source": [
    "### 匯入github下載之詞向量\n",
    "# file_name = 'merge_sgns_bigram_char300.txt'\n",
    "# with open(f'/Users/{user_name}/Downloads/{file_dir}/model/chinese_word_embedding/{file_name}') as f:\n",
    "#     lines = f.readlines()"
   ]
  },
  {
   "cell_type": "markdown",
   "id": "7afb8d15",
   "metadata": {},
   "source": [
    "#### 取得搜尋詞詞向量"
   ]
  },
  {
   "cell_type": "code",
   "execution_count": 17,
   "id": "5c11bb51",
   "metadata": {},
   "outputs": [],
   "source": [
    "def __get_vector(query, model):\n",
    "    \"\"\"取得搜尋詞及其向量\n",
    "\n",
    "    若詞向量中有此搜尋詞，則取得該詞彙之向量，\n",
    "    若詞向量中無此搜尋詞，則進行分詞，再尋找該詞彙之向量\n",
    "\n",
    "    :param query(str): 搜尋詞\n",
    "    :param model(Word2Vec): 詞向量的相關模型\n",
    "    :return: vector\n",
    "    \"\"\"\n",
    "    try:\n",
    "        vector = model.wv.vectors[model.wv.key_to_index[query]]\n",
    "    except:\n",
    "        words, tags = __lac.run(query)\n",
    "        vectors = [\n",
    "            model.wv.vectors[model.wv.key_to_index[word]]\n",
    "            for word in words if word not in __stopwords\n",
    "        ]\n",
    "        vector = sum(vectors) / len(vectors)\n",
    "    return vector"
   ]
  },
  {
   "cell_type": "markdown",
   "id": "59841e32",
   "metadata": {},
   "source": [
    "#### 取得文件向量並與搜尋詞比較相似性"
   ]
  },
  {
   "cell_type": "code",
   "execution_count": 34,
   "id": "932aa5fb",
   "metadata": {},
   "outputs": [],
   "source": [
    "def __get_similarity(google_search_rs, top, query):\n",
    "    contexts, articleLength = __get_content_texts(google_search_rs)\n",
    "    for_target_page, for_info_extract = __get_named_entities(contexts)\n",
    "    all_doc_count = [Counter(for_target_page[i]) for i in range(len(for_target_page))]\n",
    "    tfidfs = __get_tfidfs(all_doc_count,top) #所有網頁內容分詞的tfidfs，return dataframe\n",
    "    model = __get_trained_model(query, contexts) #詞向量模型\n",
    "    query_vector = __get_vector(query, model) #搜尋詞的詞向量\n",
    "    print(query_vector)\n",
    "    \n",
    "    vector = np.zeros(250)\n",
    "    distance, words = [], []\n",
    "    for idx in range(len(google_search_rs)):\n",
    "        for row in tfidfs.loc[tfidfs[\"idx\"] == idx].itertuples():\n",
    "            try:\n",
    "                vector += model.wv.vectors[model.wv.key_to_index[row.word]] * row.score\n",
    "            except:\n",
    "                continue\n",
    "            else:\n",
    "                words.append(row.word)\n",
    "        else:\n",
    "            total = len(words)\n",
    "            distance.append(math.dist(vector if 0 == total else (vector / total), query_vector)) #各篇文章與搜尋詞的相似度\n",
    "\n",
    "    for sort, idx in enumerate(\n",
    "        sorted(range(len(google_search_rs)), key=lambda idx: distance[idx] \n",
    "               if 400 < articleLength[idx] else 100, reverse=False)):\n",
    "        print(\"Article %d: %s\"%(sort+1,google_search_rs[idx]))"
   ]
  },
  {
   "cell_type": "markdown",
   "id": "deadbf84",
   "metadata": {},
   "source": [
    "## Info Extraction: V 1.2 (Api Version)"
   ]
  },
  {
   "cell_type": "code",
   "execution_count": 25,
   "id": "9451c3ad",
   "metadata": {},
   "outputs": [
    {
     "name": "stderr",
     "output_type": "stream",
     "text": [
      "/opt/anaconda3/lib/python3.8/site-packages/ipykernel/ipkernel.py:287: DeprecationWarning: `should_run_async` will not call `transform_cell` automatically in the future. Please pass the result to `transformed_cell` argument and any exception that happen during thetransform in `preprocessing_exc_tuple` in IPython 7.17 and above.\n",
      "  and should_run_async(code)\n"
     ]
    }
   ],
   "source": [
    "def __get_keywords(keywords, top):\n",
    "    keyword_count = [Counter(keywords[i]) for i in range(len(keywords))]\n",
    "    keyword_tfidfs = __get_tfidfs(keyword_count,top)\n",
    "    return keyword_tfidfs"
   ]
  },
  {
   "cell_type": "markdown",
   "id": "bf830f89",
   "metadata": {},
   "source": [
    "## Target Page Demo"
   ]
  },
  {
   "cell_type": "code",
   "execution_count": 35,
   "id": "0c82b4dc",
   "metadata": {
    "scrolled": true
   },
   "outputs": [
    {
     "name": "stderr",
     "output_type": "stream",
     "text": [
      "/opt/anaconda3/lib/python3.8/site-packages/urllib3/connectionpool.py:1013: InsecureRequestWarning: Unverified HTTPS request is being made to host 'www.bbc.com'. Adding certificate verification is strongly advised. See: https://urllib3.readthedocs.io/en/latest/advanced-usage.html#ssl-warnings\n",
      "  warnings.warn(\n",
      "/opt/anaconda3/lib/python3.8/site-packages/urllib3/connectionpool.py:1013: InsecureRequestWarning: Unverified HTTPS request is being made to host 'www.epochtimes.com'. Adding certificate verification is strongly advised. See: https://urllib3.readthedocs.io/en/latest/advanced-usage.html#ssl-warnings\n",
      "  warnings.warn(\n",
      "/opt/anaconda3/lib/python3.8/site-packages/urllib3/connectionpool.py:1013: InsecureRequestWarning: Unverified HTTPS request is being made to host 'www.abc.net.au'. Adding certificate verification is strongly advised. See: https://urllib3.readthedocs.io/en/latest/advanced-usage.html#ssl-warnings\n",
      "  warnings.warn(\n",
      "/opt/anaconda3/lib/python3.8/site-packages/urllib3/connectionpool.py:1013: InsecureRequestWarning: Unverified HTTPS request is being made to host 'www.huaglad.com'. Adding certificate verification is strongly advised. See: https://urllib3.readthedocs.io/en/latest/advanced-usage.html#ssl-warnings\n",
      "  warnings.warn(\n",
      "/opt/anaconda3/lib/python3.8/site-packages/urllib3/connectionpool.py:1013: InsecureRequestWarning: Unverified HTTPS request is being made to host 'newsin.us'. Adding certificate verification is strongly advised. See: https://urllib3.readthedocs.io/en/latest/advanced-usage.html#ssl-warnings\n",
      "  warnings.warn(\n",
      "/opt/anaconda3/lib/python3.8/site-packages/urllib3/connectionpool.py:1013: InsecureRequestWarning: Unverified HTTPS request is being made to host 'www.ntdtv.com'. Adding certificate verification is strongly advised. See: https://urllib3.readthedocs.io/en/latest/advanced-usage.html#ssl-warnings\n",
      "  warnings.warn(\n",
      "/opt/anaconda3/lib/python3.8/site-packages/urllib3/connectionpool.py:1013: InsecureRequestWarning: Unverified HTTPS request is being made to host 'twitter.com'. Adding certificate verification is strongly advised. See: https://urllib3.readthedocs.io/en/latest/advanced-usage.html#ssl-warnings\n",
      "  warnings.warn(\n",
      "/opt/anaconda3/lib/python3.8/site-packages/urllib3/connectionpool.py:1013: InsecureRequestWarning: Unverified HTTPS request is being made to host 'global.udn.com'. Adding certificate verification is strongly advised. See: https://urllib3.readthedocs.io/en/latest/advanced-usage.html#ssl-warnings\n",
      "  warnings.warn(\n",
      "/opt/anaconda3/lib/python3.8/site-packages/urllib3/connectionpool.py:1013: InsecureRequestWarning: Unverified HTTPS request is being made to host 'gnews.org'. Adding certificate verification is strongly advised. See: https://urllib3.readthedocs.io/en/latest/advanced-usage.html#ssl-warnings\n",
      "  warnings.warn(\n",
      "/opt/anaconda3/lib/python3.8/site-packages/urllib3/connectionpool.py:1013: InsecureRequestWarning: Unverified HTTPS request is being made to host 'www.enanyang.my'. Adding certificate verification is strongly advised. See: https://urllib3.readthedocs.io/en/latest/advanced-usage.html#ssl-warnings\n",
      "  warnings.warn(\n",
      "/opt/anaconda3/lib/python3.8/site-packages/urllib3/connectionpool.py:1013: InsecureRequestWarning: Unverified HTTPS request is being made to host 'www.enanyang.my'. Adding certificate verification is strongly advised. See: https://urllib3.readthedocs.io/en/latest/advanced-usage.html#ssl-warnings\n",
      "  warnings.warn(\n",
      "/opt/anaconda3/lib/python3.8/site-packages/urllib3/connectionpool.py:1013: InsecureRequestWarning: Unverified HTTPS request is being made to host 'www.rfa.org'. Adding certificate verification is strongly advised. See: https://urllib3.readthedocs.io/en/latest/advanced-usage.html#ssl-warnings\n",
      "  warnings.warn(\n",
      "/opt/anaconda3/lib/python3.8/site-packages/urllib3/connectionpool.py:1013: InsecureRequestWarning: Unverified HTTPS request is being made to host 'zh.wikipedia.org'. Adding certificate verification is strongly advised. See: https://urllib3.readthedocs.io/en/latest/advanced-usage.html#ssl-warnings\n",
      "  warnings.warn(\n",
      "/opt/anaconda3/lib/python3.8/site-packages/urllib3/connectionpool.py:1013: InsecureRequestWarning: Unverified HTTPS request is being made to host 'www.wenxuecity.com'. Adding certificate verification is strongly advised. See: https://urllib3.readthedocs.io/en/latest/advanced-usage.html#ssl-warnings\n",
      "  warnings.warn(\n",
      "/opt/anaconda3/lib/python3.8/site-packages/urllib3/connectionpool.py:1013: InsecureRequestWarning: Unverified HTTPS request is being made to host 'www.dw.com'. Adding certificate verification is strongly advised. See: https://urllib3.readthedocs.io/en/latest/advanced-usage.html#ssl-warnings\n",
      "  warnings.warn(\n",
      "/opt/anaconda3/lib/python3.8/site-packages/urllib3/connectionpool.py:1013: InsecureRequestWarning: Unverified HTTPS request is being made to host 'www.voachinese.com'. Adding certificate verification is strongly advised. See: https://urllib3.readthedocs.io/en/latest/advanced-usage.html#ssl-warnings\n",
      "  warnings.warn(\n",
      "/opt/anaconda3/lib/python3.8/site-packages/urllib3/connectionpool.py:1013: InsecureRequestWarning: Unverified HTTPS request is being made to host 'www.taiwanjustice.net'. Adding certificate verification is strongly advised. See: https://urllib3.readthedocs.io/en/latest/advanced-usage.html#ssl-warnings\n",
      "  warnings.warn(\n"
     ]
    },
    {
     "name": "stdout",
     "output_type": "stream",
     "text": [
      "('Connection aborted.', ConnectionResetError(54, 'Connection reset by peer'))\n"
     ]
    },
    {
     "name": "stderr",
     "output_type": "stream",
     "text": [
      "/opt/anaconda3/lib/python3.8/site-packages/urllib3/connectionpool.py:1013: InsecureRequestWarning: Unverified HTTPS request is being made to host 'news.ltn.com.tw'. Adding certificate verification is strongly advised. See: https://urllib3.readthedocs.io/en/latest/advanced-usage.html#ssl-warnings\n",
      "  warnings.warn(\n",
      "/opt/anaconda3/lib/python3.8/site-packages/urllib3/connectionpool.py:1013: InsecureRequestWarning: Unverified HTTPS request is being made to host 'www.soundofhope.org'. Adding certificate verification is strongly advised. See: https://urllib3.readthedocs.io/en/latest/advanced-usage.html#ssl-warnings\n",
      "  warnings.warn(\n",
      "/opt/anaconda3/lib/python3.8/site-packages/urllib3/connectionpool.py:1013: InsecureRequestWarning: Unverified HTTPS request is being made to host 'www.bast.net.cn'. Adding certificate verification is strongly advised. See: https://urllib3.readthedocs.io/en/latest/advanced-usage.html#ssl-warnings\n",
      "  warnings.warn(\n",
      "/opt/anaconda3/lib/python3.8/site-packages/urllib3/connectionpool.py:1013: InsecureRequestWarning: Unverified HTTPS request is being made to host 'chinadigitaltimes.net'. Adding certificate verification is strongly advised. See: https://urllib3.readthedocs.io/en/latest/advanced-usage.html#ssl-warnings\n",
      "  warnings.warn(\n",
      "/opt/anaconda3/lib/python3.8/site-packages/urllib3/connectionpool.py:1013: InsecureRequestWarning: Unverified HTTPS request is being made to host 'www.watchinese.com'. Adding certificate verification is strongly advised. See: https://urllib3.readthedocs.io/en/latest/advanced-usage.html#ssl-warnings\n",
      "  warnings.warn(\n",
      "/opt/anaconda3/lib/python3.8/site-packages/urllib3/connectionpool.py:1013: InsecureRequestWarning: Unverified HTTPS request is being made to host 'www.worldjournal.com'. Adding certificate verification is strongly advised. See: https://urllib3.readthedocs.io/en/latest/advanced-usage.html#ssl-warnings\n",
      "  warnings.warn(\n",
      "/opt/anaconda3/lib/python3.8/site-packages/urllib3/connectionpool.py:1013: InsecureRequestWarning: Unverified HTTPS request is being made to host 'www.worldjournal.com'. Adding certificate verification is strongly advised. See: https://urllib3.readthedocs.io/en/latest/advanced-usage.html#ssl-warnings\n",
      "  warnings.warn(\n",
      "/opt/anaconda3/lib/python3.8/site-packages/urllib3/connectionpool.py:1013: InsecureRequestWarning: Unverified HTTPS request is being made to host 'futurecity.cw.com.tw'. Adding certificate verification is strongly advised. See: https://urllib3.readthedocs.io/en/latest/advanced-usage.html#ssl-warnings\n",
      "  warnings.warn(\n",
      "/opt/anaconda3/lib/python3.8/site-packages/urllib3/connectionpool.py:1013: InsecureRequestWarning: Unverified HTTPS request is being made to host 'technews.tw'. Adding certificate verification is strongly advised. See: https://urllib3.readthedocs.io/en/latest/advanced-usage.html#ssl-warnings\n",
      "  warnings.warn(\n",
      "/opt/anaconda3/lib/python3.8/site-packages/urllib3/connectionpool.py:1013: InsecureRequestWarning: Unverified HTTPS request is being made to host 'tw.appledaily.com'. Adding certificate verification is strongly advised. See: https://urllib3.readthedocs.io/en/latest/advanced-usage.html#ssl-warnings\n",
      "  warnings.warn(\n",
      "/opt/anaconda3/lib/python3.8/site-packages/urllib3/connectionpool.py:1013: InsecureRequestWarning: Unverified HTTPS request is being made to host 'www.backchina.com'. Adding certificate verification is strongly advised. See: https://urllib3.readthedocs.io/en/latest/advanced-usage.html#ssl-warnings\n",
      "  warnings.warn(\n",
      "/opt/anaconda3/lib/python3.8/site-packages/urllib3/connectionpool.py:1013: InsecureRequestWarning: Unverified HTTPS request is being made to host 'project-gutenberg.github.io'. Adding certificate verification is strongly advised. See: https://urllib3.readthedocs.io/en/latest/advanced-usage.html#ssl-warnings\n",
      "  warnings.warn(\n",
      "/opt/anaconda3/lib/python3.8/site-packages/urllib3/connectionpool.py:1013: InsecureRequestWarning: Unverified HTTPS request is being made to host 'news.cts.com.tw'. Adding certificate verification is strongly advised. See: https://urllib3.readthedocs.io/en/latest/advanced-usage.html#ssl-warnings\n",
      "  warnings.warn(\n",
      "/opt/anaconda3/lib/python3.8/site-packages/urllib3/connectionpool.py:1013: InsecureRequestWarning: Unverified HTTPS request is being made to host 'pincong.rocks'. Adding certificate verification is strongly advised. See: https://urllib3.readthedocs.io/en/latest/advanced-usage.html#ssl-warnings\n",
      "  warnings.warn(\n",
      "/opt/anaconda3/lib/python3.8/site-packages/urllib3/connectionpool.py:1013: InsecureRequestWarning: Unverified HTTPS request is being made to host 'read01.com'. Adding certificate verification is strongly advised. See: https://urllib3.readthedocs.io/en/latest/advanced-usage.html#ssl-warnings\n",
      "  warnings.warn(\n",
      "/opt/anaconda3/lib/python3.8/site-packages/urllib3/connectionpool.py:1013: InsecureRequestWarning: Unverified HTTPS request is being made to host 'www.fountmedia.io'. Adding certificate verification is strongly advised. See: https://urllib3.readthedocs.io/en/latest/advanced-usage.html#ssl-warnings\n",
      "  warnings.warn(\n",
      "/opt/anaconda3/lib/python3.8/site-packages/urllib3/connectionpool.py:1013: InsecureRequestWarning: Unverified HTTPS request is being made to host 'www.secretchina.com'. Adding certificate verification is strongly advised. See: https://urllib3.readthedocs.io/en/latest/advanced-usage.html#ssl-warnings\n",
      "  warnings.warn(\n",
      "/opt/anaconda3/lib/python3.8/site-packages/urllib3/connectionpool.py:1013: InsecureRequestWarning: Unverified HTTPS request is being made to host 'www.shangyexinzhi.com'. Adding certificate verification is strongly advised. See: https://urllib3.readthedocs.io/en/latest/advanced-usage.html#ssl-warnings\n",
      "  warnings.warn(\n",
      "/opt/anaconda3/lib/python3.8/site-packages/urllib3/connectionpool.py:1013: InsecureRequestWarning: Unverified HTTPS request is being made to host '6do.news'. Adding certificate verification is strongly advised. See: https://urllib3.readthedocs.io/en/latest/advanced-usage.html#ssl-warnings\n",
      "  warnings.warn(\n",
      "/opt/anaconda3/lib/python3.8/site-packages/urllib3/connectionpool.py:1013: InsecureRequestWarning: Unverified HTTPS request is being made to host 'www.tiaotiaowen.com'. Adding certificate verification is strongly advised. See: https://urllib3.readthedocs.io/en/latest/advanced-usage.html#ssl-warnings\n",
      "  warnings.warn(\n",
      "/opt/anaconda3/lib/python3.8/site-packages/urllib3/connectionpool.py:1013: InsecureRequestWarning: Unverified HTTPS request is being made to host 'www.1688.com.au'. Adding certificate verification is strongly advised. See: https://urllib3.readthedocs.io/en/latest/advanced-usage.html#ssl-warnings\n",
      "  warnings.warn(\n",
      "/opt/anaconda3/lib/python3.8/site-packages/urllib3/connectionpool.py:1013: InsecureRequestWarning: Unverified HTTPS request is being made to host 'vct.news'. Adding certificate verification is strongly advised. See: https://urllib3.readthedocs.io/en/latest/advanced-usage.html#ssl-warnings\n",
      "  warnings.warn(\n",
      "/opt/anaconda3/lib/python3.8/site-packages/urllib3/connectionpool.py:1013: InsecureRequestWarning: Unverified HTTPS request is being made to host 'cms.wj411.com'. Adding certificate verification is strongly advised. See: https://urllib3.readthedocs.io/en/latest/advanced-usage.html#ssl-warnings\n",
      "  warnings.warn(\n",
      "/opt/anaconda3/lib/python3.8/site-packages/urllib3/connectionpool.py:1013: InsecureRequestWarning: Unverified HTTPS request is being made to host 'myptt.cc'. Adding certificate verification is strongly advised. See: https://urllib3.readthedocs.io/en/latest/advanced-usage.html#ssl-warnings\n",
      "  warnings.warn(\n",
      "/opt/anaconda3/lib/python3.8/site-packages/urllib3/connectionpool.py:1013: InsecureRequestWarning: Unverified HTTPS request is being made to host 'www.voacantonese.com'. Adding certificate verification is strongly advised. See: https://urllib3.readthedocs.io/en/latest/advanced-usage.html#ssl-warnings\n",
      "  warnings.warn(\n",
      "/opt/anaconda3/lib/python3.8/site-packages/urllib3/connectionpool.py:1013: InsecureRequestWarning: Unverified HTTPS request is being made to host 'www.aboluowang.com'. Adding certificate verification is strongly advised. See: https://urllib3.readthedocs.io/en/latest/advanced-usage.html#ssl-warnings\n",
      "  warnings.warn(\n"
     ]
    },
    {
     "name": "stderr",
     "output_type": "stream",
     "text": [
      "/opt/anaconda3/lib/python3.8/site-packages/urllib3/connectionpool.py:1013: InsecureRequestWarning: Unverified HTTPS request is being made to host 'www.pttweb.cc'. Adding certificate verification is strongly advised. See: https://urllib3.readthedocs.io/en/latest/advanced-usage.html#ssl-warnings\n",
      "  warnings.warn(\n",
      "/opt/anaconda3/lib/python3.8/site-packages/urllib3/connectionpool.py:1013: InsecureRequestWarning: Unverified HTTPS request is being made to host 'news.chinanewscenter.com'. Adding certificate verification is strongly advised. See: https://urllib3.readthedocs.io/en/latest/advanced-usage.html#ssl-warnings\n",
      "  warnings.warn(\n",
      "/opt/anaconda3/lib/python3.8/site-packages/urllib3/connectionpool.py:1013: InsecureRequestWarning: Unverified HTTPS request is being made to host 'rightpoint.site'. Adding certificate verification is strongly advised. See: https://urllib3.readthedocs.io/en/latest/advanced-usage.html#ssl-warnings\n",
      "  warnings.warn(\n",
      "/opt/anaconda3/lib/python3.8/site-packages/urllib3/connectionpool.py:1013: InsecureRequestWarning: Unverified HTTPS request is being made to host 'chinese.efreenews.com'. Adding certificate verification is strongly advised. See: https://urllib3.readthedocs.io/en/latest/advanced-usage.html#ssl-warnings\n",
      "  warnings.warn(\n",
      "/opt/anaconda3/lib/python3.8/site-packages/urllib3/connectionpool.py:1013: InsecureRequestWarning: Unverified HTTPS request is being made to host 'tw.news.yahoo.com'. Adding certificate verification is strongly advised. See: https://urllib3.readthedocs.io/en/latest/advanced-usage.html#ssl-warnings\n",
      "  warnings.warn(\n",
      "/opt/anaconda3/lib/python3.8/site-packages/urllib3/connectionpool.py:1013: InsecureRequestWarning: Unverified HTTPS request is being made to host 'www.taisounds.com'. Adding certificate verification is strongly advised. See: https://urllib3.readthedocs.io/en/latest/advanced-usage.html#ssl-warnings\n",
      "  warnings.warn(\n"
     ]
    },
    {
     "name": "stdout",
     "output_type": "stream",
     "text": [
      "[-0.5048549  -0.26320392  0.12253246  0.08631005  0.92290974 -0.05221258\n",
      "  0.03147755 -0.08807772  1.1688981   0.41413298  0.4717567   0.16057268\n",
      "  1.1779543   0.00453309 -0.07957526 -0.77915907  0.17196967  0.06559723\n",
      " -0.17994893  0.5717421   1.2732385   0.22441833 -1.2228162  -0.66108686\n",
      " -0.3419098  -0.33171663  0.55128074 -0.23075433 -0.01074704  0.20768262\n",
      " -0.0668118   0.59502393 -0.30634293 -0.13763218 -0.6657718   0.11595028\n",
      " -0.6966179  -0.44222078 -0.43109298 -0.06324557  0.19331992  0.17481901\n",
      "  0.33570865 -0.23594707 -0.20033725 -0.66584784 -0.48221943 -0.18506174\n",
      " -0.22726141  0.32776988 -0.14923026  0.26352087  0.01926862 -0.9084549\n",
      "  0.2628064   0.14000465  0.08180525 -0.05704756  0.09626955  0.95100385\n",
      "  0.7172274   0.18072854  0.6179483  -0.3625981  -0.07808066  1.0485755\n",
      "  0.20108831 -0.22731733  0.09919318  0.10227898  0.12025154  0.39510015\n",
      " -0.39845762  0.86709857  0.57398444 -0.33889708  0.02021452 -1.0293691\n",
      " -0.5285217   0.25187746 -0.26742145  0.48209813  0.30077997 -0.27221283\n",
      " -0.36335275  1.2793429   0.16475894  0.7128231   0.9106602   0.03594965\n",
      "  0.78899723  0.11088661  0.28536355  0.3293219  -0.25745183  0.33099958\n",
      "  0.5624526  -0.7522133  -0.17649637  0.14612271 -0.4530119   1.1563762\n",
      " -0.30049774  0.29572996  0.6412726  -0.659772   -0.23720843  0.11007401\n",
      "  0.4058485  -0.16663705  0.5559413   0.62557334 -0.00835007  0.27259248\n",
      " -0.39113197  0.38862476  0.90429187 -0.14331584 -1.1899682  -0.64612705\n",
      " -1.1398259  -0.3869528   1.0813142  -0.29095188 -0.3147234  -0.8849227\n",
      " -0.792259    0.55856603 -0.5991753   1.0145417  -0.39767787  0.08876687\n",
      "  0.17070991 -0.47463778  0.6007106   0.42533612 -0.44186187  0.00640396\n",
      "  0.33290604  0.25691321  0.24934061  0.8704636   0.8871532   0.40598002\n",
      " -0.4722892   0.10741007 -0.48899773 -0.22638856 -0.9610538  -0.17672575\n",
      "  0.8763111  -0.4297838   0.0367018   0.0919654   0.00866795  0.5363533\n",
      " -0.2984316   0.7286441  -0.4617132   0.24447191  0.3461846  -0.10107679\n",
      "  0.57242674 -0.7292636  -0.44334853 -0.91832876  0.52692705  0.6500061\n",
      " -0.08524444  0.6234529   0.95618516  0.07815325 -0.07217883  0.2533054\n",
      " -0.06126637 -0.24567752 -0.69312507  0.07940922 -0.2872055   0.34651944\n",
      " -0.19385414 -0.2083236   1.0846895  -0.92068714  0.27726027 -0.4463731\n",
      "  1.0351126   0.42859563  0.521605    0.08668214  1.0390114   0.10876951\n",
      "  0.3456429  -0.00168375  0.0439683  -0.4570652  -0.03455383 -0.48826328\n",
      " -0.49921727  0.37315905 -0.24766631  0.07694525 -0.24746867  0.24801081\n",
      "  0.365454    0.3003545   0.66230637  0.25067425 -1.2516633   0.04980835\n",
      " -0.5374037   1.0429894   0.837656   -0.05809316  0.3027465   0.38567948\n",
      " -0.128016    0.24583763 -0.77829313 -0.4527477   0.38386914  0.6549111\n",
      " -1.3072258   1.1744028  -0.46490517  0.55807775  0.52477103  0.07334215\n",
      "  0.5028546   1.0272384   1.3054031  -1.1094323   0.4379278   0.37579226\n",
      " -1.4193863   0.00463316  0.46160385  0.5330165   0.3620226  -0.42506206\n",
      "  0.3824067   0.00831935  0.34319052  0.8090422   0.14688246  0.34063363\n",
      "  0.29069075  0.09570679  0.0887484  -1.3906347 ]\n",
      "Article 1: https://newsin.us/%E6%8C%AF%E5%8D%8E%E6%95%B0%E6%8D%AE%E5%85%A8%E7%90%83%E8%8C%83%E5%9B%B4%E7%9B%91%E6%8E%A7%E7%BB%86%E8%8A%82%E6%9B%9D%E5%85%89/\n",
      "Article 2: https://www.epochtimes.com/gb/20/9/15/n12404579.htm\n",
      "Article 3: https://www.abc.net.au/chinese/2020-09-14/chinese-data-leak-linked-to-military-names-australians/12661676\n",
      "Article 4: https://www.huaglad.com/zh-tw/aunews/20200916/403169.html\n",
      "Article 5: https://www.wenxuecity.com/news/index.php?act=comment&postid=9861925&channel=news\n",
      "Article 6: https://technews.tw/2020/10/03/personal-details-of-millions-around-world-gathered-by-china-tech-company/\n",
      "Article 7: https://www.dw.com/zh/%E5%B0%8F%E5%BF%83%E6%95%B0%E5%AD%97%E9%9D%A2%E5%8C%85%E5%B1%91%E4%B8%AD%E5%9B%BD%E6%89%93%E5%93%8D%E5%A4%A7%E6%95%B0%E6%8D%AE%E9%97%B4%E8%B0%8D%E6%88%98/a-54930131\n",
      "Article 8: https://www.backchina.com/news/2020/09/15/708988.html\n",
      "Article 9: http://www.bast.net.cn/art/2019/12/25/art_23348_448376.html\n",
      "Article 10: http://wap.redmaplenews.com/sj/26800.html\n",
      "Article 11: https://project-gutenberg.github.io/Pincong/post/185ddd235d7de489ecc7bc6d229a9934/\n",
      "Article 12: https://news.cts.com.tw/dw/international/202009/202009152013872.html\n",
      "Article 13: https://pincong.rocks/article/24129\n",
      "Article 14: http://read01.com/zh-tw/2Kk0ODx.html\n",
      "Article 15: https://6do.news/article/3189712\n",
      "Article 16: https://www.enanyang.my/node/352725\n",
      "Article 17: https://chinadigitaltimes.net/space/%E6%8C%AF%E5%8D%8E%E6%95%B0%E6%8D%AE\n",
      "Article 18: https://www.rfa.org/mandarin/Xinwen/3-09142020103825.html\n",
      "Article 19: https://www.fountmedia.io/article/75492\n",
      "Article 20: https://www.tiaotiaowen.com/articles/bsd8wy\n",
      "Article 21: https://www.voachinese.com/a/zhenhua-data-leak-20200915/5584841.html\n",
      "Article 22: https://www.taiwanjustice.net/2020/09/15/%E8%88%87%E4%B8%AD%E5%9C%8B%E8%A7%A3%E6%94%BE%E8%BB%8D%E5%8F%8A%E6%83%85%E5%A0%B1%E7%B3%BB%E7%B5%B1%E6%9C%89%E9%97%9C%E8%81%AF%E7%9A%84%E6%8C%AF%E8%8F%AF%E6%95%B8%E6%93%9A%E5%BA%AB%E7%9B%A3%E6%8E%A724/\n",
      "Article 23: https://prepona.info/image-collection/%E6%8C%AF%E5%8D%8E%E6%95%B0%E6%8D%AE\n",
      "Article 24: https://www.watchinese.com/article/2020/25175\n",
      "Article 25: https://www.shangyexinzhi.com/article/2025970.html\n",
      "Article 26: https://gnews.org/zh-hant/356177/\n",
      "Article 27: https://zh.wikipedia.org/zh-tw/%E6%B7%B1%E5%9C%B3%E6%8C%AF%E5%8D%8E%E6%95%B0%E6%8D%AE%E4%BF%A1%E6%81%AF%E6%8A%80%E6%9C%AF\n",
      "Article 28: https://vct.news/news/f31dfd48-4f1c-4b6b-a300-f1b74a3af316\n",
      "Article 29: https://www.1688.com.au/world/china/2020/09/15/884698\n",
      "Article 30: https://www.ntdtv.com/gb/2020/09/14/a102940492.html\n",
      "Article 31: https://global.udn.com/global_vision/story/8662/4858718\n",
      "Article 32: https://cms.wj411.com/preview/upload/information/785/202009/infor_detail_2291489.html\n",
      "Article 33: https://news.ltn.com.tw/news/world/breakingnews/3293711\n",
      "Article 34: https://myptt.cc/article/HatePolitics/M.1600215224.A.A36\n",
      "Article 35: https://news.chinanewscenter.com/archives/3748\n",
      "Article 36: https://www.secretchina.com/news/gb/2020/09/16/946335.html\n",
      "Article 37: https://www.voacantonese.com/a/china-foreign-data-collection-20200914/5582504.html\n",
      "Article 38: https://www.soundofhope.org/post/424111\n",
      "Article 39: https://tw.news.yahoo.com/%E4%B8%AD%E5%9C%8B-%E6%8C%AF%E8%8F%AF%E6%95%B8%E6%93%9A-%E8%92%90%E5%85%A8%E7%90%83%E5%80%8B%E8%B3%87-%E9%A9%9A%E8%A6%8B%E9%A6%AC%E8%8B%B1%E4%B9%9D%E7%AD%892%E5%8D%83%E5%8F%B0%E7%81%A3%E5%90%8D%E4%BA%BA-040228555.html\n",
      "Article 40: https://www.aboluowang.com/2020/0915/1500969.html\n",
      "Article 41: https://www.pttweb.cc/bbs/HatePolitics/M.1600215224.A.A36\n",
      "Article 42: https://www.taisounds.com/Global/Top-News/China/uid4739558758\n",
      "Article 43: http://ausnznet.com/news_sql/article_detail.asp?articleID=67613\n",
      "Article 44: https://www.bbc.com/zhongwen/trad/chinese-news-54160466\n",
      "Article 45: https://twitter.com/watchwci/status/1305282854562279425\n",
      "Article 46: https://www.worldjournal.com/wj/story/121345/4876724\n",
      "Article 47: https://futurecity.cw.com.tw/article/1679\n",
      "Article 48: https://tw.appledaily.com/politics/20200920/RA2DTEHKGNCNHHQFUEM7PSZX4M/\n",
      "Article 49: https://rightpoint.site/news-information_warfare-200915/\n",
      "Article 50: https://chinese.efreenews.com/a/da-gongsi-ji240-jingwai-ren-beipuguang\n"
     ]
    }
   ],
   "source": [
    "google_search_rs = pd.read_excel(f'/Users/{user_name}/Downloads/{file_dir}/data/try_1112.xlsx').url.to_list() \n",
    "__get_similarity(google_search_rs, 15, \"振华数据王雪峰情报\")"
   ]
  },
  {
   "cell_type": "markdown",
   "id": "48b63849",
   "metadata": {},
   "source": [
    "## Info Extraction Demo"
   ]
  },
  {
   "cell_type": "code",
   "execution_count": 31,
   "id": "b42565e9",
   "metadata": {},
   "outputs": [
    {
     "name": "stderr",
     "output_type": "stream",
     "text": [
      "/opt/anaconda3/lib/python3.8/site-packages/ipykernel/ipkernel.py:287: DeprecationWarning: `should_run_async` will not call `transform_cell` automatically in the future. Please pass the result to `transformed_cell` argument and any exception that happen during thetransform in `preprocessing_exc_tuple` in IPython 7.17 and above.\n",
      "  and should_run_async(code)\n"
     ]
    },
    {
     "data": {
      "text/html": [
       "<div>\n",
       "<style scoped>\n",
       "    .dataframe tbody tr th:only-of-type {\n",
       "        vertical-align: middle;\n",
       "    }\n",
       "\n",
       "    .dataframe tbody tr th {\n",
       "        vertical-align: top;\n",
       "    }\n",
       "\n",
       "    .dataframe thead th {\n",
       "        text-align: right;\n",
       "    }\n",
       "</style>\n",
       "<table border=\"1\" class=\"dataframe\">\n",
       "  <thead>\n",
       "    <tr style=\"text-align: right;\">\n",
       "      <th></th>\n",
       "      <th>idx</th>\n",
       "      <th>word</th>\n",
       "      <th>score</th>\n",
       "    </tr>\n",
       "  </thead>\n",
       "  <tbody>\n",
       "    <tr>\n",
       "      <th>211</th>\n",
       "      <td>15</td>\n",
       "      <td>鲍尔丁</td>\n",
       "      <td>0.18554</td>\n",
       "    </tr>\n",
       "    <tr>\n",
       "      <th>212</th>\n",
       "      <td>15</td>\n",
       "      <td>运作</td>\n",
       "      <td>0.15294</td>\n",
       "    </tr>\n",
       "    <tr>\n",
       "      <th>213</th>\n",
       "      <td>15</td>\n",
       "      <td>摄像</td>\n",
       "      <td>0.14110</td>\n",
       "    </tr>\n",
       "    <tr>\n",
       "      <th>214</th>\n",
       "      <td>15</td>\n",
       "      <td>红枫林新闻网</td>\n",
       "      <td>0.14110</td>\n",
       "    </tr>\n",
       "    <tr>\n",
       "      <th>215</th>\n",
       "      <td>15</td>\n",
       "      <td>信息技术有限公司</td>\n",
       "      <td>0.12370</td>\n",
       "    </tr>\n",
       "    <tr>\n",
       "      <th>216</th>\n",
       "      <td>15</td>\n",
       "      <td>振华数据</td>\n",
       "      <td>0.11844</td>\n",
       "    </tr>\n",
       "    <tr>\n",
       "      <th>217</th>\n",
       "      <td>15</td>\n",
       "      <td>中国大陆公司</td>\n",
       "      <td>0.11610</td>\n",
       "    </tr>\n",
       "    <tr>\n",
       "      <th>218</th>\n",
       "      <td>15</td>\n",
       "      <td>数据库</td>\n",
       "      <td>0.11054</td>\n",
       "    </tr>\n",
       "    <tr>\n",
       "      <th>219</th>\n",
       "      <td>15</td>\n",
       "      <td>中国共产党。公司</td>\n",
       "      <td>0.10147</td>\n",
       "    </tr>\n",
       "    <tr>\n",
       "      <th>220</th>\n",
       "      <td>15</td>\n",
       "      <td>美国川普政府</td>\n",
       "      <td>0.10147</td>\n",
       "    </tr>\n",
       "    <tr>\n",
       "      <th>221</th>\n",
       "      <td>15</td>\n",
       "      <td>美国IBM公司</td>\n",
       "      <td>0.09110</td>\n",
       "    </tr>\n",
       "    <tr>\n",
       "      <th>222</th>\n",
       "      <td>15</td>\n",
       "      <td>发现</td>\n",
       "      <td>0.07647</td>\n",
       "    </tr>\n",
       "    <tr>\n",
       "      <th>223</th>\n",
       "      <td>15</td>\n",
       "      <td>猜测</td>\n",
       "      <td>0.07647</td>\n",
       "    </tr>\n",
       "    <tr>\n",
       "      <th>224</th>\n",
       "      <td>15</td>\n",
       "      <td>华为公司</td>\n",
       "      <td>0.07647</td>\n",
       "    </tr>\n",
       "    <tr>\n",
       "      <th>225</th>\n",
       "      <td>15</td>\n",
       "      <td>威胁</td>\n",
       "      <td>0.06610</td>\n",
       "    </tr>\n",
       "  </tbody>\n",
       "</table>\n",
       "</div>"
      ],
      "text/plain": [
       "     idx      word    score\n",
       "211   15       鲍尔丁  0.18554\n",
       "212   15        运作  0.15294\n",
       "213   15        摄像  0.14110\n",
       "214   15    红枫林新闻网  0.14110\n",
       "215   15  信息技术有限公司  0.12370\n",
       "216   15      振华数据  0.11844\n",
       "217   15    中国大陆公司  0.11610\n",
       "218   15       数据库  0.11054\n",
       "219   15  中国共产党。公司  0.10147\n",
       "220   15    美国川普政府  0.10147\n",
       "221   15   美国IBM公司  0.09110\n",
       "222   15        发现  0.07647\n",
       "223   15        猜测  0.07647\n",
       "224   15      华为公司  0.07647\n",
       "225   15        威胁  0.06610"
      ]
     },
     "execution_count": 31,
     "metadata": {},
     "output_type": "execute_result"
    }
   ],
   "source": [
    "contexts, articleLength = __get_content_texts(google_search_rs)\n",
    "for_target_page, for_info_extract = __get_named_entities(contexts)\n",
    "df = __get_keywords(for_info_extract, 15)\n",
    "df[df.idx==15]"
   ]
  }
 ],
 "metadata": {
  "kernelspec": {
   "display_name": "Python 3",
   "language": "python",
   "name": "python3"
  },
  "language_info": {
   "codemirror_mode": {
    "name": "ipython",
    "version": 3
   },
   "file_extension": ".py",
   "mimetype": "text/x-python",
   "name": "python",
   "nbconvert_exporter": "python",
   "pygments_lexer": "ipython3",
   "version": "3.7.4"
  },
  "toc": {
   "base_numbering": 1,
   "nav_menu": {
    "height": "190px",
    "width": "258px"
   },
   "number_sections": true,
   "sideBar": true,
   "skip_h1_title": false,
   "title_cell": "Table of Contents",
   "title_sidebar": "Contents",
   "toc_cell": false,
   "toc_position": {
    "height": "calc(100% - 180px)",
    "left": "10px",
    "top": "150px",
    "width": "204px"
   },
   "toc_section_display": true,
   "toc_window_display": false
  }
 },
 "nbformat": 4,
 "nbformat_minor": 5
}
