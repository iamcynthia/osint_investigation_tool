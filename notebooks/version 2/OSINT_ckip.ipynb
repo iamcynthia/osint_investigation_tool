{
 "cells": [
  {
   "cell_type": "markdown",
   "id": "61beffe0",
   "metadata": {},
   "source": [
    "使用 virtual environment 因ckip-transformers所需"
   ]
  },
  {
   "cell_type": "code",
   "execution_count": 1,
   "id": "499c9ac5",
   "metadata": {},
   "outputs": [
    {
     "name": "stderr",
     "output_type": "stream",
     "text": [
      "/opt/anaconda3/envs/tf15/lib/python3.7/site-packages/gensim/similarities/__init__.py:15: UserWarning: The gensim.similarities.levenshtein submodule is disabled, because the optional Levenshtein package <https://pypi.org/project/python-Levenshtein/> is unavailable. Install Levenhstein (e.g. `pip install python-Levenshtein`) to suppress this warning.\n",
      "  warnings.warn(msg)\n"
     ]
    }
   ],
   "source": [
    "import math\n",
    "import os\n",
    "import random\n",
    "import re\n",
    "import time\n",
    "from collections import Counter\n",
    "from contextlib import closing\n",
    "from string import punctuation as enPunc\n",
    "\n",
    "import gensim\n",
    "import numpy as np\n",
    "import pandas as pd\n",
    "import requests\n",
    "from bs4 import BeautifulSoup\n",
    "# from ckiptagger import WS, POS, NER\n",
    "from ckip_transformers.nlp import CkipWordSegmenter, CkipPosTagger, CkipNerChunker\n",
    "from gensim.models.word2vec import Word2Vec\n",
    "# from transformers import (BertTokenizerFast, AutoModel)\n",
    "from opencc import OpenCC\n",
    "from zhon.hanzi import punctuation as zhPunc"
   ]
  },
  {
   "cell_type": "markdown",
   "id": "a2e864ac",
   "metadata": {},
   "source": [
    "## Target Page : V 2.0"
   ]
  },
  {
   "cell_type": "markdown",
   "id": "efda80c7",
   "metadata": {},
   "source": [
    "- input: 某taskId包含之網址\n",
    "- output: 網頁重新排序後之列表\n",
    "---------------------\n",
    "0. (載入)預訓練詞向量\n",
    "1. 爬蟲&資料預處理：爬網頁文章內容、分詞並計算tfidf\n",
    "2. 排序模組：匯入詞向量並進行增量訓練，取得搜尋詞詞向量，取得文件向量並與搜尋詞比較相似性"
   ]
  },
  {
   "cell_type": "code",
   "execution_count": 2,
   "id": "5bc9bca4",
   "metadata": {},
   "outputs": [],
   "source": [
    "user_name = 'csti-user'\n",
    "file_dir = 'OSINT'"
   ]
  },
  {
   "cell_type": "markdown",
   "id": "53da5090",
   "metadata": {},
   "source": [
    "### 爬蟲&資料預處理"
   ]
  },
  {
   "cell_type": "markdown",
   "id": "f99c1837",
   "metadata": {},
   "source": [
    "#### 爬蟲取得網頁內容文章"
   ]
  },
  {
   "cell_type": "code",
   "execution_count": 3,
   "id": "1a2ab373",
   "metadata": {},
   "outputs": [],
   "source": [
    "def __get_content_texts(google_search_rs):\n",
    "    \"\"\"爬蟲取得網頁內容文章\n",
    "    \n",
    "    :param google_search_rs: 特定taskID中所有url\n",
    "    :return context: 網頁文章，以句子分開\n",
    "    \"\"\"\n",
    "    articleLength, context = [], []\n",
    "    for idx, url in enumerate(google_search_rs):\n",
    "#         print(idx +1, url)\n",
    "        try:\n",
    "            with closing(requests.get(url, headers={\n",
    "                \"User-Agent\": \"Mozilla/5.0 (Windows NT 10.0; Win64; x64) \"\n",
    "                \"AppleWebKit/537.36 (KHTML, like Gecko) Chrome/94.0.4606.71 Safari/537.36\"\n",
    "            }, timeout=30, verify=False)) as resp:\n",
    "                if resp.ok and resp.headers.get(\"Content-Type\", \"\").startswith(\"text/html\"):\n",
    "                    soup = BeautifulSoup(resp.content.decode(\"utf-8\", \"ignore\"), \"lxml\")\n",
    "                    if soup.body:\n",
    "                        for tree in soup.find_all([\n",
    "                            \"a\", \"audio\", \"button\", \"head\", \"iframe\", \"img\",\n",
    "                            \"input\", \"link\", \"meta\", \"noscript\", \"object\", \"script\",\n",
    "                            \"select\", \"source\", \"style\", \"textarea\", \"title\", \"video\"\n",
    "                        ]):\n",
    "                            tree.extract()\n",
    "                        if soup.body.find(\"main\"):\n",
    "                            texts = [\n",
    "                                re.sub(r\"[\\xa0\\r\\n\\t\\f\\v ]+\", \" \", text.strip())\n",
    "                                for text in soup.body.find(\"main\").get_text().splitlines()\n",
    "                                if re.search(r\"\\w\", text)\n",
    "                            ]\n",
    "                        else:\n",
    "                            texts = [\n",
    "                                re.sub(r\"[\\xa0\\r\\n\\t\\f\\v ]+\", \" \", text.strip())\n",
    "                                for text in soup.body.get_text().splitlines()\n",
    "                                if re.search(r\"\\w\", text)\n",
    "                            ]\n",
    "            context.append(texts)\n",
    "        except Exception as e:\n",
    "            context.append([\"\"])\n",
    "            print(e)\n",
    "        \n",
    "        length = sum(len(s) for s in texts)          \n",
    "        articleLength.append(length if length != 0 else 0)\n",
    "    \n",
    "    return context, articleLength"
   ]
  },
  {
   "cell_type": "markdown",
   "id": "d38de552",
   "metadata": {},
   "source": [
    "#### 分詞&計算詞頻"
   ]
  },
  {
   "cell_type": "code",
   "execution_count": 8,
   "id": "50b4eb7d",
   "metadata": {},
   "outputs": [],
   "source": [
    "STOPWORD_PATH = f'/Users/{user_name}/Downloads/{file_dir}/stopwords-master/baidu_stopwords.txt'\n",
    "__stopwords = list(\"\\xa0\\r\\n\\t\\f\\v \") + list(enPunc) + list(zhPunc)\n",
    "__converter = OpenCC(\"s2twp.json\")\n",
    "\n",
    "with open(STOPWORD_PATH, \"r\") as f:\n",
    "    lines = f.read().splitlines()\n",
    "    __stopwords.extend(lines)\n",
    "    for line in lines:\n",
    "        __stopwords.append(__converter.convert(line))"
   ]
  },
  {
   "cell_type": "code",
   "execution_count": 10,
   "id": "1f42ee4c",
   "metadata": {},
   "outputs": [],
   "source": [
    "__valid_tags = [\"EVENT\", \"FAC\", \"GPE\", \"LANGUAGE\", \"LAW\", \"LOC\", \"NORP\", \"ORG\", \"PERSON\", \"PRODUCT\", \"WORK_OF_ART\"]\n",
    "\n",
    "### ckip-transformers ###\n",
    "# tokenizer = BertTokenizerFast.from_pretrained('bert-base-chinese')\n",
    "# model = AutoModel.from_pretrained('ckiplab/bert-base-chinese-ner')\n",
    "\n",
    "### ckip-tagger's nlp tool ###\n",
    "# Initialize drivers\n",
    "# ws_driver = CkipWordSegmenter(level=3)\n",
    "# pos_driver = CkipPosTagger(level=3)\n",
    "ner_driver = CkipNerChunker(level=3) #實體辨識\n",
    "\n",
    "# Initialize drivers with custom checkpoints\n",
    "# ws = WS(f'/Users/{user_name}/Downloads/{file_dir}/ckiptagger_data')\n",
    "# pos = POS(f'/Users/{user_name}/Downloads/{file_dir}/ckiptagger_data')\n",
    "# ner = NER(f'/Users/{user_name}/Downloads/{file_dir}/ckiptagger_data')   # word_n = ner(word_s, word_p)\n"
   ]
  },
  {
   "cell_type": "code",
   "execution_count": 15,
   "id": "7406c9dc",
   "metadata": {
    "scrolled": true
   },
   "outputs": [
    {
     "data": {
      "text/html": [
       "<div>\n",
       "<style scoped>\n",
       "    .dataframe tbody tr th:only-of-type {\n",
       "        vertical-align: middle;\n",
       "    }\n",
       "\n",
       "    .dataframe tbody tr th {\n",
       "        vertical-align: top;\n",
       "    }\n",
       "\n",
       "    .dataframe thead th {\n",
       "        text-align: right;\n",
       "    }\n",
       "</style>\n",
       "<table border=\"1\" class=\"dataframe\">\n",
       "  <thead>\n",
       "    <tr style=\"text-align: right;\">\n",
       "      <th></th>\n",
       "      <th>idx</th>\n",
       "      <th>word</th>\n",
       "      <th>score</th>\n",
       "    </tr>\n",
       "  </thead>\n",
       "  <tbody>\n",
       "    <tr>\n",
       "      <th>0</th>\n",
       "      <td>1</td>\n",
       "      <td>伊萬卡</td>\n",
       "      <td>0.44266</td>\n",
       "    </tr>\n",
       "    <tr>\n",
       "      <th>1</th>\n",
       "      <td>1</td>\n",
       "      <td>資訊科技有限公司</td>\n",
       "      <td>0.22133</td>\n",
       "    </tr>\n",
       "    <tr>\n",
       "      <th>2</th>\n",
       "      <td>1</td>\n",
       "      <td>中共</td>\n",
       "      <td>0.20763</td>\n",
       "    </tr>\n",
       "    <tr>\n",
       "      <th>3</th>\n",
       "      <td>1</td>\n",
       "      <td>Twitter</td>\n",
       "      <td>0.15917</td>\n",
       "    </tr>\n",
       "    <tr>\n",
       "      <th>4</th>\n",
       "      <td>1</td>\n",
       "      <td>川普</td>\n",
       "      <td>0.14290</td>\n",
       "    </tr>\n",
       "    <tr>\n",
       "      <th>...</th>\n",
       "      <td>...</td>\n",
       "      <td>...</td>\n",
       "      <td>...</td>\n",
       "    </tr>\n",
       "    <tr>\n",
       "      <th>543</th>\n",
       "      <td>48</td>\n",
       "      <td>振華公司</td>\n",
       "      <td>0.05032</td>\n",
       "    </tr>\n",
       "    <tr>\n",
       "      <th>544</th>\n",
       "      <td>48</td>\n",
       "      <td>振華</td>\n",
       "      <td>0.04844</td>\n",
       "    </tr>\n",
       "    <tr>\n",
       "      <th>545</th>\n",
       "      <td>48</td>\n",
       "      <td>唐家婕</td>\n",
       "      <td>0.04190</td>\n",
       "    </tr>\n",
       "    <tr>\n",
       "      <th>546</th>\n",
       "      <td>48</td>\n",
       "      <td>沈伯洋</td>\n",
       "      <td>0.03886</td>\n",
       "    </tr>\n",
       "    <tr>\n",
       "      <th>547</th>\n",
       "      <td>48</td>\n",
       "      <td>中國資料庫</td>\n",
       "      <td>0.03866</td>\n",
       "    </tr>\n",
       "  </tbody>\n",
       "</table>\n",
       "<p>548 rows × 3 columns</p>\n",
       "</div>"
      ],
      "text/plain": [
       "     idx      word    score\n",
       "0      1       伊萬卡  0.44266\n",
       "1      1  資訊科技有限公司  0.22133\n",
       "2      1        中共  0.20763\n",
       "3      1   Twitter  0.15917\n",
       "4      1        川普  0.14290\n",
       "..   ...       ...      ...\n",
       "543   48      振華公司  0.05032\n",
       "544   48        振華  0.04844\n",
       "545   48       唐家婕  0.04190\n",
       "546   48       沈伯洋  0.03886\n",
       "547   48     中國資料庫  0.03866\n",
       "\n",
       "[548 rows x 3 columns]"
      ]
     },
     "execution_count": 15,
     "metadata": {},
     "output_type": "execute_result"
    }
   ],
   "source": [
    "# google_search_rs = pd.read_excel(f'/Users/{user_name}/Downloads/{file_dir}/data/try_1112.xlsx').url.to_list()\n",
    "# contexts, articleLength = __get_content_texts(google_search_rs)\n",
    "# counters = __get_counters(contexts)\n",
    "tfidfs = __get_tfidfs(counters,15)\n",
    "tfidfs"
   ]
  },
  {
   "cell_type": "code",
   "execution_count": 6,
   "id": "397f18d0",
   "metadata": {},
   "outputs": [],
   "source": [
    "def __get_counters(context):\n",
    "    \"\"\"取得各篇文章詞頻\n",
    "    \n",
    "    :param context: 所有網頁文章(list)\n",
    "    :return counters: 各篇文章詞頻(list)\n",
    "    \"\"\"\n",
    "    counters = []\n",
    "    for idx, doc in enumerate(context):\n",
    "#     print(idx)\n",
    "        df = pd.DataFrame(columns=[\"word\", \"ner\", \"idx\"])\n",
    "        if len(doc) > 1:\n",
    "            text = [__converter.convert(i) for i in doc]\n",
    "            text_ner = ner_driver(text, use_delim=False)\n",
    "            lst = [text_ner[k] for k in range(len(text_ner))]\n",
    "            for k in range(len(lst)):\n",
    "                df = df.append(lst[k], ignore_index=True)\n",
    "            for eachrow in range(len(df)):\n",
    "                if df.ner[eachrow] not in __valid_tags or df.word[eachrow] in __stopwords:\n",
    "                    df = df.drop([eachrow])\n",
    "            counter = Counter(df.word)\n",
    "        else:\n",
    "            counter = Counter(\"\")\n",
    "        counters.append(counter)\n",
    "    return counters"
   ]
  },
  {
   "cell_type": "markdown",
   "id": "d5c2b4dc",
   "metadata": {},
   "source": [
    "#### 計算tfidf"
   ]
  },
  {
   "cell_type": "code",
   "execution_count": 13,
   "id": "ae423454",
   "metadata": {},
   "outputs": [],
   "source": [
    "def __get_tfidfs(counters, top):\n",
    "    \"\"\"取得各篇文章的關鍵字及其透過TF-IDF加權分數的前20名\n",
    "    \n",
    "    :param counters: 各篇文章詞頻\n",
    "    :param top: 前?名\n",
    "    :return 各篇文章的前?名關鍵詞(dataframe)\n",
    "    \"\"\"\n",
    "    def tf(word, counter):\n",
    "        return counter[word] / sum(counter.values())\n",
    "\n",
    "    def idf(word, counters):\n",
    "        return math.log2(len(counters) / sum(1 for counter in counters if word in counter))\n",
    "\n",
    "    data = []\n",
    "    for idx, counter in enumerate(counters):\n",
    "        data.extend([idx, word, round(score, 5)] for word, score in sorted([\n",
    "            (word, tf(word, counter) * idf(word, counters)) for word in counter\n",
    "        ], key=lambda x: x[1], reverse=True)[:top])\n",
    "    \n",
    "    return pd.DataFrame(data, columns=[\"idx\", \"word\", \"score\"])"
   ]
  },
  {
   "cell_type": "markdown",
   "id": "cb585cc4",
   "metadata": {},
   "source": [
    "### 排序模組"
   ]
  },
  {
   "cell_type": "markdown",
   "id": "661a377d",
   "metadata": {},
   "source": [
    "#### 匯入詞向量並進行增量訓練"
   ]
  },
  {
   "cell_type": "code",
   "execution_count": 9,
   "id": "53d4447d",
   "metadata": {},
   "outputs": [],
   "source": [
    "MODEL_PATH = f'/Users/{user_name}/Downloads/{file_dir}/model/api_version/word2vec.model'\n",
    "def __get_trained_model(query, corpus):\n",
    "    \"\"\"詞向量增量訓練\n",
    "\n",
    "    :param query(str): 搜尋詞\n",
    "    :param corpus: 語料庫，預期帶入文章分詞結果集合\n",
    "    :return: 增量訓練後的模型\n",
    "    \"\"\"\n",
    "    if os.path.isfile(MODEL_PATH): #該路徑是否為文件\n",
    "        model = Word2Vec.load(MODEL_PATH)\n",
    "    else:\n",
    "        return None\n",
    "\n",
    "    word_s = ws([query], sentence_segmentation=True, \n",
    "            segment_delimiter_set={'?', '？', '!', '！', '。', ',', '，', ';', ':', '、'})\n",
    "    words = [word for word in word_s[0] if word != ' ']\n",
    "\n",
    "    model.build_vocab(corpus, update=True, trim_rule=lambda word, count, min_count:\n",
    "                      gensim.utils.RULE_KEEP if word in words else gensim.utils.RULE_DEFAULT)\n",
    "    model.train(corpus, total_examples=model.corpus_count, epochs=model.epochs)\n",
    "    model.save(MODEL_PATH)\n",
    "\n",
    "    return model"
   ]
  },
  {
   "cell_type": "markdown",
   "id": "4b329f4c",
   "metadata": {},
   "source": [
    "#### 取得搜尋詞詞向量"
   ]
  },
  {
   "cell_type": "code",
   "execution_count": 10,
   "id": "0e5f85d5",
   "metadata": {},
   "outputs": [],
   "source": [
    "def __get_vector(query, model):\n",
    "    \"\"\"取得搜尋詞及其向量\n",
    "\n",
    "    若詞向量中有此搜尋詞，則取得該詞彙之向量，\n",
    "    若詞向量中無此搜尋詞，則進行分詞，再尋找該詞彙之向量\n",
    "\n",
    "    :param query(str): 搜尋詞\n",
    "    :param model(Word2Vec): 詞向量的相關模型\n",
    "    :return: vector\n",
    "    \"\"\"\n",
    "    try:\n",
    "        vector = model.wv.vectors[model.wv.key_to_index[query]]\n",
    "    except:\n",
    "        word_s = ws([query], sentence_segmentation=True, \n",
    "            segment_delimiter_set={'?', '？', '!', '！', '。', ',', '，', ';', ':', '、'})\n",
    "        words = [word for word in word_s[0] if word != ' ']\n",
    "        vectors = [\n",
    "            model.wv.vectors[model.wv.key_to_index[word]]\n",
    "            for word in words if word not in __stopwords\n",
    "        ]\n",
    "        vector = sum(vectors) / len(vectors)\n",
    "    return vector"
   ]
  },
  {
   "cell_type": "markdown",
   "id": "c080b13e",
   "metadata": {},
   "source": [
    "#### 取得文件向量並與搜尋詞比較相似性"
   ]
  },
  {
   "cell_type": "code",
   "execution_count": 11,
   "id": "9f6b6fe8",
   "metadata": {},
   "outputs": [],
   "source": [
    "# 因python 3.7 math 沒有dist 這個function\n",
    "def get_dist(p, q):\n",
    "    return math.sqrt(sum((px - qx) ** 2.0 for px, qx in zip(p, q)))"
   ]
  },
  {
   "cell_type": "code",
   "execution_count": 12,
   "id": "8be8073b",
   "metadata": {
    "scrolled": true
   },
   "outputs": [],
   "source": [
    "def __get_similarity(google_search_rs, top, query):\n",
    "    contexts, articleLength = __get_content_texts(google_search_rs)\n",
    "    counters = __get_counters(contexts)\n",
    "    tfidfs = __get_tfidfs(counters,top) #所有網頁內容分詞的tfidfs，return dataframe\n",
    "    model = __get_trained_model(query, contexts) #詞向量模型\n",
    "    query_vector = __get_vector(query, model) #搜尋詞的詞向量\n",
    "    \n",
    "    vector = np.zeros(250)\n",
    "    distance, words = [], []\n",
    "    for idx in range(len(google_search_rs)):\n",
    "        for row in tfidfs.loc[tfidfs[\"idx\"] == idx].itertuples():\n",
    "            try:\n",
    "                vector += model.wv.vectors[model.wv.key_to_index[row.word]] * row.score\n",
    "            except:\n",
    "                continue\n",
    "            else:\n",
    "                words.append(row.word)\n",
    "        else:\n",
    "            total = len(words)\n",
    "            distance.append(get_dist(vector if 0 == total else (vector / total), query_vector)) #各篇文章與搜尋詞的相似度\n",
    "\n",
    "    for sort, idx in enumerate(\n",
    "        sorted(range(len(google_search_rs)), key=lambda idx: distance[idx] \n",
    "               if 400 < articleLength[idx] else 100, reverse=False)):\n",
    "        print(\"Article %d: %s\"%(sort+1,google_search_rs[idx]))"
   ]
  },
  {
   "cell_type": "markdown",
   "id": "6838e39a",
   "metadata": {},
   "source": [
    "## Info Extraction: V 2.0 (Api version)"
   ]
  },
  {
   "cell_type": "code",
   "execution_count": 11,
   "id": "dd0123b0",
   "metadata": {},
   "outputs": [],
   "source": [
    "def __get_keywords(counts, top):\n",
    "    keyword_tfidfs = __get_tfidfs(counters,top)\n",
    "    return keyword_tfidfs"
   ]
  },
  {
   "cell_type": "code",
   "execution_count": null,
   "id": "2e14f33c",
   "metadata": {},
   "outputs": [],
   "source": []
  },
  {
   "cell_type": "markdown",
   "id": "e596ffe2",
   "metadata": {},
   "source": [
    "## Target Page Demo"
   ]
  },
  {
   "cell_type": "code",
   "execution_count": 14,
   "id": "123e19a8",
   "metadata": {
    "scrolled": true
   },
   "outputs": [
    {
     "name": "stdout",
     "output_type": "stream",
     "text": [
      "1 https://www.bbc.com/zhongwen/trad/chinese-news-54160466\n"
     ]
    },
    {
     "name": "stderr",
     "output_type": "stream",
     "text": [
      "/opt/anaconda3/envs/tf15/lib/python3.7/site-packages/urllib3/connectionpool.py:1020: InsecureRequestWarning: Unverified HTTPS request is being made to host 'www.bbc.com'. Adding certificate verification is strongly advised. See: https://urllib3.readthedocs.io/en/1.26.x/advanced-usage.html#ssl-warnings\n",
      "  InsecureRequestWarning,\n"
     ]
    },
    {
     "name": "stdout",
     "output_type": "stream",
     "text": [
      "2 https://www.epochtimes.com/gb/20/9/15/n12404579.htm\n"
     ]
    },
    {
     "name": "stderr",
     "output_type": "stream",
     "text": [
      "/opt/anaconda3/envs/tf15/lib/python3.7/site-packages/urllib3/connectionpool.py:1020: InsecureRequestWarning: Unverified HTTPS request is being made to host 'www.epochtimes.com'. Adding certificate verification is strongly advised. See: https://urllib3.readthedocs.io/en/1.26.x/advanced-usage.html#ssl-warnings\n",
      "  InsecureRequestWarning,\n"
     ]
    },
    {
     "name": "stdout",
     "output_type": "stream",
     "text": [
      "3 https://www.abc.net.au/chinese/2020-09-14/chinese-data-leak-linked-to-military-names-australians/12661676\n"
     ]
    },
    {
     "name": "stderr",
     "output_type": "stream",
     "text": [
      "/opt/anaconda3/envs/tf15/lib/python3.7/site-packages/urllib3/connectionpool.py:1020: InsecureRequestWarning: Unverified HTTPS request is being made to host 'www.abc.net.au'. Adding certificate verification is strongly advised. See: https://urllib3.readthedocs.io/en/1.26.x/advanced-usage.html#ssl-warnings\n",
      "  InsecureRequestWarning,\n"
     ]
    },
    {
     "name": "stdout",
     "output_type": "stream",
     "text": [
      "4 https://www.huaglad.com/zh-tw/aunews/20200916/403169.html\n"
     ]
    },
    {
     "name": "stderr",
     "output_type": "stream",
     "text": [
      "/opt/anaconda3/envs/tf15/lib/python3.7/site-packages/urllib3/connectionpool.py:1020: InsecureRequestWarning: Unverified HTTPS request is being made to host 'www.huaglad.com'. Adding certificate verification is strongly advised. See: https://urllib3.readthedocs.io/en/1.26.x/advanced-usage.html#ssl-warnings\n",
      "  InsecureRequestWarning,\n"
     ]
    },
    {
     "name": "stdout",
     "output_type": "stream",
     "text": [
      "5 https://newsin.us/%E6%8C%AF%E5%8D%8E%E6%95%B0%E6%8D%AE%E5%85%A8%E7%90%83%E8%8C%83%E5%9B%B4%E7%9B%91%E6%8E%A7%E7%BB%86%E8%8A%82%E6%9B%9D%E5%85%89/\n"
     ]
    },
    {
     "name": "stderr",
     "output_type": "stream",
     "text": [
      "/opt/anaconda3/envs/tf15/lib/python3.7/site-packages/urllib3/connectionpool.py:1020: InsecureRequestWarning: Unverified HTTPS request is being made to host 'newsin.us'. Adding certificate verification is strongly advised. See: https://urllib3.readthedocs.io/en/1.26.x/advanced-usage.html#ssl-warnings\n",
      "  InsecureRequestWarning,\n"
     ]
    },
    {
     "name": "stdout",
     "output_type": "stream",
     "text": [
      "6 https://www.ntdtv.com/gb/2020/09/14/a102940492.html\n"
     ]
    },
    {
     "name": "stderr",
     "output_type": "stream",
     "text": [
      "/opt/anaconda3/envs/tf15/lib/python3.7/site-packages/urllib3/connectionpool.py:1020: InsecureRequestWarning: Unverified HTTPS request is being made to host 'www.ntdtv.com'. Adding certificate verification is strongly advised. See: https://urllib3.readthedocs.io/en/1.26.x/advanced-usage.html#ssl-warnings\n",
      "  InsecureRequestWarning,\n"
     ]
    },
    {
     "name": "stdout",
     "output_type": "stream",
     "text": [
      "7 https://twitter.com/watchwci/status/1305282854562279425\n"
     ]
    },
    {
     "name": "stderr",
     "output_type": "stream",
     "text": [
      "/opt/anaconda3/envs/tf15/lib/python3.7/site-packages/urllib3/connectionpool.py:1020: InsecureRequestWarning: Unverified HTTPS request is being made to host 'twitter.com'. Adding certificate verification is strongly advised. See: https://urllib3.readthedocs.io/en/1.26.x/advanced-usage.html#ssl-warnings\n",
      "  InsecureRequestWarning,\n"
     ]
    },
    {
     "name": "stdout",
     "output_type": "stream",
     "text": [
      "8 https://global.udn.com/global_vision/story/8662/4858718\n"
     ]
    },
    {
     "name": "stderr",
     "output_type": "stream",
     "text": [
      "/opt/anaconda3/envs/tf15/lib/python3.7/site-packages/urllib3/connectionpool.py:1020: InsecureRequestWarning: Unverified HTTPS request is being made to host 'global.udn.com'. Adding certificate verification is strongly advised. See: https://urllib3.readthedocs.io/en/1.26.x/advanced-usage.html#ssl-warnings\n",
      "  InsecureRequestWarning,\n"
     ]
    },
    {
     "name": "stdout",
     "output_type": "stream",
     "text": [
      "9 https://gnews.org/zh-hant/356177/\n"
     ]
    },
    {
     "name": "stderr",
     "output_type": "stream",
     "text": [
      "/opt/anaconda3/envs/tf15/lib/python3.7/site-packages/urllib3/connectionpool.py:1020: InsecureRequestWarning: Unverified HTTPS request is being made to host 'gnews.org'. Adding certificate verification is strongly advised. See: https://urllib3.readthedocs.io/en/1.26.x/advanced-usage.html#ssl-warnings\n",
      "  InsecureRequestWarning,\n"
     ]
    },
    {
     "name": "stdout",
     "output_type": "stream",
     "text": [
      "10 https://www.enanyang.my/node/352725\n"
     ]
    },
    {
     "name": "stderr",
     "output_type": "stream",
     "text": [
      "/opt/anaconda3/envs/tf15/lib/python3.7/site-packages/urllib3/connectionpool.py:1020: InsecureRequestWarning: Unverified HTTPS request is being made to host 'www.enanyang.my'. Adding certificate verification is strongly advised. See: https://urllib3.readthedocs.io/en/1.26.x/advanced-usage.html#ssl-warnings\n",
      "  InsecureRequestWarning,\n",
      "/opt/anaconda3/envs/tf15/lib/python3.7/site-packages/urllib3/connectionpool.py:1020: InsecureRequestWarning: Unverified HTTPS request is being made to host 'www.enanyang.my'. Adding certificate verification is strongly advised. See: https://urllib3.readthedocs.io/en/1.26.x/advanced-usage.html#ssl-warnings\n",
      "  InsecureRequestWarning,\n"
     ]
    },
    {
     "name": "stdout",
     "output_type": "stream",
     "text": [
      "11 https://www.rfa.org/mandarin/Xinwen/3-09142020103825.html\n"
     ]
    },
    {
     "name": "stderr",
     "output_type": "stream",
     "text": [
      "/opt/anaconda3/envs/tf15/lib/python3.7/site-packages/urllib3/connectionpool.py:1020: InsecureRequestWarning: Unverified HTTPS request is being made to host 'www.rfa.org'. Adding certificate verification is strongly advised. See: https://urllib3.readthedocs.io/en/1.26.x/advanced-usage.html#ssl-warnings\n",
      "  InsecureRequestWarning,\n"
     ]
    },
    {
     "name": "stdout",
     "output_type": "stream",
     "text": [
      "12 https://zh.wikipedia.org/zh-tw/%E6%B7%B1%E5%9C%B3%E6%8C%AF%E5%8D%8E%E6%95%B0%E6%8D%AE%E4%BF%A1%E6%81%AF%E6%8A%80%E6%9C%AF\n"
     ]
    },
    {
     "name": "stderr",
     "output_type": "stream",
     "text": [
      "/opt/anaconda3/envs/tf15/lib/python3.7/site-packages/urllib3/connectionpool.py:1020: InsecureRequestWarning: Unverified HTTPS request is being made to host 'zh.wikipedia.org'. Adding certificate verification is strongly advised. See: https://urllib3.readthedocs.io/en/1.26.x/advanced-usage.html#ssl-warnings\n",
      "  InsecureRequestWarning,\n"
     ]
    },
    {
     "name": "stdout",
     "output_type": "stream",
     "text": [
      "13 https://www.wenxuecity.com/news/index.php?act=comment&postid=9861925&channel=news\n"
     ]
    },
    {
     "name": "stderr",
     "output_type": "stream",
     "text": [
      "/opt/anaconda3/envs/tf15/lib/python3.7/site-packages/urllib3/connectionpool.py:1020: InsecureRequestWarning: Unverified HTTPS request is being made to host 'www.wenxuecity.com'. Adding certificate verification is strongly advised. See: https://urllib3.readthedocs.io/en/1.26.x/advanced-usage.html#ssl-warnings\n",
      "  InsecureRequestWarning,\n"
     ]
    },
    {
     "name": "stdout",
     "output_type": "stream",
     "text": [
      "14 https://www.dw.com/zh/%E5%B0%8F%E5%BF%83%E6%95%B0%E5%AD%97%E9%9D%A2%E5%8C%85%E5%B1%91%E4%B8%AD%E5%9B%BD%E6%89%93%E5%93%8D%E5%A4%A7%E6%95%B0%E6%8D%AE%E9%97%B4%E8%B0%8D%E6%88%98/a-54930131\n"
     ]
    },
    {
     "name": "stderr",
     "output_type": "stream",
     "text": [
      "/opt/anaconda3/envs/tf15/lib/python3.7/site-packages/urllib3/connectionpool.py:1020: InsecureRequestWarning: Unverified HTTPS request is being made to host 'www.dw.com'. Adding certificate verification is strongly advised. See: https://urllib3.readthedocs.io/en/1.26.x/advanced-usage.html#ssl-warnings\n",
      "  InsecureRequestWarning,\n"
     ]
    },
    {
     "name": "stdout",
     "output_type": "stream",
     "text": [
      "15 https://www.voachinese.com/a/zhenhua-data-leak-20200915/5584841.html\n"
     ]
    },
    {
     "name": "stderr",
     "output_type": "stream",
     "text": [
      "/opt/anaconda3/envs/tf15/lib/python3.7/site-packages/urllib3/connectionpool.py:1020: InsecureRequestWarning: Unverified HTTPS request is being made to host 'www.voachinese.com'. Adding certificate verification is strongly advised. See: https://urllib3.readthedocs.io/en/1.26.x/advanced-usage.html#ssl-warnings\n",
      "  InsecureRequestWarning,\n"
     ]
    },
    {
     "name": "stdout",
     "output_type": "stream",
     "text": [
      "16 http://wap.redmaplenews.com/sj/26800.html\n",
      "17 https://www.taiwanjustice.net/2020/09/15/%E8%88%87%E4%B8%AD%E5%9C%8B%E8%A7%A3%E6%94%BE%E8%BB%8D%E5%8F%8A%E6%83%85%E5%A0%B1%E7%B3%BB%E7%B5%B1%E6%9C%89%E9%97%9C%E8%81%AF%E7%9A%84%E6%8C%AF%E8%8F%AF%E6%95%B8%E6%93%9A%E5%BA%AB%E7%9B%A3%E6%8E%A724/\n"
     ]
    },
    {
     "name": "stderr",
     "output_type": "stream",
     "text": [
      "/opt/anaconda3/envs/tf15/lib/python3.7/site-packages/urllib3/connectionpool.py:1020: InsecureRequestWarning: Unverified HTTPS request is being made to host 'www.taiwanjustice.net'. Adding certificate verification is strongly advised. See: https://urllib3.readthedocs.io/en/1.26.x/advanced-usage.html#ssl-warnings\n",
      "  InsecureRequestWarning,\n"
     ]
    },
    {
     "name": "stdout",
     "output_type": "stream",
     "text": [
      "18 https://prepona.info/image-collection/%E6%8C%AF%E5%8D%8E%E6%95%B0%E6%8D%AE\n"
     ]
    },
    {
     "name": "stderr",
     "output_type": "stream",
     "text": [
      "/opt/anaconda3/envs/tf15/lib/python3.7/site-packages/urllib3/connectionpool.py:1020: InsecureRequestWarning: Unverified HTTPS request is being made to host 'prepona.info'. Adding certificate verification is strongly advised. See: https://urllib3.readthedocs.io/en/1.26.x/advanced-usage.html#ssl-warnings\n",
      "  InsecureRequestWarning,\n"
     ]
    },
    {
     "name": "stdout",
     "output_type": "stream",
     "text": [
      "19 https://news.ltn.com.tw/news/world/breakingnews/3293711\n"
     ]
    },
    {
     "name": "stderr",
     "output_type": "stream",
     "text": [
      "/opt/anaconda3/envs/tf15/lib/python3.7/site-packages/urllib3/connectionpool.py:1020: InsecureRequestWarning: Unverified HTTPS request is being made to host 'news.ltn.com.tw'. Adding certificate verification is strongly advised. See: https://urllib3.readthedocs.io/en/1.26.x/advanced-usage.html#ssl-warnings\n",
      "  InsecureRequestWarning,\n"
     ]
    },
    {
     "name": "stdout",
     "output_type": "stream",
     "text": [
      "20 https://www.soundofhope.org/post/424111\n"
     ]
    },
    {
     "name": "stderr",
     "output_type": "stream",
     "text": [
      "/opt/anaconda3/envs/tf15/lib/python3.7/site-packages/urllib3/connectionpool.py:1020: InsecureRequestWarning: Unverified HTTPS request is being made to host 'www.soundofhope.org'. Adding certificate verification is strongly advised. See: https://urllib3.readthedocs.io/en/1.26.x/advanced-usage.html#ssl-warnings\n",
      "  InsecureRequestWarning,\n"
     ]
    },
    {
     "name": "stdout",
     "output_type": "stream",
     "text": [
      "21 http://www.bast.net.cn/art/2019/12/25/art_23348_448376.html\n"
     ]
    },
    {
     "name": "stderr",
     "output_type": "stream",
     "text": [
      "/opt/anaconda3/envs/tf15/lib/python3.7/site-packages/urllib3/connectionpool.py:1020: InsecureRequestWarning: Unverified HTTPS request is being made to host 'www.bast.net.cn'. Adding certificate verification is strongly advised. See: https://urllib3.readthedocs.io/en/1.26.x/advanced-usage.html#ssl-warnings\n",
      "  InsecureRequestWarning,\n"
     ]
    },
    {
     "name": "stdout",
     "output_type": "stream",
     "text": [
      "22 https://chinadigitaltimes.net/space/%E6%8C%AF%E5%8D%8E%E6%95%B0%E6%8D%AE\n"
     ]
    },
    {
     "name": "stderr",
     "output_type": "stream",
     "text": [
      "/opt/anaconda3/envs/tf15/lib/python3.7/site-packages/urllib3/connectionpool.py:1020: InsecureRequestWarning: Unverified HTTPS request is being made to host 'chinadigitaltimes.net'. Adding certificate verification is strongly advised. See: https://urllib3.readthedocs.io/en/1.26.x/advanced-usage.html#ssl-warnings\n",
      "  InsecureRequestWarning,\n"
     ]
    },
    {
     "name": "stdout",
     "output_type": "stream",
     "text": [
      "23 https://www.watchinese.com/article/2020/25175\n"
     ]
    },
    {
     "name": "stderr",
     "output_type": "stream",
     "text": [
      "/opt/anaconda3/envs/tf15/lib/python3.7/site-packages/urllib3/connectionpool.py:1020: InsecureRequestWarning: Unverified HTTPS request is being made to host 'www.watchinese.com'. Adding certificate verification is strongly advised. See: https://urllib3.readthedocs.io/en/1.26.x/advanced-usage.html#ssl-warnings\n",
      "  InsecureRequestWarning,\n"
     ]
    },
    {
     "name": "stdout",
     "output_type": "stream",
     "text": [
      "24 https://www.worldjournal.com/wj/story/121345/4876724\n"
     ]
    },
    {
     "name": "stderr",
     "output_type": "stream",
     "text": [
      "/opt/anaconda3/envs/tf15/lib/python3.7/site-packages/urllib3/connectionpool.py:1020: InsecureRequestWarning: Unverified HTTPS request is being made to host 'www.worldjournal.com'. Adding certificate verification is strongly advised. See: https://urllib3.readthedocs.io/en/1.26.x/advanced-usage.html#ssl-warnings\n",
      "  InsecureRequestWarning,\n",
      "/opt/anaconda3/envs/tf15/lib/python3.7/site-packages/urllib3/connectionpool.py:1020: InsecureRequestWarning: Unverified HTTPS request is being made to host 'www.worldjournal.com'. Adding certificate verification is strongly advised. See: https://urllib3.readthedocs.io/en/1.26.x/advanced-usage.html#ssl-warnings\n",
      "  InsecureRequestWarning,\n"
     ]
    },
    {
     "name": "stdout",
     "output_type": "stream",
     "text": [
      "25 https://futurecity.cw.com.tw/article/1679\n"
     ]
    },
    {
     "name": "stderr",
     "output_type": "stream",
     "text": [
      "/opt/anaconda3/envs/tf15/lib/python3.7/site-packages/urllib3/connectionpool.py:1020: InsecureRequestWarning: Unverified HTTPS request is being made to host 'futurecity.cw.com.tw'. Adding certificate verification is strongly advised. See: https://urllib3.readthedocs.io/en/1.26.x/advanced-usage.html#ssl-warnings\n",
      "  InsecureRequestWarning,\n"
     ]
    },
    {
     "name": "stdout",
     "output_type": "stream",
     "text": [
      "26 https://technews.tw/2020/10/03/personal-details-of-millions-around-world-gathered-by-china-tech-company/\n",
      "27 https://tw.appledaily.com/politics/20200920/RA2DTEHKGNCNHHQFUEM7PSZX4M/\n"
     ]
    },
    {
     "name": "stderr",
     "output_type": "stream",
     "text": [
      "/opt/anaconda3/envs/tf15/lib/python3.7/site-packages/urllib3/connectionpool.py:1020: InsecureRequestWarning: Unverified HTTPS request is being made to host 'technews.tw'. Adding certificate verification is strongly advised. See: https://urllib3.readthedocs.io/en/1.26.x/advanced-usage.html#ssl-warnings\n",
      "  InsecureRequestWarning,\n",
      "/opt/anaconda3/envs/tf15/lib/python3.7/site-packages/urllib3/connectionpool.py:1020: InsecureRequestWarning: Unverified HTTPS request is being made to host 'tw.appledaily.com'. Adding certificate verification is strongly advised. See: https://urllib3.readthedocs.io/en/1.26.x/advanced-usage.html#ssl-warnings\n",
      "  InsecureRequestWarning,\n"
     ]
    },
    {
     "name": "stdout",
     "output_type": "stream",
     "text": [
      "28 https://www.backchina.com/news/2020/09/15/708988.html\n"
     ]
    },
    {
     "name": "stderr",
     "output_type": "stream",
     "text": [
      "/opt/anaconda3/envs/tf15/lib/python3.7/site-packages/urllib3/connectionpool.py:1020: InsecureRequestWarning: Unverified HTTPS request is being made to host 'www.backchina.com'. Adding certificate verification is strongly advised. See: https://urllib3.readthedocs.io/en/1.26.x/advanced-usage.html#ssl-warnings\n",
      "  InsecureRequestWarning,\n"
     ]
    },
    {
     "name": "stdout",
     "output_type": "stream",
     "text": [
      "29 https://project-gutenberg.github.io/Pincong/post/185ddd235d7de489ecc7bc6d229a9934/\n"
     ]
    },
    {
     "name": "stderr",
     "output_type": "stream",
     "text": [
      "/opt/anaconda3/envs/tf15/lib/python3.7/site-packages/urllib3/connectionpool.py:1020: InsecureRequestWarning: Unverified HTTPS request is being made to host 'project-gutenberg.github.io'. Adding certificate verification is strongly advised. See: https://urllib3.readthedocs.io/en/1.26.x/advanced-usage.html#ssl-warnings\n",
      "  InsecureRequestWarning,\n"
     ]
    },
    {
     "name": "stdout",
     "output_type": "stream",
     "text": [
      "30 https://news.cts.com.tw/dw/international/202009/202009152013872.html\n",
      "31 https://pincong.rocks/article/24129\n"
     ]
    },
    {
     "name": "stderr",
     "output_type": "stream",
     "text": [
      "/opt/anaconda3/envs/tf15/lib/python3.7/site-packages/urllib3/connectionpool.py:1020: InsecureRequestWarning: Unverified HTTPS request is being made to host 'news.cts.com.tw'. Adding certificate verification is strongly advised. See: https://urllib3.readthedocs.io/en/1.26.x/advanced-usage.html#ssl-warnings\n",
      "  InsecureRequestWarning,\n",
      "/opt/anaconda3/envs/tf15/lib/python3.7/site-packages/urllib3/connectionpool.py:1020: InsecureRequestWarning: Unverified HTTPS request is being made to host 'pincong.rocks'. Adding certificate verification is strongly advised. See: https://urllib3.readthedocs.io/en/1.26.x/advanced-usage.html#ssl-warnings\n",
      "  InsecureRequestWarning,\n"
     ]
    },
    {
     "name": "stdout",
     "output_type": "stream",
     "text": [
      "32 http://read01.com/zh-tw/2Kk0ODx.html\n"
     ]
    },
    {
     "name": "stderr",
     "output_type": "stream",
     "text": [
      "/opt/anaconda3/envs/tf15/lib/python3.7/site-packages/urllib3/connectionpool.py:1020: InsecureRequestWarning: Unverified HTTPS request is being made to host 'read01.com'. Adding certificate verification is strongly advised. See: https://urllib3.readthedocs.io/en/1.26.x/advanced-usage.html#ssl-warnings\n",
      "  InsecureRequestWarning,\n"
     ]
    },
    {
     "name": "stdout",
     "output_type": "stream",
     "text": [
      "33 https://www.fountmedia.io/article/75492\n"
     ]
    },
    {
     "name": "stderr",
     "output_type": "stream",
     "text": [
      "/opt/anaconda3/envs/tf15/lib/python3.7/site-packages/urllib3/connectionpool.py:1020: InsecureRequestWarning: Unverified HTTPS request is being made to host 'www.fountmedia.io'. Adding certificate verification is strongly advised. See: https://urllib3.readthedocs.io/en/1.26.x/advanced-usage.html#ssl-warnings\n",
      "  InsecureRequestWarning,\n"
     ]
    },
    {
     "name": "stdout",
     "output_type": "stream",
     "text": [
      "34 https://www.secretchina.com/news/gb/2020/09/16/946335.html\n"
     ]
    },
    {
     "name": "stderr",
     "output_type": "stream",
     "text": [
      "/opt/anaconda3/envs/tf15/lib/python3.7/site-packages/urllib3/connectionpool.py:1020: InsecureRequestWarning: Unverified HTTPS request is being made to host 'www.secretchina.com'. Adding certificate verification is strongly advised. See: https://urllib3.readthedocs.io/en/1.26.x/advanced-usage.html#ssl-warnings\n",
      "  InsecureRequestWarning,\n"
     ]
    },
    {
     "name": "stdout",
     "output_type": "stream",
     "text": [
      "35 https://www.shangyexinzhi.com/article/2025970.html\n"
     ]
    },
    {
     "name": "stderr",
     "output_type": "stream",
     "text": [
      "/opt/anaconda3/envs/tf15/lib/python3.7/site-packages/urllib3/connectionpool.py:1020: InsecureRequestWarning: Unverified HTTPS request is being made to host 'www.shangyexinzhi.com'. Adding certificate verification is strongly advised. See: https://urllib3.readthedocs.io/en/1.26.x/advanced-usage.html#ssl-warnings\n",
      "  InsecureRequestWarning,\n"
     ]
    },
    {
     "name": "stdout",
     "output_type": "stream",
     "text": [
      "36 https://6do.news/article/3189712\n"
     ]
    },
    {
     "name": "stderr",
     "output_type": "stream",
     "text": [
      "/opt/anaconda3/envs/tf15/lib/python3.7/site-packages/urllib3/connectionpool.py:1020: InsecureRequestWarning: Unverified HTTPS request is being made to host '6do.news'. Adding certificate verification is strongly advised. See: https://urllib3.readthedocs.io/en/1.26.x/advanced-usage.html#ssl-warnings\n",
      "  InsecureRequestWarning,\n"
     ]
    },
    {
     "name": "stdout",
     "output_type": "stream",
     "text": [
      "37 https://www.tiaotiaowen.com/articles/bsd8wy\n"
     ]
    },
    {
     "name": "stderr",
     "output_type": "stream",
     "text": [
      "/opt/anaconda3/envs/tf15/lib/python3.7/site-packages/urllib3/connectionpool.py:1020: InsecureRequestWarning: Unverified HTTPS request is being made to host 'www.tiaotiaowen.com'. Adding certificate verification is strongly advised. See: https://urllib3.readthedocs.io/en/1.26.x/advanced-usage.html#ssl-warnings\n",
      "  InsecureRequestWarning,\n"
     ]
    },
    {
     "name": "stdout",
     "output_type": "stream",
     "text": [
      "38 https://www.1688.com.au/world/china/2020/09/15/884698\n"
     ]
    },
    {
     "name": "stderr",
     "output_type": "stream",
     "text": [
      "/opt/anaconda3/envs/tf15/lib/python3.7/site-packages/urllib3/connectionpool.py:1020: InsecureRequestWarning: Unverified HTTPS request is being made to host 'www.1688.com.au'. Adding certificate verification is strongly advised. See: https://urllib3.readthedocs.io/en/1.26.x/advanced-usage.html#ssl-warnings\n",
      "  InsecureRequestWarning,\n"
     ]
    },
    {
     "name": "stdout",
     "output_type": "stream",
     "text": [
      "39 https://vct.news/news/f31dfd48-4f1c-4b6b-a300-f1b74a3af316\n"
     ]
    },
    {
     "name": "stderr",
     "output_type": "stream",
     "text": [
      "/opt/anaconda3/envs/tf15/lib/python3.7/site-packages/urllib3/connectionpool.py:1020: InsecureRequestWarning: Unverified HTTPS request is being made to host 'vct.news'. Adding certificate verification is strongly advised. See: https://urllib3.readthedocs.io/en/1.26.x/advanced-usage.html#ssl-warnings\n",
      "  InsecureRequestWarning,\n"
     ]
    },
    {
     "name": "stdout",
     "output_type": "stream",
     "text": [
      "40 https://cms.wj411.com/preview/upload/information/785/202009/infor_detail_2291489.html\n"
     ]
    },
    {
     "name": "stderr",
     "output_type": "stream",
     "text": [
      "/opt/anaconda3/envs/tf15/lib/python3.7/site-packages/urllib3/connectionpool.py:1020: InsecureRequestWarning: Unverified HTTPS request is being made to host 'cms.wj411.com'. Adding certificate verification is strongly advised. See: https://urllib3.readthedocs.io/en/1.26.x/advanced-usage.html#ssl-warnings\n",
      "  InsecureRequestWarning,\n"
     ]
    },
    {
     "name": "stdout",
     "output_type": "stream",
     "text": [
      "41 https://myptt.cc/article/HatePolitics/M.1600215224.A.A36\n"
     ]
    },
    {
     "name": "stderr",
     "output_type": "stream",
     "text": [
      "/opt/anaconda3/envs/tf15/lib/python3.7/site-packages/urllib3/connectionpool.py:1020: InsecureRequestWarning: Unverified HTTPS request is being made to host 'myptt.cc'. Adding certificate verification is strongly advised. See: https://urllib3.readthedocs.io/en/1.26.x/advanced-usage.html#ssl-warnings\n",
      "  InsecureRequestWarning,\n"
     ]
    },
    {
     "name": "stdout",
     "output_type": "stream",
     "text": [
      "42 https://www.voacantonese.com/a/china-foreign-data-collection-20200914/5582504.html\n"
     ]
    },
    {
     "name": "stderr",
     "output_type": "stream",
     "text": [
      "/opt/anaconda3/envs/tf15/lib/python3.7/site-packages/urllib3/connectionpool.py:1020: InsecureRequestWarning: Unverified HTTPS request is being made to host 'www.voacantonese.com'. Adding certificate verification is strongly advised. See: https://urllib3.readthedocs.io/en/1.26.x/advanced-usage.html#ssl-warnings\n",
      "  InsecureRequestWarning,\n"
     ]
    },
    {
     "name": "stdout",
     "output_type": "stream",
     "text": [
      "43 https://www.aboluowang.com/2020/0915/1500969.html\n"
     ]
    },
    {
     "name": "stderr",
     "output_type": "stream",
     "text": [
      "/opt/anaconda3/envs/tf15/lib/python3.7/site-packages/urllib3/connectionpool.py:1020: InsecureRequestWarning: Unverified HTTPS request is being made to host 'www.aboluowang.com'. Adding certificate verification is strongly advised. See: https://urllib3.readthedocs.io/en/1.26.x/advanced-usage.html#ssl-warnings\n",
      "  InsecureRequestWarning,\n"
     ]
    },
    {
     "name": "stdout",
     "output_type": "stream",
     "text": [
      "44 https://www.pttweb.cc/bbs/HatePolitics/M.1600215224.A.A36\n"
     ]
    },
    {
     "name": "stderr",
     "output_type": "stream",
     "text": [
      "/opt/anaconda3/envs/tf15/lib/python3.7/site-packages/urllib3/connectionpool.py:1020: InsecureRequestWarning: Unverified HTTPS request is being made to host 'www.pttweb.cc'. Adding certificate verification is strongly advised. See: https://urllib3.readthedocs.io/en/1.26.x/advanced-usage.html#ssl-warnings\n",
      "  InsecureRequestWarning,\n"
     ]
    },
    {
     "name": "stdout",
     "output_type": "stream",
     "text": [
      "45 https://news.chinanewscenter.com/archives/3748\n",
      "('Connection aborted.', ConnectionResetError(54, 'Connection reset by peer'))\n",
      "46 https://rightpoint.site/news-information_warfare-200915/\n"
     ]
    },
    {
     "name": "stderr",
     "output_type": "stream",
     "text": [
      "/opt/anaconda3/envs/tf15/lib/python3.7/site-packages/urllib3/connectionpool.py:1020: InsecureRequestWarning: Unverified HTTPS request is being made to host 'rightpoint.site'. Adding certificate verification is strongly advised. See: https://urllib3.readthedocs.io/en/1.26.x/advanced-usage.html#ssl-warnings\n",
      "  InsecureRequestWarning,\n"
     ]
    },
    {
     "name": "stdout",
     "output_type": "stream",
     "text": [
      "47 https://chinese.efreenews.com/a/da-gongsi-ji240-jingwai-ren-beipuguang\n"
     ]
    },
    {
     "name": "stderr",
     "output_type": "stream",
     "text": [
      "/opt/anaconda3/envs/tf15/lib/python3.7/site-packages/urllib3/connectionpool.py:1020: InsecureRequestWarning: Unverified HTTPS request is being made to host 'chinese.efreenews.com'. Adding certificate verification is strongly advised. See: https://urllib3.readthedocs.io/en/1.26.x/advanced-usage.html#ssl-warnings\n",
      "  InsecureRequestWarning,\n"
     ]
    },
    {
     "name": "stdout",
     "output_type": "stream",
     "text": [
      "48 https://tw.news.yahoo.com/%E4%B8%AD%E5%9C%8B-%E6%8C%AF%E8%8F%AF%E6%95%B8%E6%93%9A-%E8%92%90%E5%85%A8%E7%90%83%E5%80%8B%E8%B3%87-%E9%A9%9A%E8%A6%8B%E9%A6%AC%E8%8B%B1%E4%B9%9D%E7%AD%892%E5%8D%83%E5%8F%B0%E7%81%A3%E5%90%8D%E4%BA%BA-040228555.html\n"
     ]
    },
    {
     "name": "stderr",
     "output_type": "stream",
     "text": [
      "/opt/anaconda3/envs/tf15/lib/python3.7/site-packages/urllib3/connectionpool.py:1020: InsecureRequestWarning: Unverified HTTPS request is being made to host 'tw.news.yahoo.com'. Adding certificate verification is strongly advised. See: https://urllib3.readthedocs.io/en/1.26.x/advanced-usage.html#ssl-warnings\n",
      "  InsecureRequestWarning,\n"
     ]
    },
    {
     "name": "stdout",
     "output_type": "stream",
     "text": [
      "49 https://www.taisounds.com/Global/Top-News/China/uid4739558758\n"
     ]
    },
    {
     "name": "stderr",
     "output_type": "stream",
     "text": [
      "/opt/anaconda3/envs/tf15/lib/python3.7/site-packages/urllib3/connectionpool.py:1020: InsecureRequestWarning: Unverified HTTPS request is being made to host 'www.taisounds.com'. Adding certificate verification is strongly advised. See: https://urllib3.readthedocs.io/en/1.26.x/advanced-usage.html#ssl-warnings\n",
      "  InsecureRequestWarning,\n"
     ]
    },
    {
     "name": "stdout",
     "output_type": "stream",
     "text": [
      "50 http://ausnznet.com/news_sql/article_detail.asp?articleID=67613\n"
     ]
    },
    {
     "name": "stderr",
     "output_type": "stream",
     "text": [
      "Tokenization: 100%|██████████████████████████| 53/53 [00:00<00:00, 14552.12it/s]\n",
      "Inference: 100%|██████████████████████████████████| 1/1 [01:15<00:00, 75.42s/it]\n",
      "Tokenization: 100%|████████████████████████████| 91/91 [00:00<00:00, 422.96it/s]\n",
      "Inference: 100%|█████████████████████████████████| 1/1 [02:21<00:00, 141.81s/it]\n",
      "Tokenization: 100%|██████████████████████████| 50/50 [00:00<00:00, 10078.59it/s]\n",
      "Inference: 100%|██████████████████████████████████| 1/1 [00:34<00:00, 34.64s/it]\n",
      "Tokenization: 100%|██████████████████████████| 34/34 [00:00<00:00, 11938.58it/s]\n",
      "Inference: 100%|██████████████████████████████████| 1/1 [00:18<00:00, 18.48s/it]\n",
      "Tokenization: 100%|███████████████████████████| 49/49 [00:00<00:00, 6666.91it/s]\n",
      "Inference: 100%|██████████████████████████████████| 1/1 [00:34<00:00, 34.77s/it]\n",
      "Tokenization: 100%|███████████████████████████| 47/47 [00:00<00:00, 8400.05it/s]\n",
      "Inference: 100%|██████████████████████████████████| 1/1 [00:44<00:00, 44.02s/it]\n",
      "Tokenization: 100%|██████████████████████████| 48/48 [00:00<00:00, 29843.85it/s]\n",
      "Inference: 100%|██████████████████████████████████| 1/1 [00:07<00:00,  7.04s/it]\n",
      "Tokenization: 100%|██████████████████████████| 18/18 [00:00<00:00, 15332.55it/s]\n",
      "Inference: 100%|██████████████████████████████████| 1/1 [00:05<00:00,  5.26s/it]\n",
      "Tokenization: 100%|██████████████████████████| 35/35 [00:00<00:00, 16309.37it/s]\n",
      "Inference: 100%|██████████████████████████████████| 1/1 [00:11<00:00, 11.72s/it]\n",
      "Tokenization: 100%|██████████████████████████| 97/97 [00:00<00:00, 19113.38it/s]\n",
      "Inference: 100%|██████████████████████████████████| 2/2 [00:43<00:00, 21.55s/it]\n",
      "Tokenization: 100%|███████████████████████████| 30/30 [00:00<00:00, 3757.55it/s]\n",
      "Inference: 100%|██████████████████████████████████| 2/2 [01:08<00:00, 34.42s/it]\n",
      "Tokenization: 100%|██████████████████████████| 92/92 [00:00<00:00, 16353.45it/s]\n",
      "Inference: 100%|██████████████████████████████████| 1/1 [00:36<00:00, 36.94s/it]\n",
      "Tokenization: 100%|███████████████████████████| 14/14 [00:00<00:00, 9887.23it/s]\n",
      "Inference: 100%|██████████████████████████████████| 1/1 [00:08<00:00,  8.67s/it]\n",
      "Tokenization: 100%|███████████████████████████| 84/84 [00:00<00:00, 9621.80it/s]\n",
      "Inference: 100%|██████████████████████████████████| 1/1 [00:40<00:00, 40.58s/it]\n",
      "Tokenization: 100%|██████████████████████████| 84/84 [00:00<00:00, 11862.68it/s]\n",
      "Inference: 100%|██████████████████████████████████| 1/1 [00:40<00:00, 40.65s/it]\n",
      "Tokenization: 100%|███████████████████████████| 19/19 [00:00<00:00, 9942.83it/s]\n",
      "Inference: 100%|██████████████████████████████████| 1/1 [00:07<00:00,  7.23s/it]\n",
      "Tokenization: 100%|███████████████████████████| 15/15 [00:00<00:00, 6205.82it/s]\n",
      "Inference: 100%|██████████████████████████████████| 1/1 [00:20<00:00, 20.05s/it]\n",
      "Tokenization: 100%|██████████████████████████| 34/34 [00:00<00:00, 12983.10it/s]\n",
      "Inference: 100%|██████████████████████████████████| 1/1 [00:13<00:00, 13.74s/it]\n",
      "Tokenization: 100%|██████████████████████████| 60/60 [00:00<00:00, 11518.07it/s]\n",
      "Inference: 100%|██████████████████████████████████| 2/2 [00:32<00:00, 16.36s/it]\n",
      "Tokenization: 100%|█████████████████████████████| 2/2 [00:00<00:00, 7752.87it/s]\n",
      "Inference: 100%|██████████████████████████████████| 1/1 [00:00<00:00,  8.32it/s]\n",
      "Tokenization: 100%|███████████████████████████| 36/36 [00:00<00:00, 8955.28it/s]\n",
      "Inference: 100%|██████████████████████████████████| 1/1 [00:29<00:00, 29.51s/it]\n",
      "Tokenization: 100%|██████████████████████████| 71/71 [00:00<00:00, 16839.83it/s]\n",
      "Inference: 100%|██████████████████████████████████| 1/1 [00:47<00:00, 47.67s/it]\n",
      "Tokenization: 100%|███████████████████████████| 21/21 [00:00<00:00, 5976.01it/s]\n",
      "Inference: 100%|██████████████████████████████████| 1/1 [00:22<00:00, 22.11s/it]\n",
      "Tokenization: 100%|█████████████████████████████| 7/7 [00:00<00:00, 2465.79it/s]\n",
      "Inference: 100%|██████████████████████████████████| 1/1 [00:23<00:00, 23.90s/it]\n",
      "Tokenization: 100%|███████████████████████████| 16/16 [00:00<00:00, 2330.01it/s]\n",
      "Inference: 100%|██████████████████████████████████| 1/1 [01:04<00:00, 64.22s/it]\n",
      "Tokenization: 100%|███████████████████████████| 16/16 [00:00<00:00, 1043.64it/s]\n",
      "Inference: 100%|██████████████████████████████████| 1/1 [01:04<00:00, 64.25s/it]\n",
      "Tokenization: 100%|█████████████████████████████| 7/7 [00:00<00:00, 5278.70it/s]\n",
      "Inference: 100%|██████████████████████████████████| 1/1 [00:03<00:00,  3.69s/it]\n",
      "Tokenization: 100%|██████████████████████████| 23/23 [00:00<00:00, 11936.28it/s]\n",
      "Inference: 100%|██████████████████████████████████| 1/1 [00:11<00:00, 11.43s/it]\n",
      "Tokenization: 100%|██████████████████████████| 81/81 [00:00<00:00, 19475.96it/s]\n",
      "Inference: 100%|██████████████████████████████████| 1/1 [00:36<00:00, 36.91s/it]\n",
      "Tokenization: 100%|██████████████████████████| 36/36 [00:00<00:00, 32458.07it/s]\n",
      "Inference: 100%|██████████████████████████████████| 1/1 [00:07<00:00,  7.20s/it]\n",
      "Tokenization: 100%|█████████████████████████| 108/108 [00:00<00:00, 9068.95it/s]\n",
      "Inference: 100%|██████████████████████████████████| 3/3 [01:37<00:00, 32.51s/it]\n",
      "Tokenization: 100%|█████████████████████████| 108/108 [00:00<00:00, 8947.85it/s]\n",
      "Inference: 100%|██████████████████████████████████| 3/3 [01:38<00:00, 33.00s/it]\n",
      "Tokenization: 100%|██████████████████████████| 21/21 [00:00<00:00, 10025.08it/s]\n",
      "Inference: 100%|██████████████████████████████████| 1/1 [00:36<00:00, 36.09s/it]\n",
      "Tokenization: 100%|█████████████████████████████| 9/9 [00:00<00:00, 4126.90it/s]\n",
      "Inference: 100%|██████████████████████████████████| 1/1 [00:20<00:00, 20.68s/it]\n",
      "Tokenization: 100%|████████████████████████| 196/196 [00:00<00:00, 26319.31it/s]\n",
      "Inference: 100%|██████████████████████████████████| 2/2 [01:18<00:00, 39.15s/it]\n",
      "Tokenization: 100%|██████████████████████████| 74/74 [00:00<00:00, 35326.48it/s]\n",
      "Inference: 100%|██████████████████████████████████| 1/1 [00:21<00:00, 21.18s/it]\n",
      "Tokenization: 100%|███████████████████████████| 35/35 [00:00<00:00, 5876.26it/s]\n",
      "Inference: 100%|██████████████████████████████████| 1/1 [00:32<00:00, 32.71s/it]\n",
      "Tokenization: 100%|████████████████████████| 117/117 [00:00<00:00, 15595.68it/s]\n",
      "Inference: 100%|██████████████████████████████████| 2/2 [01:05<00:00, 32.94s/it]\n",
      "Tokenization: 100%|███████████████████████████| 39/39 [00:00<00:00, 7883.65it/s]\n",
      "Inference: 100%|██████████████████████████████████| 1/1 [00:31<00:00, 31.75s/it]\n",
      "Tokenization: 100%|██████████████████████████| 37/37 [00:00<00:00, 17535.51it/s]\n",
      "Inference: 100%|██████████████████████████████████| 1/1 [00:07<00:00,  7.20s/it]\n"
     ]
    },
    {
     "ename": "KeyError",
     "evalue": "'振華'",
     "output_type": "error",
     "traceback": [
      "\u001b[0;31m---------------------------------------------------------------------------\u001b[0m",
      "\u001b[0;31mKeyError\u001b[0m                                  Traceback (most recent call last)",
      "\u001b[0;32m/var/folders/l6/gmldvxdx6yl712wg0dbzvv0c0000gn/T/ipykernel_82521/1108606164.py\u001b[0m in \u001b[0;36m__get_vector\u001b[0;34m(query, model)\u001b[0m\n\u001b[1;32m     11\u001b[0m     \u001b[0;32mtry\u001b[0m\u001b[0;34m:\u001b[0m\u001b[0;34m\u001b[0m\u001b[0m\n\u001b[0;32m---> 12\u001b[0;31m         \u001b[0mvector\u001b[0m \u001b[0;34m=\u001b[0m \u001b[0mmodel\u001b[0m\u001b[0;34m.\u001b[0m\u001b[0mwv\u001b[0m\u001b[0;34m.\u001b[0m\u001b[0mvectors\u001b[0m\u001b[0;34m[\u001b[0m\u001b[0mmodel\u001b[0m\u001b[0;34m.\u001b[0m\u001b[0mwv\u001b[0m\u001b[0;34m.\u001b[0m\u001b[0mkey_to_index\u001b[0m\u001b[0;34m[\u001b[0m\u001b[0mquery\u001b[0m\u001b[0;34m]\u001b[0m\u001b[0;34m]\u001b[0m\u001b[0;34m\u001b[0m\u001b[0m\n\u001b[0m\u001b[1;32m     13\u001b[0m     \u001b[0;32mexcept\u001b[0m\u001b[0;34m:\u001b[0m\u001b[0;34m\u001b[0m\u001b[0m\n",
      "\u001b[0;31mKeyError\u001b[0m: '振華數據王雪峰情報'",
      "\nDuring handling of the above exception, another exception occurred:\n",
      "\u001b[0;31mKeyError\u001b[0m                                  Traceback (most recent call last)",
      "\u001b[0;32m/var/folders/l6/gmldvxdx6yl712wg0dbzvv0c0000gn/T/ipykernel_82521/2022872146.py\u001b[0m in \u001b[0;36m<module>\u001b[0;34m\u001b[0m\n\u001b[1;32m      1\u001b[0m \u001b[0mgoogle_search_rs\u001b[0m \u001b[0;34m=\u001b[0m \u001b[0mpd\u001b[0m\u001b[0;34m.\u001b[0m\u001b[0mread_excel\u001b[0m\u001b[0;34m(\u001b[0m\u001b[0;34mf'/Users/{user_name}/Downloads/{file_dir}/data/try_1112.xlsx'\u001b[0m\u001b[0;34m)\u001b[0m\u001b[0;34m.\u001b[0m\u001b[0murl\u001b[0m\u001b[0;34m.\u001b[0m\u001b[0mto_list\u001b[0m\u001b[0;34m(\u001b[0m\u001b[0;34m)\u001b[0m\u001b[0;34m\u001b[0m\u001b[0m\n\u001b[0;32m----> 2\u001b[0;31m \u001b[0m__get_similarity\u001b[0m\u001b[0;34m(\u001b[0m\u001b[0mgoogle_search_rs\u001b[0m\u001b[0;34m,\u001b[0m \u001b[0;36m15\u001b[0m\u001b[0;34m,\u001b[0m \u001b[0;34m\"振華數據王雪峰情報\"\u001b[0m\u001b[0;34m)\u001b[0m\u001b[0;34m\u001b[0m\u001b[0m\n\u001b[0m",
      "\u001b[0;32m/var/folders/l6/gmldvxdx6yl712wg0dbzvv0c0000gn/T/ipykernel_82521/2793959417.py\u001b[0m in \u001b[0;36m__get_similarity\u001b[0;34m(google_search_rs, top, query)\u001b[0m\n\u001b[1;32m      4\u001b[0m     \u001b[0mtfidfs\u001b[0m \u001b[0;34m=\u001b[0m \u001b[0m__get_tfidfs\u001b[0m\u001b[0;34m(\u001b[0m\u001b[0mcounters\u001b[0m\u001b[0;34m,\u001b[0m\u001b[0mtop\u001b[0m\u001b[0;34m)\u001b[0m \u001b[0;31m#所有網頁內容分詞的tfidfs，return dataframe\u001b[0m\u001b[0;34m\u001b[0m\u001b[0m\n\u001b[1;32m      5\u001b[0m     \u001b[0mmodel\u001b[0m \u001b[0;34m=\u001b[0m \u001b[0m__get_trained_model\u001b[0m\u001b[0;34m(\u001b[0m\u001b[0mquery\u001b[0m\u001b[0;34m,\u001b[0m \u001b[0mcontexts\u001b[0m\u001b[0;34m)\u001b[0m \u001b[0;31m#詞向量模型\u001b[0m\u001b[0;34m\u001b[0m\u001b[0m\n\u001b[0;32m----> 6\u001b[0;31m     \u001b[0mquery_vector\u001b[0m \u001b[0;34m=\u001b[0m \u001b[0m__get_vector\u001b[0m\u001b[0;34m(\u001b[0m\u001b[0mquery\u001b[0m\u001b[0;34m,\u001b[0m \u001b[0mmodel\u001b[0m\u001b[0;34m)\u001b[0m \u001b[0;31m#搜尋詞的詞向量\u001b[0m\u001b[0;34m\u001b[0m\u001b[0m\n\u001b[0m\u001b[1;32m      7\u001b[0m \u001b[0;34m\u001b[0m\u001b[0m\n\u001b[1;32m      8\u001b[0m     \u001b[0mvector\u001b[0m \u001b[0;34m=\u001b[0m \u001b[0mnp\u001b[0m\u001b[0;34m.\u001b[0m\u001b[0mzeros\u001b[0m\u001b[0;34m(\u001b[0m\u001b[0;36m250\u001b[0m\u001b[0;34m)\u001b[0m\u001b[0;34m\u001b[0m\u001b[0m\n",
      "\u001b[0;32m/var/folders/l6/gmldvxdx6yl712wg0dbzvv0c0000gn/T/ipykernel_82521/1108606164.py\u001b[0m in \u001b[0;36m__get_vector\u001b[0;34m(query, model)\u001b[0m\n\u001b[1;32m     17\u001b[0m         vectors = [\n\u001b[1;32m     18\u001b[0m             \u001b[0mmodel\u001b[0m\u001b[0;34m.\u001b[0m\u001b[0mwv\u001b[0m\u001b[0;34m.\u001b[0m\u001b[0mvectors\u001b[0m\u001b[0;34m[\u001b[0m\u001b[0mmodel\u001b[0m\u001b[0;34m.\u001b[0m\u001b[0mwv\u001b[0m\u001b[0;34m.\u001b[0m\u001b[0mkey_to_index\u001b[0m\u001b[0;34m[\u001b[0m\u001b[0mword\u001b[0m\u001b[0;34m]\u001b[0m\u001b[0;34m]\u001b[0m\u001b[0;34m\u001b[0m\u001b[0m\n\u001b[0;32m---> 19\u001b[0;31m             \u001b[0;32mfor\u001b[0m \u001b[0mword\u001b[0m \u001b[0;32min\u001b[0m \u001b[0mwords\u001b[0m \u001b[0;32mif\u001b[0m \u001b[0mword\u001b[0m \u001b[0;32mnot\u001b[0m \u001b[0;32min\u001b[0m \u001b[0m__stopwords\u001b[0m\u001b[0;34m\u001b[0m\u001b[0m\n\u001b[0m\u001b[1;32m     20\u001b[0m         ]\n\u001b[1;32m     21\u001b[0m         \u001b[0mvector\u001b[0m \u001b[0;34m=\u001b[0m \u001b[0msum\u001b[0m\u001b[0;34m(\u001b[0m\u001b[0mvectors\u001b[0m\u001b[0;34m)\u001b[0m \u001b[0;34m/\u001b[0m \u001b[0mlen\u001b[0m\u001b[0;34m(\u001b[0m\u001b[0mvectors\u001b[0m\u001b[0;34m)\u001b[0m\u001b[0;34m\u001b[0m\u001b[0m\n",
      "\u001b[0;32m/var/folders/l6/gmldvxdx6yl712wg0dbzvv0c0000gn/T/ipykernel_82521/1108606164.py\u001b[0m in \u001b[0;36m<listcomp>\u001b[0;34m(.0)\u001b[0m\n\u001b[1;32m     17\u001b[0m         vectors = [\n\u001b[1;32m     18\u001b[0m             \u001b[0mmodel\u001b[0m\u001b[0;34m.\u001b[0m\u001b[0mwv\u001b[0m\u001b[0;34m.\u001b[0m\u001b[0mvectors\u001b[0m\u001b[0;34m[\u001b[0m\u001b[0mmodel\u001b[0m\u001b[0;34m.\u001b[0m\u001b[0mwv\u001b[0m\u001b[0;34m.\u001b[0m\u001b[0mkey_to_index\u001b[0m\u001b[0;34m[\u001b[0m\u001b[0mword\u001b[0m\u001b[0;34m]\u001b[0m\u001b[0;34m]\u001b[0m\u001b[0;34m\u001b[0m\u001b[0m\n\u001b[0;32m---> 19\u001b[0;31m             \u001b[0;32mfor\u001b[0m \u001b[0mword\u001b[0m \u001b[0;32min\u001b[0m \u001b[0mwords\u001b[0m \u001b[0;32mif\u001b[0m \u001b[0mword\u001b[0m \u001b[0;32mnot\u001b[0m \u001b[0;32min\u001b[0m \u001b[0m__stopwords\u001b[0m\u001b[0;34m\u001b[0m\u001b[0m\n\u001b[0m\u001b[1;32m     20\u001b[0m         ]\n\u001b[1;32m     21\u001b[0m         \u001b[0mvector\u001b[0m \u001b[0;34m=\u001b[0m \u001b[0msum\u001b[0m\u001b[0;34m(\u001b[0m\u001b[0mvectors\u001b[0m\u001b[0;34m)\u001b[0m \u001b[0;34m/\u001b[0m \u001b[0mlen\u001b[0m\u001b[0;34m(\u001b[0m\u001b[0mvectors\u001b[0m\u001b[0;34m)\u001b[0m\u001b[0;34m\u001b[0m\u001b[0m\n",
      "\u001b[0;31mKeyError\u001b[0m: '振華'"
     ]
    }
   ],
   "source": [
    "google_search_rs = pd.read_excel(f'/Users/{user_name}/Downloads/{file_dir}/data/try_1112.xlsx').url.to_list()\n",
    "__get_similarity(google_search_rs, 15, \"振華數據王雪峰情報\")"
   ]
  },
  {
   "cell_type": "code",
   "execution_count": null,
   "id": "f8c83598",
   "metadata": {},
   "outputs": [],
   "source": []
  },
  {
   "cell_type": "markdown",
   "id": "15adda80",
   "metadata": {},
   "source": [
    "## Info Extraction Demo"
   ]
  },
  {
   "cell_type": "code",
   "execution_count": null,
   "id": "b1b73112",
   "metadata": {},
   "outputs": [],
   "source": [
    "contexts, articleLength = __get_content_texts(google_search_rs)\n",
    "counters = __get_counters(contexts)"
   ]
  },
  {
   "cell_type": "code",
   "execution_count": null,
   "id": "435561d9",
   "metadata": {
    "scrolled": true
   },
   "outputs": [],
   "source": [
    "__get_keywords(counters, 15)[:20]"
   ]
  },
  {
   "cell_type": "code",
   "execution_count": null,
   "id": "ef3f382f",
   "metadata": {},
   "outputs": [],
   "source": []
  }
 ],
 "metadata": {
  "kernelspec": {
   "display_name": "Python 3",
   "language": "python",
   "name": "python3"
  },
  "language_info": {
   "codemirror_mode": {
    "name": "ipython",
    "version": 3
   },
   "file_extension": ".py",
   "mimetype": "text/x-python",
   "name": "python",
   "nbconvert_exporter": "python",
   "pygments_lexer": "ipython3",
   "version": "3.7.4"
  },
  "toc": {
   "base_numbering": 1,
   "nav_menu": {
    "height": "190px",
    "width": "258px"
   },
   "number_sections": true,
   "sideBar": true,
   "skip_h1_title": false,
   "title_cell": "Table of Contents",
   "title_sidebar": "Contents",
   "toc_cell": false,
   "toc_position": {
    "height": "calc(100% - 180px)",
    "left": "10px",
    "top": "150px",
    "width": "204px"
   },
   "toc_section_display": true,
   "toc_window_display": false
  }
 },
 "nbformat": 4,
 "nbformat_minor": 5
}
