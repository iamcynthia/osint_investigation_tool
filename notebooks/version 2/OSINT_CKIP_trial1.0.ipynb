{
 "cells": [
  {
   "cell_type": "markdown",
   "id": "b01c48a4",
   "metadata": {},
   "source": [
    "- 匯入詞向量：https://github.com/Embedding/Chinese-Word-Vectors\n",
    "- Basic Setting: window size = 5, dynamic window = yes, Sub-sampling = 1e-5, Low-Frequency Word = 10, Iteration = 5, Negative Sampling = 5\n",
    "- Trained by \"ngram2vec\" https://github.com/zhezhaoa/ngram2vec/\n",
    "- 增量訓練可行性？"
   ]
  },
  {
   "cell_type": "code",
   "execution_count": 7,
   "id": "cfc6bc16",
   "metadata": {},
   "outputs": [],
   "source": [
    "import gensim\n",
    "from gensim.models.word2vec import Word2Vec\n",
    "from gensim.models import KeyedVectors\n",
    "from gensim.test.utils import datapath"
   ]
  },
  {
   "cell_type": "code",
   "execution_count": 9,
   "id": "b782cccb",
   "metadata": {},
   "outputs": [],
   "source": [
    "user_name = 'csti-user'\n",
    "file_dir = 'OSINT'\n",
    "file_name = 'merge_sgns_bigram_char300.txt.bz2'\n",
    "model = KeyedVectors.load_word2vec_format(datapath(f'/Users/{user_name}/Downloads/{file_dir}/model/chinese_word_embedding/{file_name}'), binary=False)"
   ]
  },
  {
   "cell_type": "code",
   "execution_count": 12,
   "id": "7d7a1266",
   "metadata": {},
   "outputs": [
    {
     "ename": "AttributeError",
     "evalue": "'KeyedVectors' object has no attribute 'build_vocab'",
     "output_type": "error",
     "traceback": [
      "\u001b[0;31m---------------------------------------------------------------------------\u001b[0m",
      "\u001b[0;31mAttributeError\u001b[0m                            Traceback (most recent call last)",
      "\u001b[0;32m<ipython-input-12-c110bdbf63dc>\u001b[0m in \u001b[0;36m<module>\u001b[0;34m\u001b[0m\n\u001b[1;32m      1\u001b[0m \u001b[0mnew_model\u001b[0m \u001b[0;34m=\u001b[0m \u001b[0mmodel\u001b[0m\u001b[0;34m\u001b[0m\u001b[0;34m\u001b[0m\u001b[0m\n\u001b[1;32m      2\u001b[0m \u001b[0mvocab\u001b[0m \u001b[0;34m=\u001b[0m \u001b[0;34m[\u001b[0m\u001b[0;34m'大甲'\u001b[0m\u001b[0;34m,\u001b[0m \u001b[0;34m'鎮瀾宮'\u001b[0m\u001b[0;34m]\u001b[0m\u001b[0;34m\u001b[0m\u001b[0;34m\u001b[0m\u001b[0m\n\u001b[0;32m----> 3\u001b[0;31m \u001b[0mnew_model\u001b[0m\u001b[0;34m.\u001b[0m\u001b[0mbuild_vocab\u001b[0m\u001b[0;34m(\u001b[0m\u001b[0mvocab\u001b[0m\u001b[0;34m,\u001b[0m \u001b[0mupdate\u001b[0m\u001b[0;34m=\u001b[0m\u001b[0;32mTrue\u001b[0m\u001b[0;34m)\u001b[0m\u001b[0;34m\u001b[0m\u001b[0;34m\u001b[0m\u001b[0m\n\u001b[0m",
      "\u001b[0;31mAttributeError\u001b[0m: 'KeyedVectors' object has no attribute 'build_vocab'"
     ]
    }
   ],
   "source": [
    "new_model = model\n",
    "vocab = ['大甲', '鎮瀾宮']\n",
    "new_model.build_vocab(vocab, update=True)"
   ]
  },
  {
   "cell_type": "code",
   "execution_count": 6,
   "id": "17c1521f",
   "metadata": {
    "scrolled": true
   },
   "outputs": [
    {
     "name": "stdout",
     "output_type": "stream",
     "text": [
      "['0.851698' '-0.424052' '-0.684151' '0.220983' '0.160747' '0.012154'\n",
      " '-0.006740' '-0.176293' '0.190157' '0.574236' '-0.192123' '-0.215081'\n",
      " '-0.622858' '-0.473130' '0.085136' '0.860011' '0.148635' '-0.488920'\n",
      " '-0.417574' '-0.386154' '0.116595' '0.512085' '-0.154104' '0.151892'\n",
      " '0.792066' '-0.045392' '-0.118042' '0.303820' '-0.292411' '0.159392'\n",
      " '0.031922' '0.593305' '-0.035570' '-1.388073' '0.265753' '-0.193855'\n",
      " '-0.455166' '-0.695507' '0.062277' '0.217614' '0.173821' '0.766632'\n",
      " '-0.979361' '0.149312' '-0.752910' '0.007684' '0.406774' '0.217123'\n",
      " '0.068787' '-0.024778' '-0.139327' '0.661497' '0.196809' '-0.109956'\n",
      " '-0.345266' '-0.356805' '0.070007' '-0.160300' '0.002882' '-0.696798'\n",
      " '-0.496198' '-0.561492' '0.400135' '-0.597240' '-0.844390' '-0.475494'\n",
      " '0.262664' '-0.388185' '-0.418054' '0.135392' '0.129967' '-1.097426'\n",
      " '-0.194604' '0.503309' '-0.779401' '-0.216351' '-0.173620' '0.415005'\n",
      " '-0.588866' '0.059938' '0.135715' '-0.366042' '0.523476' '-0.271828'\n",
      " '-0.560332' '-0.468623' '-0.435980' '0.139540' '-0.348795' '-0.014766'\n",
      " '-0.626271' '-0.228063' '-0.482806' '0.317398' '0.017378' '0.317272'\n",
      " '-0.594016' '1.174505' '-0.240590' '0.871388' '0.383783' '-0.181431'\n",
      " '0.129383' '-0.372944' '-1.482886' '-0.154187' '0.211895' '-0.368189'\n",
      " '0.974589' '0.240435' '0.984941' '-0.556559' '0.007146' '0.017391'\n",
      " '-0.140680' '0.418760' '-0.026343' '-0.584170' '-0.820900' '-0.268887'\n",
      " '-0.076984' '-0.284493' '-0.985862' '0.482828' '0.475274' '-0.024988'\n",
      " '-0.656572' '-0.313214' '-0.638066' '0.932369' '-0.034312' '0.083698'\n",
      " '0.319278' '-0.396627' '-0.329017' '-0.450974' '-0.144047' '1.221892'\n",
      " '-0.344591' '-0.321246' '0.763986' '-1.139058' '-0.056975' '-0.164976'\n",
      " '0.425391' '-0.200182' '0.207979' '-0.988822' '0.836279' '-0.013255'\n",
      " '-0.928019' '0.327341' '-0.041499' '0.239263' '0.387812' '-0.387184'\n",
      " '-0.482154' '0.702183' '0.477601' '-0.371563' '-0.087457' '-0.445169'\n",
      " '0.951649' '-0.181090' '-0.493719' '0.218435' '0.545448' '0.289453'\n",
      " '-0.101286' '0.053755' '-0.107404' '-0.332026' '-0.146840' '-0.726123'\n",
      " '0.132400' '-0.086048' '-0.532024' '-0.157470' '-0.121068' '0.400635'\n",
      " '0.848314' '-0.207391' '0.009445' '0.478282' '0.264852' '-0.042618'\n",
      " '-0.385536' '0.735090' '-0.441936' '0.857189' '0.082533' '-0.104441'\n",
      " '-0.394933' '-0.540150' '0.832999' '0.188031' '-0.717056' '-0.854790'\n",
      " '-0.003571' '-0.369180' '0.414233' '0.276110' '-0.180654' '-0.471591'\n",
      " '0.001713' '0.573327' '0.177572' '-0.738119' '1.204810' '0.008696'\n",
      " '0.566561' '0.194636' '-0.004638' '-0.546967' '-0.081634' '-0.289239'\n",
      " '-0.421089' '0.344260' '0.359894' '0.014835' '0.358326' '-1.430781'\n",
      " '0.516330' '-0.472570' '0.150365' '0.285991' '-0.604879' '0.039207'\n",
      " '-0.619423' '-0.095829' '-0.604067' '-0.322321' '0.654362' '-0.498302'\n",
      " '-0.434343' '0.918798' '0.018264' '0.139773' '-0.937026' '-0.255970'\n",
      " '0.307504' '0.253373' '0.212004' '-0.769471' '-0.225440' '0.199692'\n",
      " '-0.597634' '-0.725173' '0.048823' '0.089604' '0.838324' '-0.480542'\n",
      " '0.456494' '0.886495' '-0.591204' '-0.392198' '0.052216' '0.774327'\n",
      " '-0.458280' '0.047087' '-0.666308' '0.354776' '-0.310906' '-0.805261'\n",
      " '-0.128874' '0.645234' '-0.061653' '-0.369907' '-0.362581' '0.189270'\n",
      " '0.017388' '0.614932' '0.572320' '0.689072' '-0.514620' '-0.724578'\n",
      " '-0.959024' '-0.751780' '-0.185777' '0.196672' '-0.407899' '-0.230778'\n",
      " '0.202671' '-0.486718' '-0.490801' '-0.385363' '0.881476' '0.136668'\n",
      " '0.373933' '-0.034760' '0.496003' '-0.461407' '0.012245' '0.677380'\n",
      " '0.330105' '-0.057514' '0.352175' '1.369883' '-0.596101']\n"
     ]
    }
   ],
   "source": [
    "for i in range(len(lines)):\n",
    "    if '王雪峰' in lines[i]:\n",
    "        vector = lines[i].split()\n",
    "        vector = np.array(vector[1:])\n",
    "        break\n",
    "print(vector[1:])"
   ]
  },
  {
   "cell_type": "code",
   "execution_count": null,
   "id": "1f8cbee6",
   "metadata": {},
   "outputs": [],
   "source": []
  },
  {
   "cell_type": "code",
   "execution_count": null,
   "id": "fb36c8ec",
   "metadata": {},
   "outputs": [],
   "source": []
  },
  {
   "cell_type": "code",
   "execution_count": null,
   "id": "8f419422",
   "metadata": {},
   "outputs": [],
   "source": []
  },
  {
   "cell_type": "code",
   "execution_count": null,
   "id": "9c3da4d5",
   "metadata": {},
   "outputs": [],
   "source": []
  },
  {
   "cell_type": "code",
   "execution_count": null,
   "id": "f84d5134",
   "metadata": {},
   "outputs": [],
   "source": []
  },
  {
   "cell_type": "code",
   "execution_count": null,
   "id": "b2e283ea",
   "metadata": {},
   "outputs": [],
   "source": []
  },
  {
   "cell_type": "code",
   "execution_count": null,
   "id": "b829d8ab",
   "metadata": {},
   "outputs": [],
   "source": []
  },
  {
   "cell_type": "code",
   "execution_count": null,
   "id": "c6baa67e",
   "metadata": {},
   "outputs": [],
   "source": []
  },
  {
   "cell_type": "code",
   "execution_count": null,
   "id": "0a0a8161",
   "metadata": {},
   "outputs": [],
   "source": []
  },
  {
   "cell_type": "code",
   "execution_count": null,
   "id": "115a2527",
   "metadata": {},
   "outputs": [],
   "source": []
  },
  {
   "cell_type": "code",
   "execution_count": 1,
   "id": "20601918",
   "metadata": {
    "scrolled": true
   },
   "outputs": [
    {
     "name": "stderr",
     "output_type": "stream",
     "text": [
      "/opt/anaconda3/envs/tf15/lib/python3.7/site-packages/gensim/similarities/__init__.py:15: UserWarning: The gensim.similarities.levenshtein submodule is disabled, because the optional Levenshtein package <https://pypi.org/project/python-Levenshtein/> is unavailable. Install Levenhstein (e.g. `pip install python-Levenshtein`) to suppress this warning.\n",
      "  warnings.warn(msg)\n"
     ]
    }
   ],
   "source": [
    "import OSINT_func_lac as osint\n",
    "import pandas as pd\n",
    "from collections import Counter"
   ]
  },
  {
   "cell_type": "code",
   "execution_count": 2,
   "id": "70aba7ff",
   "metadata": {
    "scrolled": true
   },
   "outputs": [
    {
     "name": "stdout",
     "output_type": "stream",
     "text": [
      "1 https://zh.wikipedia.org/zh-tw/%E4%B8%AD%E5%9B%BD%E5%9B%BD%E9%98%B2%E7%A7%91%E6%8A%80%E4%BF%A1%E6%81%AF%E4%B8%AD%E5%BF%83\n"
     ]
    },
    {
     "name": "stderr",
     "output_type": "stream",
     "text": [
      "/opt/anaconda3/envs/tf15/lib/python3.7/site-packages/urllib3/connectionpool.py:1020: InsecureRequestWarning: Unverified HTTPS request is being made to host 'zh.wikipedia.org'. Adding certificate verification is strongly advised. See: https://urllib3.readthedocs.io/en/1.26.x/advanced-usage.html#ssl-warnings\n",
      "  InsecureRequestWarning,\n"
     ]
    },
    {
     "name": "stdout",
     "output_type": "stream",
     "text": [
      "2 http://www.sohu.com/a/205770974_114731\n"
     ]
    },
    {
     "name": "stderr",
     "output_type": "stream",
     "text": [
      "/opt/anaconda3/envs/tf15/lib/python3.7/site-packages/urllib3/connectionpool.py:1020: InsecureRequestWarning: Unverified HTTPS request is being made to host 'www.sohu.com'. Adding certificate verification is strongly advised. See: https://urllib3.readthedocs.io/en/1.26.x/advanced-usage.html#ssl-warnings\n",
      "  InsecureRequestWarning,\n"
     ]
    },
    {
     "name": "stdout",
     "output_type": "stream",
     "text": [
      "3 http://scitech.people.com.cn/BIG5/n1/2017/1121/c1007-29660043.html\n",
      "4 http://218.90.174.174:8080/opac/item.php?marc_no=644b4d484e30304d6d5a39446e2f7a5346426f494d673d3d\n",
      "5 http://www.jnfhwl.com/mingxing/gukrlsrpn.html\n",
      "6 https://book.douban.com/subject/26545176//\n"
     ]
    },
    {
     "name": "stderr",
     "output_type": "stream",
     "text": [
      "/opt/anaconda3/envs/tf15/lib/python3.7/site-packages/urllib3/connectionpool.py:1020: InsecureRequestWarning: Unverified HTTPS request is being made to host 'book.douban.com'. Adding certificate verification is strongly advised. See: https://urllib3.readthedocs.io/en/1.26.x/advanced-usage.html#ssl-warnings\n",
      "  InsecureRequestWarning,\n"
     ]
    },
    {
     "name": "stdout",
     "output_type": "stream",
     "text": [
      "7 https://baike.baidu.com/item/%E8%B5%B5%E4%BC%8A%E5%90%9B/9157898\n"
     ]
    },
    {
     "name": "stderr",
     "output_type": "stream",
     "text": [
      "/opt/anaconda3/envs/tf15/lib/python3.7/site-packages/urllib3/connectionpool.py:1020: InsecureRequestWarning: Unverified HTTPS request is being made to host 'baike.baidu.com'. Adding certificate verification is strongly advised. See: https://urllib3.readthedocs.io/en/1.26.x/advanced-usage.html#ssl-warnings\n",
      "  InsecureRequestWarning,\n"
     ]
    },
    {
     "name": "stdout",
     "output_type": "stream",
     "text": [
      "8 https://www.shimenmuyu.com/art/2019/12/25/art_23348_448376.html\n",
      "HTTPSConnectionPool(host='www.shimenmuyu.com', port=443): Max retries exceeded with url: /art/2019/12/25/art_23348_448376.html (Caused by NewConnectionError('<urllib3.connection.HTTPSConnection object at 0x7f87b61b55c0>: Failed to establish a new connection: [Errno 8] nodename nor servname provided, or not known'))\n",
      "9 https://amp.cn.shops-com.ru/5684017/1/%E4%B8%AD%E5%9B%BD%E5%9B%BD%E9%98%B2%E7%A7%91%E6%8A%80%E4%BF%A1%E6%81%AF%E4%B8%AD%E5%BF%83.html\n"
     ]
    },
    {
     "name": "stderr",
     "output_type": "stream",
     "text": [
      "/opt/anaconda3/envs/tf15/lib/python3.7/site-packages/urllib3/connectionpool.py:1020: InsecureRequestWarning: Unverified HTTPS request is being made to host 'amp.cn.shops-com.ru'. Adding certificate verification is strongly advised. See: https://urllib3.readthedocs.io/en/1.26.x/advanced-usage.html#ssl-warnings\n",
      "  InsecureRequestWarning,\n"
     ]
    },
    {
     "name": "stdout",
     "output_type": "stream",
     "text": [
      "10 http://news.sina.com.cn/o/2016-11-14/doc-ifxxsmuu5583662.shtml\n",
      "11 http://news.sina.com.cn/o/2016-11-14/doc-ifxxsmuu5583662.shtml\n",
      "12 http://tgw.jlu.edu.cn/info/1003/1005.htm\n",
      "13 http://www.lis.ac.cn/CN/article/downloadArticleFile.do?attachType=PDF&id=21795\n",
      "14 http://www.itapress.cn/CN/column/column4731.shtml\n",
      "15 http://www.lsc.org.cn/Attachment/Doc/1287649286.xls\n",
      "16 https://netl.istic.ac.cn/sso/tc46/details/9EEB494E5936427C918C19E0201E94D8\n"
     ]
    },
    {
     "name": "stderr",
     "output_type": "stream",
     "text": [
      "/opt/anaconda3/envs/tf15/lib/python3.7/site-packages/urllib3/connectionpool.py:1020: InsecureRequestWarning: Unverified HTTPS request is being made to host 'netl.istic.ac.cn'. Adding certificate verification is strongly advised. See: https://urllib3.readthedocs.io/en/1.26.x/advanced-usage.html#ssl-warnings\n",
      "  InsecureRequestWarning,\n"
     ]
    },
    {
     "name": "stdout",
     "output_type": "stream",
     "text": [
      "17 http://yantao.wanfangdata.com.cn/Home/GetTrendDetail?id=0dba5263-e87a-4fdc-92a3-a96cef1a1ea8\n",
      "18 http://www.diobosi.com/contents/1353/7533.html\n",
      "HTTPConnectionPool(host='www.diobosi.com', port=80): Max retries exceeded with url: /contents/1353/7533.html (Caused by ConnectTimeoutError(<urllib3.connection.HTTPConnection object at 0x7f87b7082e80>, 'Connection to www.diobosi.com timed out. (connect timeout=30)'))\n",
      "19 http://vietyeah.com/contents/1345/9301.html\n",
      "20 http://www.dsti.net/\n",
      "21 http://pkunews.pku.edu.cn/xwzh/index1177.htm\n"
     ]
    },
    {
     "name": "stderr",
     "output_type": "stream",
     "text": [
      "/opt/anaconda3/envs/tf15/lib/python3.7/site-packages/urllib3/connectionpool.py:1020: InsecureRequestWarning: Unverified HTTPS request is being made to host 'pkunews.pku.edu.cn'. Adding certificate verification is strongly advised. See: https://urllib3.readthedocs.io/en/1.26.x/advanced-usage.html#ssl-warnings\n",
      "  InsecureRequestWarning,\n"
     ]
    },
    {
     "name": "stdout",
     "output_type": "stream",
     "text": [
      "22 http://222.88.118.79:82/KCMS/detail/detail.aspx?filename=JSSG201507015&dbcode=CJFD&dbname=CJFD2015\n",
      "HTTPConnectionPool(host='222.88.118.79', port=82): Max retries exceeded with url: /KCMS/detail/detail.aspx?filename=JSSG201507015&dbcode=CJFD&dbname=CJFD2015 (Caused by ConnectTimeoutError(<urllib3.connection.HTTPConnection object at 0x7f87b6f485f8>, 'Connection to 222.88.118.79 timed out. (connect timeout=30)'))\n",
      "23 https://www.aconf.org/conf_52187.%E4%B8%AD%E5%9B%BD%E5%9B%BE%E4%B9%A6%E9%A6%862014%E5%B9%B4%E4%BC%9A%E7%9F%A5%E8%AF%86%E7%BB%84%E7%BB%87%E6%8F%AD%E7%A4%BA%EF%BC%9A%E6%8A%80%E6%9C%AF%E3%80%81%E6%96%B9%E6%B3%95%E4%B8%8E%E5%AE%9E%E8%B7%B5%E5%88%86%E4%BC%9A%E5%9C%BA.html\n"
     ]
    },
    {
     "name": "stderr",
     "output_type": "stream",
     "text": [
      "/opt/anaconda3/envs/tf15/lib/python3.7/site-packages/urllib3/connectionpool.py:1020: InsecureRequestWarning: Unverified HTTPS request is being made to host 'www.aconf.org'. Adding certificate verification is strongly advised. See: https://urllib3.readthedocs.io/en/1.26.x/advanced-usage.html#ssl-warnings\n",
      "  InsecureRequestWarning,\n"
     ]
    },
    {
     "name": "stdout",
     "output_type": "stream",
     "text": [
      "24 http://www.dajianet.com/digital/2018/0412/219504.shtml\n",
      "25 http://www.teyoukeli.com/contents/1132/6784.html\n",
      "26 http://mamomclub.com/contents/1345/7226.html\n"
     ]
    },
    {
     "name": "stderr",
     "output_type": "stream",
     "text": [
      "/opt/anaconda3/envs/tf15/lib/python3.7/site-packages/urllib3/connectionpool.py:1020: InsecureRequestWarning: Unverified HTTPS request is being made to host 'www.mamomclub.com'. Adding certificate verification is strongly advised. See: https://urllib3.readthedocs.io/en/1.26.x/advanced-usage.html#ssl-warnings\n",
      "  InsecureRequestWarning,\n",
      "/opt/anaconda3/envs/tf15/lib/python3.7/site-packages/urllib3/connectionpool.py:1020: InsecureRequestWarning: Unverified HTTPS request is being made to host 'mamomclub.com'. Adding certificate verification is strongly advised. See: https://urllib3.readthedocs.io/en/1.26.x/advanced-usage.html#ssl-warnings\n",
      "  InsecureRequestWarning,\n"
     ]
    },
    {
     "name": "stdout",
     "output_type": "stream",
     "text": [
      "27 http://www.81.cn/yw/2021-05/21/content_10037887.htm\n",
      "28 https://read01.com/0eomyKk.html\n"
     ]
    },
    {
     "name": "stderr",
     "output_type": "stream",
     "text": [
      "/opt/anaconda3/envs/tf15/lib/python3.7/site-packages/urllib3/connectionpool.py:1020: InsecureRequestWarning: Unverified HTTPS request is being made to host 'read01.com'. Adding certificate verification is strongly advised. See: https://urllib3.readthedocs.io/en/1.26.x/advanced-usage.html#ssl-warnings\n",
      "  InsecureRequestWarning,\n"
     ]
    },
    {
     "name": "stdout",
     "output_type": "stream",
     "text": [
      "29 https://www.linguee.com/chinese-english/translation/%E4%B8%AD%E5%9C%8B%E5%9C%8B%E9%98%B2%E7%A7%91%E6%8A%80%E4%BF%A1%E6%81%AF%E4%B8%AD%E5%BF%83.html\n"
     ]
    },
    {
     "name": "stderr",
     "output_type": "stream",
     "text": [
      "/opt/anaconda3/envs/tf15/lib/python3.7/site-packages/urllib3/connectionpool.py:1020: InsecureRequestWarning: Unverified HTTPS request is being made to host 'www.linguee.com'. Adding certificate verification is strongly advised. See: https://urllib3.readthedocs.io/en/1.26.x/advanced-usage.html#ssl-warnings\n",
      "  InsecureRequestWarning,\n"
     ]
    },
    {
     "name": "stdout",
     "output_type": "stream",
     "text": [
      "30 https://other-wiki.zervice.io/wikipedia_zh_all_novid_2018-07/A/%E4%B8%AD%E5%9B%BD%E5%9B%BD%E9%98%B2%E7%A7%91%E6%8A%80%E4%BF%A1%E6%81%AF%E4%B8%AD%E5%BF%83.html\n",
      "HTTPSConnectionPool(host='other-wiki.zervice.io', port=443): Max retries exceeded with url: /wikipedia_zh_all_novid_2018-07/A/%E4%B8%AD%E5%9B%BD%E5%9B%BD%E9%98%B2%E7%A7%91%E6%8A%80%E4%BF%A1%E6%81%AF%E4%B8%AD%E5%BF%83.html (Caused by NewConnectionError('<urllib3.connection.HTTPSConnection object at 0x7f87b71a2ef0>: Failed to establish a new connection: [Errno 8] nodename nor servname provided, or not known'))\n",
      "31 https://maplebear.com.br/index.php?redirect40e4e/dec312797.htm\n"
     ]
    },
    {
     "name": "stderr",
     "output_type": "stream",
     "text": [
      "/opt/anaconda3/envs/tf15/lib/python3.7/site-packages/urllib3/connectionpool.py:1020: InsecureRequestWarning: Unverified HTTPS request is being made to host 'maplebear.com.br'. Adding certificate verification is strongly advised. See: https://urllib3.readthedocs.io/en/1.26.x/advanced-usage.html#ssl-warnings\n",
      "  InsecureRequestWarning,\n",
      "/opt/anaconda3/envs/tf15/lib/python3.7/site-packages/urllib3/connectionpool.py:1020: InsecureRequestWarning: Unverified HTTPS request is being made to host 'maplebear.com.br'. Adding certificate verification is strongly advised. See: https://urllib3.readthedocs.io/en/1.26.x/advanced-usage.html#ssl-warnings\n",
      "  InsecureRequestWarning,\n"
     ]
    }
   ],
   "source": [
    "google_search_rs = pd.read_excel('/Users/csti-user/Downloads/OSINT/data/test.xlsx').url.to_list()\n",
    "context, articleLength = osint.__get_content_texts(google_search_rs)"
   ]
  },
  {
   "cell_type": "code",
   "execution_count": 4,
   "id": "5e8dfc54",
   "metadata": {},
   "outputs": [],
   "source": [
    "from transformers import (BertTokenizerFast, AutoModel)\n",
    "from ckip_transformers.nlp import CkipWordSegmenter, CkipPosTagger, CkipNerChunker"
   ]
  },
  {
   "cell_type": "code",
   "execution_count": 5,
   "id": "f75fab41",
   "metadata": {},
   "outputs": [
    {
     "name": "stderr",
     "output_type": "stream",
     "text": [
      "Some weights of the model checkpoint at ckiplab/bert-base-chinese-ner were not used when initializing BertModel: ['classifier.bias', 'classifier.weight']\n",
      "- This IS expected if you are initializing BertModel from the checkpoint of a model trained on another task or with another architecture (e.g. initializing a BertForSequenceClassification model from a BertForPreTraining model).\n",
      "- This IS NOT expected if you are initializing BertModel from the checkpoint of a model that you expect to be exactly identical (initializing a BertForSequenceClassification model from a BertForSequenceClassification model).\n",
      "Some weights of BertModel were not initialized from the model checkpoint at ckiplab/bert-base-chinese-ner and are newly initialized: ['bert.pooler.dense.weight', 'bert.pooler.dense.bias']\n",
      "You should probably TRAIN this model on a down-stream task to be able to use it for predictions and inference.\n"
     ]
    }
   ],
   "source": [
    "# nlp task model\n",
    "tokenizer = BertTokenizerFast.from_pretrained('bert-base-chinese')\n",
    "model = AutoModel.from_pretrained('ckiplab/bert-base-chinese-ner')"
   ]
  },
  {
   "cell_type": "code",
   "execution_count": 6,
   "id": "88f967ad",
   "metadata": {},
   "outputs": [],
   "source": [
    "# Initialize drivers 等級一最快，等級三（預設值）最精準。\n",
    "# ws_driver = CkipWordSegmenter(level=3) #斷詞\n",
    "# pos_driver = CkipPosTagger(level=3) #詞性標記\n",
    "ner_driver = CkipNerChunker(level=3) #實體辨識"
   ]
  },
  {
   "cell_type": "code",
   "execution_count": null,
   "id": "2e6c1a5e",
   "metadata": {},
   "outputs": [],
   "source": [
    "# Initialize drivers with custom checkpoints 也可以運用我們的工具於自己訓練的模型上。\n",
    "# ws_driver  = CkipWordSegmenter(model_name=\"path_to_your_model\")\n",
    "# pos_driver = CkipPosTagger(model_name=\"path_to_your_model\")\n",
    "ner_driver = CkipNerChunker(model_name=\"path_to_your_model\")"
   ]
  },
  {
   "cell_type": "code",
   "execution_count": null,
   "id": "2b4a535a",
   "metadata": {},
   "outputs": [],
   "source": [
    "# 可於宣告斷詞等工具時指定 device 以使用 GPU，設為 -1 （預設值）代表不使用 GPU。\n",
    "# Use CPU\n",
    "ws_driver = CkipWordSegmenter(device=-1)\n",
    "\n",
    "# Use GPU:0\n",
    "ws_driver = CkipWordSegmenter(device=0)"
   ]
  },
  {
   "cell_type": "code",
   "execution_count": 12,
   "id": "827357d1",
   "metadata": {
    "collapsed": true
   },
   "outputs": [
    {
     "name": "stderr",
     "output_type": "stream",
     "text": [
      "Tokenization: 100%|██████████████████████████| 20/20 [00:00<00:00, 12820.74it/s]\n",
      "Inference: 100%|██████████████████████████████████| 1/1 [00:09<00:00,  9.34s/it]\n"
     ]
    },
    {
     "data": {
      "text/plain": [
       "[[],\n",
       " [],\n",
       " [],\n",
       " [],\n",
       " [],\n",
       " [NerToken(word='京', ner='GPE', idx=(9, 10))],\n",
       " [NerToken(word='2017-11-21 22:34', ner='TIME', idx=(0, 16))],\n",
       " [],\n",
       " [NerToken(word='京', ner='GPE', idx=(13, 14))],\n",
       " [NerToken(word='人民网', ner='ORG', idx=(0, 3)),\n",
       "  NerToken(word='北京', ner='GPE', idx=(3, 5)),\n",
       "  NerToken(word='11月21日', ner='DATE', idx=(5, 11)),\n",
       "  NerToken(word='赵竹青', ner='PERSON', idx=(13, 16)),\n",
       "  NerToken(word='17日', ner='DATE', idx=(30, 33)),\n",
       "  NerToken(word='京', ner='GPE', idx=(34, 35))],\n",
       " [NerToken(word='北京大学首都发展研究院', ner='ORG', idx=(0, 11)),\n",
       "  NerToken(word='李国平', ner='PERSON', idx=(13, 16)),\n",
       "  NerToken(word='北京国家科技创新中心', ner='ORG', idx=(20, 30)),\n",
       "  NerToken(word='北京国家科技创新中心', ner='ORG', idx=(76, 86))],\n",
       " [NerToken(word='中国科学技术信息研究所', ner='ORG', idx=(0, 11)),\n",
       "  NerToken(word='科学计量与评价研究中心', ner='ORG', idx=(11, 22)),\n",
       "  NerToken(word='赵筱媛', ner='PERSON', idx=(25, 28)),\n",
       "  NerToken(word='北京科学技术情报研究所', ner='ORG', idx=(29, 40)),\n",
       "  NerToken(word='吴晨生', ner='PERSON', idx=(43, 46)),\n",
       "  NerToken(word='中国国防科技信息中心', ner='ORG', idx=(47, 57)),\n",
       "  NerToken(word='真溱', ner='PERSON', idx=(60, 62)),\n",
       "  NerToken(word='北京大学信息管理系', ner='ORG', idx=(63, 72)),\n",
       "  NerToken(word='化柏林', ner='PERSON', idx=(76, 79))],\n",
       " [NerToken(word='北京科学技术情报学会', ner='ORG', idx=(5, 15)),\n",
       "  NerToken(word='北京市科学技术情报研究所', ner='ORG', idx=(16, 28)),\n",
       "  NerToken(word='同方知网（北京）技术有限公司', ner='ORG', idx=(31, 45))],\n",
       " [],\n",
       " [],\n",
       " [],\n",
       " [],\n",
       " [NerToken(word='今日', ner='DATE', idx=(0, 2))],\n",
       " [NerToken(word='6秒', ner='TIME', idx=(0, 2))],\n",
       " [NerToken(word='今日', ner='DATE', idx=(0, 2))]]"
      ]
     },
     "execution_count": 12,
     "metadata": {},
     "output_type": "execute_result"
    }
   ],
   "source": [
    "# Run pipeline  斷詞與實體辨識的輸入必須是 list of sentences。 詞性標記的輸入必須是 list of list of words。\n",
    "# ws  = ws_driver(text)\n",
    "# pos = pos_driver(ws)\n",
    "ner = ner_driver(context[1])"
   ]
  },
  {
   "cell_type": "code",
   "execution_count": 7,
   "id": "1c7838ab",
   "metadata": {},
   "outputs": [],
   "source": [
    "from opencc import OpenCC\n",
    "__converter = OpenCC(\"s2twp.json\")"
   ]
  },
  {
   "cell_type": "code",
   "execution_count": 24,
   "id": "a0ab7075",
   "metadata": {
    "scrolled": true
   },
   "outputs": [
    {
     "name": "stdout",
     "output_type": "stream",
     "text": [
      "0\n"
     ]
    },
    {
     "name": "stderr",
     "output_type": "stream",
     "text": [
      "Tokenization: 100%|████████████████████████| 112/112 [00:00<00:00, 33302.29it/s]\n",
      "Inference: 100%|██████████████████████████████████| 1/1 [00:20<00:00, 20.31s/it]\n"
     ]
    },
    {
     "name": "stdout",
     "output_type": "stream",
     "text": [
      "1\n"
     ]
    },
    {
     "name": "stderr",
     "output_type": "stream",
     "text": [
      "Tokenization: 100%|███████████████████████████| 20/20 [00:00<00:00, 7761.48it/s]\n",
      "Inference: 100%|██████████████████████████████████| 1/1 [00:12<00:00, 12.10s/it]\n"
     ]
    },
    {
     "name": "stdout",
     "output_type": "stream",
     "text": [
      "2\n"
     ]
    },
    {
     "name": "stderr",
     "output_type": "stream",
     "text": [
      "Tokenization: 100%|██████████████████████████| 34/34 [00:00<00:00, 18928.37it/s]\n",
      "Inference: 100%|██████████████████████████████████| 1/1 [00:16<00:00, 16.58s/it]\n"
     ]
    },
    {
     "name": "stdout",
     "output_type": "stream",
     "text": [
      "3\n"
     ]
    },
    {
     "name": "stderr",
     "output_type": "stream",
     "text": [
      "Tokenization: 100%|██████████████████████████| 26/26 [00:00<00:00, 39086.70it/s]\n",
      "Inference: 100%|██████████████████████████████████| 1/1 [00:02<00:00,  3.00s/it]\n"
     ]
    },
    {
     "name": "stdout",
     "output_type": "stream",
     "text": [
      "4\n"
     ]
    },
    {
     "name": "stderr",
     "output_type": "stream",
     "text": [
      "Tokenization: 100%|█████████████████████████████| 2/2 [00:00<00:00, 5041.23it/s]\n",
      "Inference: 100%|██████████████████████████████████| 1/1 [00:00<00:00,  3.19it/s]\n"
     ]
    },
    {
     "name": "stdout",
     "output_type": "stream",
     "text": [
      "5\n"
     ]
    },
    {
     "name": "stderr",
     "output_type": "stream",
     "text": [
      "Tokenization: 100%|████████████████████████| 210/210 [00:00<00:00, 27631.33it/s]\n",
      "Inference: 100%|██████████████████████████████████| 2/2 [00:52<00:00, 26.31s/it]\n"
     ]
    },
    {
     "name": "stdout",
     "output_type": "stream",
     "text": [
      "6\n"
     ]
    },
    {
     "name": "stderr",
     "output_type": "stream",
     "text": [
      "Tokenization: 100%|████████████████████████| 125/125 [00:00<00:00, 29767.10it/s]\n",
      "Inference: 100%|██████████████████████████████████| 1/1 [01:34<00:00, 94.03s/it]\n"
     ]
    },
    {
     "name": "stdout",
     "output_type": "stream",
     "text": [
      "7\n",
      "8\n"
     ]
    },
    {
     "name": "stderr",
     "output_type": "stream",
     "text": [
      "Tokenization: 100%|██████████████████████████| 34/34 [00:00<00:00, 54140.60it/s]\n",
      "Inference: 100%|██████████████████████████████████| 1/1 [00:03<00:00,  3.59s/it]\n"
     ]
    },
    {
     "name": "stdout",
     "output_type": "stream",
     "text": [
      "9\n"
     ]
    },
    {
     "name": "stderr",
     "output_type": "stream",
     "text": [
      "Tokenization: 100%|██████████████████████████| 26/26 [00:00<00:00, 17162.72it/s]\n",
      "Inference: 100%|██████████████████████████████████| 1/1 [00:10<00:00, 10.83s/it]\n"
     ]
    },
    {
     "name": "stdout",
     "output_type": "stream",
     "text": [
      "10\n"
     ]
    },
    {
     "name": "stderr",
     "output_type": "stream",
     "text": [
      "Tokenization: 100%|██████████████████████████| 26/26 [00:00<00:00, 16401.25it/s]\n",
      "Inference: 100%|██████████████████████████████████| 1/1 [00:11<00:00, 11.10s/it]\n"
     ]
    },
    {
     "name": "stdout",
     "output_type": "stream",
     "text": [
      "11\n"
     ]
    },
    {
     "name": "stderr",
     "output_type": "stream",
     "text": [
      "Tokenization: 100%|███████████████████████████| 18/18 [00:00<00:00, 7432.32it/s]\n",
      "Inference: 100%|██████████████████████████████████| 1/1 [00:08<00:00,  8.34s/it]\n"
     ]
    },
    {
     "name": "stdout",
     "output_type": "stream",
     "text": [
      "12\n"
     ]
    },
    {
     "name": "stderr",
     "output_type": "stream",
     "text": [
      "Tokenization: 100%|███████████████████████████| 18/18 [00:00<00:00, 7088.96it/s]\n",
      "Inference: 100%|██████████████████████████████████| 1/1 [00:08<00:00,  8.24s/it]\n"
     ]
    },
    {
     "name": "stdout",
     "output_type": "stream",
     "text": [
      "13\n"
     ]
    },
    {
     "name": "stderr",
     "output_type": "stream",
     "text": [
      "Tokenization: 100%|██████████████████████████| 57/57 [00:00<00:00, 15539.51it/s]\n",
      "Inference: 100%|██████████████████████████████████| 1/1 [00:15<00:00, 15.46s/it]\n"
     ]
    },
    {
     "name": "stdout",
     "output_type": "stream",
     "text": [
      "14\n"
     ]
    },
    {
     "name": "stderr",
     "output_type": "stream",
     "text": [
      "Tokenization: 100%|██████████████████████████| 57/57 [00:00<00:00, 17122.06it/s]\n",
      "Inference: 100%|██████████████████████████████████| 1/1 [00:15<00:00, 15.96s/it]\n"
     ]
    },
    {
     "name": "stdout",
     "output_type": "stream",
     "text": [
      "15\n"
     ]
    },
    {
     "name": "stderr",
     "output_type": "stream",
     "text": [
      "Tokenization: 100%|█████████████████████████████| 6/6 [00:00<00:00, 3028.38it/s]\n",
      "Inference: 100%|██████████████████████████████████| 1/1 [00:25<00:00, 25.23s/it]\n"
     ]
    },
    {
     "name": "stdout",
     "output_type": "stream",
     "text": [
      "16\n"
     ]
    },
    {
     "name": "stderr",
     "output_type": "stream",
     "text": [
      "Tokenization: 100%|██████████████████████████| 23/23 [00:00<00:00, 12628.48it/s]\n",
      "Inference: 100%|██████████████████████████████████| 1/1 [00:10<00:00, 10.92s/it]\n"
     ]
    },
    {
     "name": "stdout",
     "output_type": "stream",
     "text": [
      "17\n",
      "18\n"
     ]
    },
    {
     "name": "stderr",
     "output_type": "stream",
     "text": [
      "Tokenization: 100%|███████████████████████████| 23/23 [00:00<00:00, 5256.88it/s]\n",
      "Inference: 100%|██████████████████████████████████| 1/1 [00:10<00:00, 10.62s/it]\n"
     ]
    },
    {
     "name": "stdout",
     "output_type": "stream",
     "text": [
      "19\n"
     ]
    },
    {
     "name": "stderr",
     "output_type": "stream",
     "text": [
      "Tokenization: 100%|██████████████████████████| 32/32 [00:00<00:00, 58380.92it/s]\n",
      "Inference: 100%|██████████████████████████████████| 1/1 [00:01<00:00,  1.62s/it]\n"
     ]
    },
    {
     "name": "stdout",
     "output_type": "stream",
     "text": [
      "20\n"
     ]
    },
    {
     "name": "stderr",
     "output_type": "stream",
     "text": [
      "Tokenization: 100%|██████████████████████████| 26/26 [00:00<00:00, 11177.93it/s]\n",
      "Inference: 100%|██████████████████████████████████| 1/1 [00:12<00:00, 12.25s/it]\n"
     ]
    },
    {
     "name": "stdout",
     "output_type": "stream",
     "text": [
      "21\n",
      "22\n"
     ]
    },
    {
     "name": "stderr",
     "output_type": "stream",
     "text": [
      "Tokenization: 100%|██████████████████████████| 36/36 [00:00<00:00, 17168.27it/s]\n",
      "Inference: 100%|██████████████████████████████████| 1/1 [00:11<00:00, 11.69s/it]\n"
     ]
    },
    {
     "name": "stdout",
     "output_type": "stream",
     "text": [
      "23\n"
     ]
    },
    {
     "name": "stderr",
     "output_type": "stream",
     "text": [
      "Tokenization: 100%|██████████████████████████| 36/36 [00:00<00:00, 19294.01it/s]\n",
      "Inference: 100%|██████████████████████████████████| 1/1 [00:11<00:00, 11.96s/it]\n"
     ]
    },
    {
     "name": "stdout",
     "output_type": "stream",
     "text": [
      "24\n",
      "25\n",
      "26\n"
     ]
    },
    {
     "name": "stderr",
     "output_type": "stream",
     "text": [
      "Tokenization: 100%|██████████████████████████| 54/54 [00:00<00:00, 10808.51it/s]\n",
      "Inference: 100%|██████████████████████████████████| 1/1 [00:39<00:00, 39.03s/it]\n"
     ]
    },
    {
     "name": "stdout",
     "output_type": "stream",
     "text": [
      "27\n"
     ]
    },
    {
     "name": "stderr",
     "output_type": "stream",
     "text": [
      "Tokenization: 100%|███████████████████████████| 17/17 [00:00<00:00, 3790.30it/s]\n",
      "Inference: 100%|██████████████████████████████████| 1/1 [00:39<00:00, 39.28s/it]\n"
     ]
    },
    {
     "name": "stdout",
     "output_type": "stream",
     "text": [
      "28\n"
     ]
    },
    {
     "name": "stderr",
     "output_type": "stream",
     "text": [
      "Tokenization: 100%|█████████████████████████| 210/210 [00:00<00:00, 5907.99it/s]\n",
      "Inference: 100%|█████████████████████████████████| 3/3 [06:58<00:00, 139.47s/it]\n"
     ]
    },
    {
     "name": "stdout",
     "output_type": "stream",
     "text": [
      "29\n",
      "30\n"
     ]
    },
    {
     "name": "stderr",
     "output_type": "stream",
     "text": [
      "Tokenization: 100%|███████████████████████████| 67/67 [00:00<00:00, 4830.90it/s]\n",
      "Inference: 100%|█████████████████████████████████| 1/1 [03:53<00:00, 233.98s/it]\n"
     ]
    }
   ],
   "source": [
    "counters = []\n",
    "valid_tags = [\"EVENT\", \"FAC\", \"GPE\", \"LANGUAGE\", \"LAW\", \"LOC\", \"NORP\", \"ORG\", \"PERSON\", \"PRODUCT\", \"WORK_OF_ART\"]\n",
    "for idx, doc in enumerate(context):\n",
    "    print(idx)\n",
    "    df = pd.DataFrame(columns=[\"word\", \"ner\", \"idx\"])\n",
    "    if len(doc) > 1:\n",
    "        text = [__converter.convert(i) for i in doc]\n",
    "        text_ner = ner_driver(text, use_delim=True)\n",
    "        lst = [text_ner[k] for k in range(len(text_ner))]\n",
    "        for k in range(len(lst)):\n",
    "            df = df.append(lst[k], ignore_index=True)\n",
    "        for eachrow in range(len(df)):\n",
    "            if df.ner[eachrow] not in valid_tags:\n",
    "                df = df.drop([eachrow])\n",
    "        counter = Counter(df.word)\n",
    "    else:\n",
    "        counter = Counter(\"\")\n",
    "    counters.append(counter)"
   ]
  },
  {
   "cell_type": "code",
   "execution_count": 26,
   "id": "3ba9cbe4",
   "metadata": {
    "scrolled": true
   },
   "outputs": [
    {
     "data": {
      "text/plain": [
       "[Counter({'中國國防科技資訊中心': 11,\n",
       "          '維基百科': 1,\n",
       "          '自由的百科全書': 1,\n",
       "          '中國人民解放軍': 1,\n",
       "          '中國': 2,\n",
       "          '中共中央軍委': 1,\n",
       "          '國家中央軍委': 1,\n",
       "          '軍委政治工作部': 1,\n",
       "          '軍委紀律檢查委員會': 1,\n",
       "          '監察委員會': 1,\n",
       "          '中央軍委': 1,\n",
       "          '臺灣': 1,\n",
       "          'Wikipedia®': 1,\n",
       "          '維基媒體基金會': 2,\n",
       "          '美國': 1}),\n",
       " Counter({'京': 3,\n",
       "          '人民網': 1,\n",
       "          '北京': 2,\n",
       "          '趙竹青': 1,\n",
       "          '北京大學首都發展研究院': 1,\n",
       "          '李國平': 1,\n",
       "          '北京國家科技創新中心': 1,\n",
       "          '中國科學技術資訊研究所': 1,\n",
       "          '趙筱媛': 1,\n",
       "          '北京科學技術情報研究所': 1,\n",
       "          '吳晨生': 1,\n",
       "          '中國國防科技資訊中心': 1,\n",
       "          '真溱': 1,\n",
       "          '北京大學資訊管理系': 1,\n",
       "          '化柏林': 1,\n",
       "          '北京科學技術情報學會': 1,\n",
       "          '北京市科學技術情報研究所': 1,\n",
       "          '同方知網（北京）技術有限公司': 1,\n",
       "          '搜狐號系': 1,\n",
       "          '搜狐': 1}),\n",
       " Counter({'人民日報': 1,\n",
       "          '京': 2,\n",
       "          '人民網': 1,\n",
       "          '北京': 2,\n",
       "          '趙竹青': 1,\n",
       "          '北京大學首都發展研究院': 1,\n",
       "          '李國平': 1,\n",
       "          '北京國家科技創新中心': 1,\n",
       "          '中國科學技術資訊研究所': 1,\n",
       "          '趙筱媛': 1,\n",
       "          '北京科學技術情報研究所': 1,\n",
       "          '吳晨生': 1,\n",
       "          '中國國防科技資訊中心': 1,\n",
       "          '真溱': 1,\n",
       "          '北京大學資訊管理系': 1,\n",
       "          '化柏林': 1,\n",
       "          '北京科學技術情報學會': 1,\n",
       "          '北京市科學技術情報研究所': 1,\n",
       "          '同方知網（北京）技術有限公司': 1,\n",
       "          '馮人綦': 1,\n",
       "          '曹昆': 1,\n",
       "          '民 網': 1,\n",
       "          '微信': 1,\n",
       "          '中國': 1}),\n",
       " Counter({'無錫科技職業學院': 1, '豆瓣': 1, '無錫科技職業學院圖書館': 1}),\n",
       " Counter(),\n",
       " Counter({'中信出版社': 1,\n",
       "          ' 2015-8': 1,\n",
       "          ' 316': 1,\n",
       "          '國家竊聽': 8,\n",
       "          '美國': 11,\n",
       "          '斯諾登事件': 1,\n",
       "          '全球反恐戰爭': 1,\n",
       "          '中國國防科技資訊中心': 1,\n",
       "          '中國圖書館學會專業圖書館': 1,\n",
       "          '中國國防科技資訊學會': 1,\n",
       "          '南京理工大學': 1,\n",
       "          '加拿大': 1,\n",
       "          '多倫多大學資訊研究學院': 1,\n",
       "          ' VII': 2,\n",
       "          '” 014': 1,\n",
       "          '薩達姆': 2,\n",
       "          '星風': 1,\n",
       "          ' 052': 1,\n",
       "          '麥康奈爾': 1,\n",
       "          '國家安全有限公司': 1,\n",
       "          '國安局': 2,\n",
       "          ' “': 1,\n",
       "          '”斯諾登': 1,\n",
       "          '111': 1,\n",
       "          '庫尼亞坑道': 1,\n",
       "          '《總統每日簡報': 1,\n",
       "          '好搭檔': 1,\n",
       "          '麥城': 1,\n",
       "          '陳倉': 1,\n",
       "          ' · · · · · ·': 3,\n",
       "          '中情局': 7,\n",
       "          ' Web': 1,\n",
       "          'iPhone': 1,\n",
       "          'iPad': 1,\n",
       "          'Android ': 1,\n",
       "          '中信書院': 1,\n",
       "          '疑犯追蹤': 2,\n",
       "          '北京': 1,\n",
       "          '稜鏡門': 1,\n",
       "          '斯諾登': 1,\n",
       "          '美軍': 1,\n",
       "          '中國': 1,\n",
       "          '泰國': 2,\n",
       "          '911': 1,\n",
       "          'FBI': 1,\n",
       "          '嚴傑夫': 1,\n",
       "          '北京豆網科技有限公司': 1}),\n",
       " Counter({'趙伊君': 26,\n",
       "          '北京市': 3,\n",
       "          '海軍工程系': 1,\n",
       "          '原子工程系': 1,\n",
       "          '國防科技大學應用物理系': 3,\n",
       "          '光子對抗研究中心': 1,\n",
       "          '北京': 1,\n",
       "          '中國國防科技資訊中心': 2,\n",
       "          '中國工程院': 9,\n",
       "          '趙伊君傳': 1,\n",
       "          '國防科技大學出版社': 1,\n",
       "          '中文': 1,\n",
       "          '中國': 8,\n",
       "          '北京大學': 1,\n",
       "          '角動量與原子能量': 1,\n",
       "          '原子結構的計算': 1,\n",
       "          '中央大學附屬中學沙校': 1,\n",
       "          '北京大學物理系': 1,\n",
       "          '哈爾濱軍事工程學院海軍工程系': 1,\n",
       "          '哈爾濱軍事工程學院原子工程系': 1,\n",
       "          '中國共產黨': 1,\n",
       "          '國家科技進步獎': 1,\n",
       "          '國防科工委科技進步獎': 1,\n",
       "          '科研': 1,\n",
       "          '奧林匹克': 1,\n",
       "          '湘潭大學': 1,\n",
       "          '第十三屆全國物理力學大會': 1,\n",
       "          '錢學森': 1,\n",
       "          '中國力學學會物理力學專業委員會': 1,\n",
       "          '中國光學學會鐳射專業委員會': 1,\n",
       "          '國防科工委科技委員會': 1,\n",
       "          '國防科工委光電子技術專業組': 1,\n",
       "          '抗戰': 1,\n",
       "          '美國': 1,\n",
       "          '重慶中央大學': 1,\n",
       "          '趙伊筍': 1,\n",
       "          '重慶': 1,\n",
       "          '中國科學報': 2,\n",
       "          '百度': 1,\n",
       "          '中國科學家博物館': 1,\n",
       "          '中國社會科學院': 1}),\n",
       " Counter(),\n",
       " Counter({'中國國防科技資訊中心': 4,\n",
       "          '北京市海淀區': 1,\n",
       "          '阜成路': 1,\n",
       "          '中華人民共和國': 1,\n",
       "          '機械科學研究總院': 1,\n",
       "          '中國科學院生物物理研究所': 1}),\n",
       " Counter({'北大資訊管理系': 2,\n",
       "          '沙龍': 6,\n",
       "          '北京大學': 1,\n",
       "          '北京大學資訊管理系': 2,\n",
       "          '張浩達': 2,\n",
       "          '中國航天科技集團': 1,\n",
       "          '杜元清': 1,\n",
       "          '視覺傳播——資訊 認知 讀解': 1,\n",
       "          '娛樂至死': 1,\n",
       "          '尼爾·波茲曼': 1,\n",
       "          '中國國防科技資訊中心': 1,\n",
       "          '美國': 2,\n",
       "          '邁克爾·華納': 1,\n",
       "          '資訊管理系化': 1,\n",
       "          '柏林': 1,\n",
       "          '王延飛': 1,\n",
       "          '張教授': 1,\n",
       "          '中國科協資訊中心': 1,\n",
       "          '葛霆': 1,\n",
       "          '應用中心': 1,\n",
       "          '新浪': 2,\n",
       "          '孔夫子': 1,\n",
       "          '特朗普': 2,\n",
       "          ' All Rights Reserved': 1,\n",
       "          '新浪公司': 1}),\n",
       " Counter({'北大資訊管理系': 2,\n",
       "          '沙龍': 6,\n",
       "          '北京大學': 1,\n",
       "          '北京大學資訊管理系': 2,\n",
       "          '張浩達': 2,\n",
       "          '中國航天科技集團': 1,\n",
       "          '杜元清': 1,\n",
       "          '視覺傳播——資訊 認知 讀解': 1,\n",
       "          '娛樂至死': 1,\n",
       "          '尼爾·波茲曼': 1,\n",
       "          '中國國防科技資訊中心': 1,\n",
       "          '美國': 2,\n",
       "          '邁克爾·華納': 1,\n",
       "          '資訊管理系化': 1,\n",
       "          '柏林': 1,\n",
       "          '王延飛': 1,\n",
       "          '張教授': 1,\n",
       "          '中國科協資訊中心': 1,\n",
       "          '葛霆': 1,\n",
       "          '應用中心': 1,\n",
       "          '新浪': 2,\n",
       "          '孔夫子': 1,\n",
       "          '特朗普': 2,\n",
       "          ' All Rights Reserved': 1,\n",
       "          '新浪公司': 1}),\n",
       " Counter({'長春': 1,\n",
       "          '吉林省': 3,\n",
       "          '圖工委': 1,\n",
       "          '吉林大學圖書館': 5,\n",
       "          '吉林省高校圖書情報工作委員會': 2,\n",
       "          '萬方資料股份有限公司': 1,\n",
       "          '吉林大學鼎新圖書館': 1,\n",
       "          '吉林大學圖書館黨委': 1,\n",
       "          '高鵬': 1,\n",
       "          '張利': 2,\n",
       "          '吉林省圖工委': 1,\n",
       "          '中國科學院大學圖書情報與檔案管理系': 2,\n",
       "          '初景利': 2,\n",
       "          '東北師範大學': 2,\n",
       "          '劉萬國': 2,\n",
       "          '禹平': 1,\n",
       "          '吉林大學': 2,\n",
       "          '吉大圖書館': 1,\n",
       "          ' 禹平': 1,\n",
       "          '中國國防科技資訊中心': 2,\n",
       "          '真溱': 2,\n",
       "          '馬秋娟': 2,\n",
       "          '方誌中國': 1,\n",
       "          '中國': 2,\n",
       "          '中華': 1,\n",
       "          '馬': 1,\n",
       "          '長春市': 1}),\n",
       " Counter({'長春': 1,\n",
       "          '吉林省': 3,\n",
       "          '圖工委': 1,\n",
       "          '吉林大學圖書館': 5,\n",
       "          '吉林省高校圖書情報工作委員會': 2,\n",
       "          '萬方資料股份有限公司': 1,\n",
       "          '吉林大學鼎新圖書館': 1,\n",
       "          '吉林大學圖書館黨委': 1,\n",
       "          '高鵬': 1,\n",
       "          '張利': 2,\n",
       "          '吉林省圖工委': 1,\n",
       "          '中國科學院大學圖書情報與檔案管理系': 2,\n",
       "          '初景利': 2,\n",
       "          '東北師範大學': 2,\n",
       "          '劉萬國': 2,\n",
       "          '禹平': 1,\n",
       "          '吉林大學': 2,\n",
       "          '吉大圖書館': 1,\n",
       "          ' 禹平': 1,\n",
       "          '中國國防科技資訊中心': 2,\n",
       "          '真溱': 2,\n",
       "          '馬秋娟': 2,\n",
       "          '方誌中國': 1,\n",
       "          '中國': 2,\n",
       "          '中華': 1,\n",
       "          '馬': 1,\n",
       "          '長春市': 1}),\n",
       " Counter({'微信': 1,\n",
       "          '中國兵器工業集團公司': 1,\n",
       "          '中國國防科學技術資訊學會': 1,\n",
       "          '中國兵器工業集團第二一〇研究所': 1,\n",
       "          '潘銀喜': 1,\n",
       "          '傅興男': 1,\n",
       "          '劉林山': 1,\n",
       "          '劉景利': 1,\n",
       "          '馬費成': 1,\n",
       "          '劉\\u3000奎': 1,\n",
       "          '吳\\u3000東': 1,\n",
       "          '李\\u3000毅': 1,\n",
       "          '李廣建': 1,\n",
       "          '李彥慶': 1,\n",
       "          '張曉林': 1,\n",
       "          '張慧軍': 1,\n",
       "          '蘇新寧': 1,\n",
       "          '姜\\u3000巨': 1,\n",
       "          '胡均平': 1,\n",
       "          '趙相安': 1,\n",
       "          '賀德方': 1,\n",
       "          '殷雲浩': 1,\n",
       "          '黃\\u3000鵬': 1,\n",
       "          '謝曉陽': 1,\n",
       "          '中文': 1,\n",
       "          '中國科技期刊': 1,\n",
       "          '社會科學卷': 1,\n",
       "          'AMI': 1,\n",
       "          '中國': 2,\n",
       "          '日本科學技術振興機構資料庫': 1,\n",
       "          '日': 1,\n",
       "          '世界學術期刊': 1,\n",
       "          '情報理論與實踐': 4,\n",
       "          '中國國防科技資訊學會': 2,\n",
       "          '中國兵器工業集團第210研究所': 1,\n",
       "          '中國國際圖書進出口公司': 1,\n",
       "          'M4120': 1,\n",
       "          '北京市海淀區': 2,\n",
       "          '於偉': 1,\n",
       "          '情報學進展': 13,\n",
       "          '史秉能': 1,\n",
       "          '袁有雄': 1,\n",
       "          '盧勝軍': 2,\n",
       "          '錢學森': 2,\n",
       "          '慄琳': 1,\n",
       "          'Email': 1,\n",
       "          '《情報理論與實踐》': 1}),\n",
       " Counter({'微信': 1,\n",
       "          '中國兵器工業集團公司': 1,\n",
       "          '中國國防科學技術資訊學會': 1,\n",
       "          '中國兵器工業集團第二一〇研究所': 1,\n",
       "          '潘銀喜': 1,\n",
       "          '傅興男': 1,\n",
       "          '劉林山': 1,\n",
       "          '劉景利': 1,\n",
       "          '馬費成': 1,\n",
       "          '劉\\u3000奎': 1,\n",
       "          '吳\\u3000東': 1,\n",
       "          '李\\u3000毅': 1,\n",
       "          '李廣建': 1,\n",
       "          '李彥慶': 1,\n",
       "          '張曉林': 1,\n",
       "          '張慧軍': 1,\n",
       "          '蘇新寧': 1,\n",
       "          '姜\\u3000巨': 1,\n",
       "          '胡均平': 1,\n",
       "          '趙相安': 1,\n",
       "          '賀德方': 1,\n",
       "          '殷雲浩': 1,\n",
       "          '黃\\u3000鵬': 1,\n",
       "          '謝曉陽': 1,\n",
       "          '中文': 1,\n",
       "          '中國科技期刊': 1,\n",
       "          '社會科學卷': 1,\n",
       "          'AMI': 1,\n",
       "          '中國': 2,\n",
       "          '日本科學技術振興機構資料庫': 1,\n",
       "          '日': 1,\n",
       "          '世界學術期刊': 1,\n",
       "          '情報理論與實踐': 4,\n",
       "          '中國國防科技資訊學會': 2,\n",
       "          '中國兵器工業集團第210研究所': 1,\n",
       "          '中國國際圖書進出口公司': 1,\n",
       "          'M4120': 1,\n",
       "          '北京市海淀區': 2,\n",
       "          '於偉': 1,\n",
       "          '情報學進展': 13,\n",
       "          '史秉能': 1,\n",
       "          '袁有雄': 1,\n",
       "          '盧勝軍': 2,\n",
       "          '錢學森': 2,\n",
       "          '慄琳': 1,\n",
       "          'Email': 1,\n",
       "          '《情報理論與實踐》': 1}),\n",
       " Counter({'全國資訊與文獻標準化技術委員會技術互操作分技術委員會': 1,\n",
       "          'SAC/TC4/SC4': 1,\n",
       "          '中國科學技術資訊研究所': 9,\n",
       "          'TC46/SC4': 1,\n",
       "          '國際標準註冊中心': 1,\n",
       "          '中國': 2,\n",
       "          '美國全國全國研究創新聯合會CNRI': 1,\n",
       "          'DOI': 1,\n",
       "          '國際DOI基金會': 1,\n",
       "          'DOI創新應用（北京）論壇': 1,\n",
       "          '梁冰': 1,\n",
       "          '2真溱': 1,\n",
       "          '中國國防科技資訊中心': 2,\n",
       "          '喬曉東': 1,\n",
       "          '北京萬方資料股份有限公司': 2,\n",
       "          '王莉': 1,\n",
       "          '蔡志勇': 1,\n",
       "          '中國化工資訊中心': 1,\n",
       "          '王波': 1,\n",
       "          '中國航空工業發展研究中心': 1,\n",
       "          '毛雅君': 1,\n",
       "          '中國醫學科學院醫學資訊研究所': 1,\n",
       "          '馮英': 1,\n",
       "          '於治民': 1,\n",
       "          '冶金資訊研究所': 1,\n",
       "          '陳文廣': 1,\n",
       "          '北京大學資訊管理系': 1,\n",
       "          '王文清': 1,\n",
       "          '中國高等教育文獻保障系統管理中心': 1,\n",
       "          '張智雄': 1,\n",
       "          '中國科學院文獻情報中心': 1,\n",
       "          '劉煒': 1,\n",
       "          '上海科學技術情報研究所': 1,\n",
       "          '趙少平': 1,\n",
       "          '王文生': 1,\n",
       "          '中國農業科學院農業資訊研究所': 1,\n",
       "          '吳廣印': 1,\n",
       "          '張志平': 1,\n",
       "          '張蘭': 1,\n",
       "          '北京市海淀區': 1,\n",
       "          '復興路': 1}),\n",
       " Counter({'長春': 1,\n",
       "          '吉林大學圖書館': 4,\n",
       "          '吉林省高校圖書情報工作委員會': 1,\n",
       "          '萬方資料股份有限公司': 1,\n",
       "          '吉林省': 1,\n",
       "          '吉林大學鼎新圖書館': 1,\n",
       "          '張利': 1,\n",
       "          '吉林省圖工委': 1,\n",
       "          '中國科學院大學圖書情報與檔案管理系': 1,\n",
       "          '初景利': 1,\n",
       "          '東北師範大學': 1,\n",
       "          '劉萬國': 1,\n",
       "          '禹平': 1,\n",
       "          '吉大圖書館': 1,\n",
       "          '中國國防科技資訊中心': 1,\n",
       "          '真溱': 1,\n",
       "          '馬秋娟': 1,\n",
       "          '方誌中國': 1,\n",
       "          '中國': 2,\n",
       "          '中華': 1,\n",
       "          '馬': 1,\n",
       "          'Phone': 1,\n",
       "          'E-mail': 1,\n",
       "          '新浪': 1,\n",
       "          '北京萬方資料股份有限公司': 1,\n",
       "          '北京市': 1,\n",
       "          '海淀區': 1}),\n",
       " Counter(),\n",
       " Counter({'長春': 1,\n",
       "          '吉林大學圖書館': 4,\n",
       "          '吉林省高校圖書情報工作委員會': 1,\n",
       "          '萬方資料股份有限公司': 1,\n",
       "          '吉林省': 1,\n",
       "          '吉林大學鼎新圖書館': 1,\n",
       "          '張利': 1,\n",
       "          '吉林省圖工委': 1,\n",
       "          '中國科學院大學圖書情報與檔案管理系': 1,\n",
       "          '初景利': 1,\n",
       "          '東北師範大學': 1,\n",
       "          '劉萬國': 1,\n",
       "          '禹平': 1,\n",
       "          '吉大圖書館': 1,\n",
       "          '中國國防科技資訊中心': 1,\n",
       "          '真溱': 1,\n",
       "          '馬秋娟': 1,\n",
       "          '方誌中國': 1,\n",
       "          '中國': 2,\n",
       "          '中華': 1,\n",
       "          '馬': 1,\n",
       "          'Phone': 1,\n",
       "          'E-mail': 1,\n",
       "          '新浪': 1,\n",
       "          '北京萬方資料股份有限公司': 1,\n",
       "          '北京市': 1,\n",
       "          '海淀區': 1}),\n",
       " Counter(),\n",
       " Counter({'北京大學外國語學院': 2,\n",
       "          '千絲萬語 同路同情”文化節': 1,\n",
       "          '一帶一路': 1,\n",
       "          '北京大學': 5,\n",
       "          '北京大學五四體育中心': 1,\n",
       "          '北京大學學生心理健康教育與諮詢中心': 2,\n",
       "          '北京大學體育教研部': 1,\n",
       "          '中國': 2,\n",
       "          '中國野生植物保護協會': 2,\n",
       "          '中國中藥協會': 1,\n",
       "          '國家瀕危物種進出口管理辦公室': 1,\n",
       "          '新疆維吾爾自治區和田地區行署': 1,\n",
       "          '北京大學天然藥物及仿生藥物國家重點實驗室': 1,\n",
       "          '國際肉蓯蓉暨沙生藥用植物學術研討會': 1,\n",
       "          '蓉保育委員會': 1,\n",
       "          '北京大學中醫藥現代研究中心': 1,\n",
       "          '屠鵬飛': 1,\n",
       "          '北京大學全球大學生創新創業中心': 1,\n",
       "          '資訊科學技術學院': 1,\n",
       "          '北京': 1,\n",
       "          '北京大學化學與分子工程學院化學生物學系': 1,\n",
       "          '雷曉光課題組': 1,\n",
       "          '王初課題組': 1,\n",
       "          '北京大學新媒體營銷傳播研究（CCM）中心': 1,\n",
       "          '臺北廣告業商業同業公會': 1,\n",
       "          '旺旺中時傳媒': 1,\n",
       "          '臺灣滾石文化': 1,\n",
       "          '兩岸營銷傳播論壇': 1,\n",
       "          '臺灣師範大學': 1,\n",
       "          '大陸': 1,\n",
       "          '臺灣': 1,\n",
       "          '北京市海淀區': 1,\n",
       "          '頤和園路': 1}),\n",
       " Counter(),\n",
       " Counter({'Asia': 1,\n",
       "          'America': 1,\n",
       "          'Europe': 1,\n",
       "          'Oceania': 1,\n",
       "          'Africa': 1,\n",
       "          '中國圖書館2014年會知識組織': 1,\n",
       "          'Oct. 10 - 12': 1,\n",
       "          ' 2014': 1,\n",
       "          '北京市': 1,\n",
       "          ' · China': 1,\n",
       "          '0 Comments': 1,\n",
       "          'Introduction': 1,\n",
       "          '劉細文': 1,\n",
       "          '中國圖書館學會專業圖書館分會': 4,\n",
       "          '中國科學院文獻情報中心': 3,\n",
       "          '孫坦': 1,\n",
       "          '中圖學會資訊資源建設專業委員會': 1,\n",
       "          '李廣建': 1,\n",
       "          '中國圖書館學會數字圖書館研究與建設專業委員會': 2,\n",
       "          '北京大學資訊管理系': 1,\n",
       "          '王樂春': 1,\n",
       "          '國家圖書館資訊網路部': 1,\n",
       "          '喬曉東': 1,\n",
       "          '中國科學技術資訊研究所': 1,\n",
       "          ' 真溱': 1,\n",
       "          '中圖學會數字圖書館研究與建設專業委員會': 1,\n",
       "          '中國國防科技資訊中心': 1,\n",
       "          '胡小菁': 1,\n",
       "          '華東師範大學圖書館': 1,\n",
       "          '雷楓': 1,\n",
       "          '中國社會科學院當代中國研究所': 1,\n",
       "          '張智雄': 1,\n",
       "          'Verify Code': 1,\n",
       "          'All Comments': 1,\n",
       "          'Conference Date': 1,\n",
       "          'Oct 10': 1,\n",
       "          'to': 1,\n",
       "          'Oct 12': 1,\n",
       "          'Sponsored By': 1,\n",
       "          '中國圖書館學會學術研究委員會': 1,\n",
       "          '中國圖書館學會專業圖書館': 1,\n",
       "          '姚偉欣': 1}),\n",
       " Counter({'Asia': 1,\n",
       "          'America': 1,\n",
       "          'Europe': 1,\n",
       "          'Oceania': 1,\n",
       "          'Africa': 1,\n",
       "          '中國圖書館2014年會知識組織': 1,\n",
       "          'Oct. 10 - 12': 1,\n",
       "          ' 2014': 1,\n",
       "          '北京市': 1,\n",
       "          ' · China': 1,\n",
       "          '0 Comments': 1,\n",
       "          'Introduction': 1,\n",
       "          '劉細文': 1,\n",
       "          '中國圖書館學會專業圖書館分會': 4,\n",
       "          '中國科學院文獻情報中心': 3,\n",
       "          '孫坦': 1,\n",
       "          '中圖學會資訊資源建設專業委員會': 1,\n",
       "          '李廣建': 1,\n",
       "          '中國圖書館學會數字圖書館研究與建設專業委員會': 2,\n",
       "          '北京大學資訊管理系': 1,\n",
       "          '王樂春': 1,\n",
       "          '國家圖書館資訊網路部': 1,\n",
       "          '喬曉東': 1,\n",
       "          '中國科學技術資訊研究所': 1,\n",
       "          ' 真溱': 1,\n",
       "          '中圖學會數字圖書館研究與建設專業委員會': 1,\n",
       "          '中國國防科技資訊中心': 1,\n",
       "          '胡小菁': 1,\n",
       "          '華東師範大學圖書館': 1,\n",
       "          '雷楓': 1,\n",
       "          '中國社會科學院當代中國研究所': 1,\n",
       "          '張智雄': 1,\n",
       "          'Verify Code': 1,\n",
       "          'All Comments': 1,\n",
       "          'Conference Date': 1,\n",
       "          'Oct 10': 1,\n",
       "          'to': 1,\n",
       "          'Oct 12': 1,\n",
       "          'Sponsored By': 1,\n",
       "          '中國圖書館學會學術研究委員會': 1,\n",
       "          '中國圖書館學會專業圖書館': 1,\n",
       "          '姚偉欣': 1}),\n",
       " Counter(),\n",
       " Counter(),\n",
       " Counter({'We Recommend': 1,\n",
       "          'Videos': 1,\n",
       "          'Photos': 1,\n",
       "          '國防科技大學': 2,\n",
       "          '李小勇': 2,\n",
       "          '解放軍報': 2,\n",
       "          '韓雪': 1,\n",
       "          '齊旭聰': 2,\n",
       "          '王微粒': 2,\n",
       "          '于海洋': 1,\n",
       "          '韓 雪': 1,\n",
       "          '帕斯卡': 3,\n",
       "          '巴貝奇': 3,\n",
       "          'ENIAC': 3,\n",
       "          '中國科學技術大學': 1,\n",
       "          '潘建偉': 1,\n",
       "          '美國矽谷': 1,\n",
       "          '歷史博物館': 1,\n",
       "          '漢': 1,\n",
       "          '中國': 1,\n",
       "          '橫空出世': 1,\n",
       "          '慄紅色': 1,\n",
       "          '道德經': 1,\n",
       "          '印加人': 1,\n",
       "          '奇普': 1,\n",
       "          '南京長江大橋': 1,\n",
       "          '法國': 1,\n",
       "          '德國': 1,\n",
       "          '萊布尼茨': 1,\n",
       "          '英國': 4,\n",
       "          '“PDP-1': 1,\n",
       "          '摩爾': 2,\n",
       "          'AlphaGo': 1,\n",
       "          '柯潔': 1,\n",
       "          '美國': 1,\n",
       "          '馮·諾依曼': 1,\n",
       "          '圖靈': 1,\n",
       "          '圖靈機': 1,\n",
       "          '夏農': 1,\n",
       "          '梁 晨': 1}),\n",
       " Counter({'Wednesday': 1,\n",
       "          ' Nov 10': 1,\n",
       "          '北京萬方資料股份有限公司': 1,\n",
       "          '萬方資料': 1,\n",
       "          '萬方資料2018資訊內容與技術創新大會': 1,\n",
       "          '海南': 1,\n",
       "          '海口': 1,\n",
       "          '中國': 3,\n",
       "          '李克強': 1,\n",
       "          '政府': 1,\n",
       "          '蔣勇青': 2,\n",
       "          '中國農業科學院農業資訊研究所': 1,\n",
       "          '孫坦': 1,\n",
       "          '中國國防科技資訊中心': 1,\n",
       "          '真溱': 1,\n",
       "          '中藥大品種聯盟': 1,\n",
       "          '中國中醫科學院中藥研究所中心': 1,\n",
       "          '楊洪軍': 1,\n",
       "          '中國科學技術資訊研究所': 1,\n",
       "          '喬曉東': 2,\n",
       "          '新時代醫學智慧服務創新發展論壇': 1,\n",
       "          '歐亞經濟合作組織': 1,\n",
       "          '歐亞': 2,\n",
       "          '鄭州大學第一附屬醫院': 1,\n",
       "          '新疆醫科大學第一附屬醫院': 1,\n",
       "          '同濟醫學院附屬協和醫院': 1,\n",
       "          '美亞柏科': 1,\n",
       "          '萬方智訊': 1,\n",
       "          '臺灣': 1}),\n",
       " Counter({'中國國防科技資訊中心': 1,\n",
       "          'World-leading quality': 1,\n",
       "          'Translate now': 1,\n",
       "          'adj—': 1,\n",
       "          ' 2021': 1,\n",
       "          '國 際 社': 1,\n",
       "          '香港': 3,\n",
       "          'assessed the risks and': 1,\n",
       "          '塔 吉克研究中心': 1,\n",
       "          'following': 1,\n",
       "          ' advertising and library marketing': 1,\n",
       "          ' service for the disabled': 1,\n",
       "          ' dissertations': 1,\n",
       "          ' a heat and sanitation unit': 1,\n",
       "          ' publications': 1,\n",
       "          ' a legal information centre': 1,\n",
       "          ' a media centre': 1,\n",
       "          'a financial information centre': 1,\n",
       "          '聯合國': 4,\n",
       "          'However': 1,\n",
       "          ' Organization-wide basis': 1,\n",
       "          '創新科技署': 1,\n",
       "          'At the invitation of the Chairman': 1,\n",
       "          ' the': 2,\n",
       "          ' international networking efforts': 1,\n",
       "          'and local industry': 1,\n",
       "          '何俊仁': 1,\n",
       "          '網際網路專業協會(iProA)': 1,\n",
       "          '信有限公司': 1,\n",
       "          '“ePlus”': 1,\n",
       "          'ePlus': 1,\n",
       "          '協 通科技有限公司': 1,\n",
       "          'Chinese World Ventures Limited': 1,\n",
       "          '中國多媒體資源 有限公司': 1,\n",
       "          '聯眾醫療資訊科技國際有 限公司': 1,\n",
       "          'in Chinese': 1,\n",
       "          ' President': 1,\n",
       "          ' and ePlus also': 1,\n",
       "          'has close connections': 1,\n",
       "          'Limited ': 1,\n",
       "          ' and': 2,\n",
       "          '大會第六十五屆會議': 1,\n",
       "          '第 65/75 號決議': 1,\n",
       "          ' where appropriate': 1,\n",
       "          '航空航天測量培訓中心': 1,\n",
       "          '航測培訓中心': 1,\n",
       "          ' planning': 1,\n",
       "          '美國疾病控制及預防中': 1,\n",
       "          '英國': 1,\n",
       "          '布 ': 1,\n",
       "          'States and the “Health': 1,\n",
       "          '以色列全國委員會': 1,\n",
       "          '雷霍沃特魏茲 曼 科 學 研 究所': 1,\n",
       "          '第比利斯': 1,\n",
       "          '喬治亞': 1,\n",
       "          '國際聯合核研究所（JINR）基準中心': 1,\n",
       "          '俄羅斯': 3,\n",
       "          '教科文組織': 4,\n",
       "          '衣索比亞': 3,\n",
       "          '教科文組織教席國際基礎科學計劃多國基金會': 1,\n",
       "          'In 20082009': 1,\n",
       "          'centre at the Weizmann': 1,\n",
       "          'of the activity': 1,\n",
       "          '香港科 學協會': 1,\n",
       "          '林 頓': 1,\n",
       "          '自由與責任委 員會': 1,\n",
       "          '萊 斯': 1,\n",
       "          '科 學 ': 1,\n",
       "          '美': 3,\n",
       "          ' ': 1,\n",
       "          ' cited the': 1,\n",
       "          ' published in the Science magazine': 1,\n",
       "          '大唐': 2,\n",
       "          '中國': 5,\n",
       "          '北京': 2,\n",
       "          'WebGIS': 1,\n",
       "          'presentat': 1,\n",
       "          ' historical flood records': 1,\n",
       "          ' water quality information ': 1,\n",
       "          ' hydrologic information': 1,\n",
       "          'functions': 1,\n",
       "          'of data uploading ': 1,\n",
       "          ' releasing': 1,\n",
       "          ' retrieving': 1,\n",
       "          ' exchange': 1,\n",
       "          '環境規劃署': 1,\n",
       "          '海關部': 1,\n",
       "          ' multilateralfund.org': 1,\n",
       "          'including': 1,\n",
       "          'multilateralfund.org': 1,\n",
       "          'ICG and the regional': 1,\n",
       "          ' affiliated to the United Nations': 2,\n",
       "          ' and will ': 1,\n",
       "          'focus on capacity-building': 1,\n",
       "          '國際導航衛星 系統國際委員會': 1,\n",
       "          'capacity-building': 1,\n",
       "          '俄 羅斯聯邦航天局': 1,\n",
       "          '俄羅斯科學院': 1,\n",
       "          '國防 部': 1,\n",
       "          '民 防': 1,\n",
       "          '自然災害管理部': 1,\n",
       "          '信 息技術': 1,\n",
       "          ' 通訊部': 1,\n",
       "          '聯邦大地測量和地圖繪製局': 1,\n",
       "          '環境監督局': 1,\n",
       "          'cooperation with the': 1,\n",
       "          'Russian Academy of Sciences': 1,\n",
       "          ' the Ministry of Defence': 1,\n",
       "          ' the Ministry for Civil Defence': 1,\n",
       "          'the Federal Geodesy': 1,\n",
       "          'and Cartography Agency': 1,\n",
       "          '祕書處': 1,\n",
       "          '哥倫比亞': 2,\n",
       "          '拉丁美洲': 1,\n",
       "          '加勒比': 1,\n",
       "          '荷蘭': 1,\n",
       "          '國際地下水資源評估中心': 1,\n",
       "          '利比亞': 2,\n",
       "          '共同地下水區域管理中心': 1,\n",
       "          '教科文組 織': 2,\n",
       "          '巴基斯 坦': 1,\n",
       "          '澳大利亞': 1,\n",
       "          '巴西': 1,\n",
       "          '巴拉圭': 1,\n",
       "          'Resources': 1,\n",
       "          ' Pakistan': 1,\n",
       "          ' Australia': 1,\n",
       "          ' education': 1,\n",
       "          'general and application': 1,\n",
       "          'controls and general': 1,\n",
       "          ' UNIX': 1,\n",
       "          'Datang is a': 1,\n",
       "          'telecommunication': 1,\n",
       "          '美國': 1,\n",
       "          '加拿大': 1,\n",
       "          ' FIPS ': 1,\n",
       "          ' many state and local': 1,\n",
       "          'governments': 1,\n",
       "          'regulated industries such as healthcare': 1,\n",
       "          'sensitive data': 1,\n",
       "          '阿姆哈拉語': 1,\n",
       "          '艾滋病': 2,\n",
       "          '尼日': 1,\n",
       "          '烏干達': 1,\n",
       "          '津巴布 韋': 1,\n",
       "          '艾滋病毒': 1,\n",
       "          '法文': 1,\n",
       "          '葡萄牙文': 1,\n",
       "          '比勒陀利亞大學': 1,\n",
       "          '滙豐': 2,\n",
       "          '銀行保密法': 1,\n",
       "          ' legal and regulatory': 1,\n",
       "          ' and litigation challenges': 1,\n",
       "          '外交部': 1,\n",
       "          '司法部': 1,\n",
       "          '內務部': 1,\n",
       "          '勞動和社會保障部': 1,\n",
       "          '衛生部': 1,\n",
       "          '教 育部': 1,\n",
       "          '文化部': 1,\n",
       "          '資訊部': 1,\n",
       "          '經濟部': 1,\n",
       "          '住房和公共事業部': 1,\n",
       "          '農業和糧食部': 1,\n",
       "          '體育和旅 遊部': 1,\n",
       "          '憲法法院': 1,\n",
       "          '最高法院': 1,\n",
       "          '總檢察院': 1,\n",
       "          '宗教和民族事務專員辦事處': 1,\n",
       "          '國家統計 委員會': 1,\n",
       "          '國家科學院': 1,\n",
       "          '國家立法和法律研究中心': 1,\n",
       "          '白俄羅斯共和國總統辦公廳': 1,\n",
       "          '資訊分析中心': 1,\n",
       "          ' Labour and Social Welfare': 1,\n",
       "          ' Health': 1,\n",
       "          ' Education': 1,\n",
       "          ' Culture': 1,\n",
       "          ' Information': 1,\n",
       "          ' the Economy': 1,\n",
       "          ' the Constitutional Court': 1,\n",
       "          ' the National': 1,\n",
       "          'Statistical Committee': 1,\n",
       "          'National Academy of Sciences': 1,\n",
       "          ' Magpi ': 1,\n",
       "          '000 ': 1,\n",
       "          '世界銀行': 1,\n",
       "          '美國疾病控制': 1,\n",
       "          '預 防中心': 1,\n",
       "          '紅 十字會': 1,\n",
       "          ' datadyne.org': 1,\n",
       "          ' and allowed nearly 10': 1,\n",
       "          'Bank': 1,\n",
       "          ' the CDC': 1,\n",
       "          ' and others': 1,\n",
       "          'datadyne.org': 1,\n",
       "          '日本': 1,\n",
       "          '蒙古科學院天文學和地球物理 學 中心': 1,\n",
       "          '沙 特阿拉伯': 1,\n",
       "          '沙特國王大學': 1,\n",
       "          '阿卜杜勒阿齊茲國王大學': 1,\n",
       "          '印度尼西亞': 1,\n",
       "          ' Bosscha 天文臺': 1,\n",
       "          'In 2011': 1,\n",
       "          ' and the Bosscha Observatory in Indonesia': 1}),\n",
       " Counter(),\n",
       " Counter({'Educação Canadense': 1,\n",
       "          'Bilíngue de Verdade': 1,\n",
       "          ' cada vez mais': 1,\n",
       "          ' e não aprende somente inglês': 1,\n",
       "          'Metodologia Canadense': 1,\n",
       "          'Com confiança': 1,\n",
       "          'Mais do que aprender inglês': 1,\n",
       "          'Formação': 1,\n",
       "          'Educação Infantil': 1,\n",
       "          'Ensino Fundamental': 1,\n",
       "          'Escolas': 1,\n",
       "          ' no Canadá': 1,\n",
       "          ' a socialização das crianças': 1,\n",
       "          ' o respeito': 1,\n",
       "          ' xadrez': 1,\n",
       "          ' dança': 1,\n",
       "          '”Veja Mais': 2,\n",
       "          'Mariana Gimenes Pugliesi': 1,\n",
       "          ' já estava contando de 1 a 10': 1,\n",
       "          'Monize': 1,\n",
       "          ' de fato': 1,\n",
       "          'Blog Maple Bear': 1,\n",
       "          'Agende sua Visita': 1,\n",
       "          ' Manage consent': 1,\n",
       "          'Privacy O': 1,\n",
       "          'Necessary': 1,\n",
       "          'Functional': 1,\n",
       "          'Performance': 1,\n",
       "          'Analytics': 1,\n",
       "          ' bounce rate': 1,\n",
       "          ' traffic source': 1,\n",
       "          'Advertisement': 1,\n",
       "          'Others': 1,\n",
       "          'Maple Bear': 1,\n",
       "          'Get in Touch': 1})]"
      ]
     },
     "execution_count": 26,
     "metadata": {},
     "output_type": "execute_result"
    }
   ],
   "source": [
    "counters"
   ]
  },
  {
   "cell_type": "markdown",
   "id": "25a0fae3",
   "metadata": {},
   "source": [
    "<b>Target Page Demo:<b>\n",
    "- 使用ckip-transformers的pretrained model: bert-base-chinese\n",
    "- 尚未fine-tuning\n",
    "- 尚未重新訓練詞向量，暫用以LAC分詞所訓練的模型"
   ]
  },
  {
   "cell_type": "code",
   "execution_count": 2,
   "id": "999ee6df",
   "metadata": {
    "scrolled": true
   },
   "outputs": [
    {
     "name": "stdout",
     "output_type": "stream",
     "text": [
      "1 https://zh.wikipedia.org/zh-tw/%E4%B8%AD%E5%9B%BD%E5%9B%BD%E9%98%B2%E7%A7%91%E6%8A%80%E4%BF%A1%E6%81%AF%E4%B8%AD%E5%BF%83\n"
     ]
    },
    {
     "name": "stderr",
     "output_type": "stream",
     "text": [
      "/opt/anaconda3/envs/tf15/lib/python3.7/site-packages/urllib3/connectionpool.py:1020: InsecureRequestWarning: Unverified HTTPS request is being made to host 'zh.wikipedia.org'. Adding certificate verification is strongly advised. See: https://urllib3.readthedocs.io/en/1.26.x/advanced-usage.html#ssl-warnings\n",
      "  InsecureRequestWarning,\n"
     ]
    },
    {
     "name": "stdout",
     "output_type": "stream",
     "text": [
      "2 http://www.sohu.com/a/205770974_114731\n"
     ]
    },
    {
     "name": "stderr",
     "output_type": "stream",
     "text": [
      "/opt/anaconda3/envs/tf15/lib/python3.7/site-packages/urllib3/connectionpool.py:1020: InsecureRequestWarning: Unverified HTTPS request is being made to host 'www.sohu.com'. Adding certificate verification is strongly advised. See: https://urllib3.readthedocs.io/en/1.26.x/advanced-usage.html#ssl-warnings\n",
      "  InsecureRequestWarning,\n"
     ]
    },
    {
     "name": "stdout",
     "output_type": "stream",
     "text": [
      "3 http://scitech.people.com.cn/BIG5/n1/2017/1121/c1007-29660043.html\n",
      "4 http://218.90.174.174:8080/opac/item.php?marc_no=644b4d484e30304d6d5a39446e2f7a5346426f494d673d3d\n",
      "5 http://www.jnfhwl.com/mingxing/gukrlsrpn.html\n",
      "6 https://book.douban.com/subject/26545176//\n"
     ]
    },
    {
     "name": "stderr",
     "output_type": "stream",
     "text": [
      "/opt/anaconda3/envs/tf15/lib/python3.7/site-packages/urllib3/connectionpool.py:1020: InsecureRequestWarning: Unverified HTTPS request is being made to host 'book.douban.com'. Adding certificate verification is strongly advised. See: https://urllib3.readthedocs.io/en/1.26.x/advanced-usage.html#ssl-warnings\n",
      "  InsecureRequestWarning,\n"
     ]
    },
    {
     "name": "stdout",
     "output_type": "stream",
     "text": [
      "7 https://baike.baidu.com/item/%E8%B5%B5%E4%BC%8A%E5%90%9B/9157898\n"
     ]
    },
    {
     "name": "stderr",
     "output_type": "stream",
     "text": [
      "/opt/anaconda3/envs/tf15/lib/python3.7/site-packages/urllib3/connectionpool.py:1020: InsecureRequestWarning: Unverified HTTPS request is being made to host 'baike.baidu.com'. Adding certificate verification is strongly advised. See: https://urllib3.readthedocs.io/en/1.26.x/advanced-usage.html#ssl-warnings\n",
      "  InsecureRequestWarning,\n"
     ]
    },
    {
     "name": "stdout",
     "output_type": "stream",
     "text": [
      "8 https://www.shimenmuyu.com/art/2019/12/25/art_23348_448376.html\n",
      "HTTPSConnectionPool(host='www.shimenmuyu.com', port=443): Max retries exceeded with url: /art/2019/12/25/art_23348_448376.html (Caused by NewConnectionError('<urllib3.connection.HTTPSConnection object at 0x7fec861aab00>: Failed to establish a new connection: [Errno 8] nodename nor servname provided, or not known'))\n",
      "9 https://amp.cn.shops-com.ru/5684017/1/%E4%B8%AD%E5%9B%BD%E5%9B%BD%E9%98%B2%E7%A7%91%E6%8A%80%E4%BF%A1%E6%81%AF%E4%B8%AD%E5%BF%83.html\n"
     ]
    },
    {
     "name": "stderr",
     "output_type": "stream",
     "text": [
      "/opt/anaconda3/envs/tf15/lib/python3.7/site-packages/urllib3/connectionpool.py:1020: InsecureRequestWarning: Unverified HTTPS request is being made to host 'amp.cn.shops-com.ru'. Adding certificate verification is strongly advised. See: https://urllib3.readthedocs.io/en/1.26.x/advanced-usage.html#ssl-warnings\n",
      "  InsecureRequestWarning,\n"
     ]
    },
    {
     "name": "stdout",
     "output_type": "stream",
     "text": [
      "10 http://news.sina.com.cn/o/2016-11-14/doc-ifxxsmuu5583662.shtml\n",
      "11 http://news.sina.com.cn/o/2016-11-14/doc-ifxxsmuu5583662.shtml\n",
      "12 http://tgw.jlu.edu.cn/info/1003/1005.htm\n",
      "13 http://www.lis.ac.cn/CN/article/downloadArticleFile.do?attachType=PDF&id=21795\n",
      "14 http://www.itapress.cn/CN/column/column4731.shtml\n",
      "15 http://www.lsc.org.cn/Attachment/Doc/1287649286.xls\n",
      "16 https://netl.istic.ac.cn/sso/tc46/details/9EEB494E5936427C918C19E0201E94D8\n"
     ]
    },
    {
     "name": "stderr",
     "output_type": "stream",
     "text": [
      "/opt/anaconda3/envs/tf15/lib/python3.7/site-packages/urllib3/connectionpool.py:1020: InsecureRequestWarning: Unverified HTTPS request is being made to host 'netl.istic.ac.cn'. Adding certificate verification is strongly advised. See: https://urllib3.readthedocs.io/en/1.26.x/advanced-usage.html#ssl-warnings\n",
      "  InsecureRequestWarning,\n"
     ]
    },
    {
     "name": "stdout",
     "output_type": "stream",
     "text": [
      "17 http://yantao.wanfangdata.com.cn/Home/GetTrendDetail?id=0dba5263-e87a-4fdc-92a3-a96cef1a1ea8\n",
      "18 http://www.diobosi.com/contents/1353/7533.html\n",
      "HTTPConnectionPool(host='www.diobosi.com', port=80): Max retries exceeded with url: /contents/1353/7533.html (Caused by ConnectTimeoutError(<urllib3.connection.HTTPConnection object at 0x7fec8705bd30>, 'Connection to www.diobosi.com timed out. (connect timeout=30)'))\n",
      "19 http://vietyeah.com/contents/1345/9301.html\n",
      "20 http://www.dsti.net/\n",
      "21 http://pkunews.pku.edu.cn/xwzh/index1177.htm\n"
     ]
    },
    {
     "name": "stderr",
     "output_type": "stream",
     "text": [
      "/opt/anaconda3/envs/tf15/lib/python3.7/site-packages/urllib3/connectionpool.py:1020: InsecureRequestWarning: Unverified HTTPS request is being made to host 'pkunews.pku.edu.cn'. Adding certificate verification is strongly advised. See: https://urllib3.readthedocs.io/en/1.26.x/advanced-usage.html#ssl-warnings\n",
      "  InsecureRequestWarning,\n"
     ]
    },
    {
     "name": "stdout",
     "output_type": "stream",
     "text": [
      "22 http://222.88.118.79:82/KCMS/detail/detail.aspx?filename=JSSG201507015&dbcode=CJFD&dbname=CJFD2015\n",
      "HTTPConnectionPool(host='222.88.118.79', port=82): Max retries exceeded with url: /KCMS/detail/detail.aspx?filename=JSSG201507015&dbcode=CJFD&dbname=CJFD2015 (Caused by ConnectTimeoutError(<urllib3.connection.HTTPConnection object at 0x7fec870a5a58>, 'Connection to 222.88.118.79 timed out. (connect timeout=30)'))\n",
      "23 https://www.aconf.org/conf_52187.%E4%B8%AD%E5%9B%BD%E5%9B%BE%E4%B9%A6%E9%A6%862014%E5%B9%B4%E4%BC%9A%E7%9F%A5%E8%AF%86%E7%BB%84%E7%BB%87%E6%8F%AD%E7%A4%BA%EF%BC%9A%E6%8A%80%E6%9C%AF%E3%80%81%E6%96%B9%E6%B3%95%E4%B8%8E%E5%AE%9E%E8%B7%B5%E5%88%86%E4%BC%9A%E5%9C%BA.html\n"
     ]
    },
    {
     "name": "stderr",
     "output_type": "stream",
     "text": [
      "/opt/anaconda3/envs/tf15/lib/python3.7/site-packages/urllib3/connectionpool.py:1020: InsecureRequestWarning: Unverified HTTPS request is being made to host 'www.aconf.org'. Adding certificate verification is strongly advised. See: https://urllib3.readthedocs.io/en/1.26.x/advanced-usage.html#ssl-warnings\n",
      "  InsecureRequestWarning,\n"
     ]
    },
    {
     "name": "stdout",
     "output_type": "stream",
     "text": [
      "24 http://www.dajianet.com/digital/2018/0412/219504.shtml\n",
      "25 http://www.teyoukeli.com/contents/1132/6784.html\n",
      "26 http://mamomclub.com/contents/1345/7226.html\n"
     ]
    },
    {
     "name": "stderr",
     "output_type": "stream",
     "text": [
      "/opt/anaconda3/envs/tf15/lib/python3.7/site-packages/urllib3/connectionpool.py:1020: InsecureRequestWarning: Unverified HTTPS request is being made to host 'www.mamomclub.com'. Adding certificate verification is strongly advised. See: https://urllib3.readthedocs.io/en/1.26.x/advanced-usage.html#ssl-warnings\n",
      "  InsecureRequestWarning,\n",
      "/opt/anaconda3/envs/tf15/lib/python3.7/site-packages/urllib3/connectionpool.py:1020: InsecureRequestWarning: Unverified HTTPS request is being made to host 'mamomclub.com'. Adding certificate verification is strongly advised. See: https://urllib3.readthedocs.io/en/1.26.x/advanced-usage.html#ssl-warnings\n",
      "  InsecureRequestWarning,\n"
     ]
    },
    {
     "name": "stdout",
     "output_type": "stream",
     "text": [
      "27 http://www.81.cn/yw/2021-05/21/content_10037887.htm\n",
      "28 https://read01.com/0eomyKk.html\n"
     ]
    },
    {
     "name": "stderr",
     "output_type": "stream",
     "text": [
      "/opt/anaconda3/envs/tf15/lib/python3.7/site-packages/urllib3/connectionpool.py:1020: InsecureRequestWarning: Unverified HTTPS request is being made to host 'read01.com'. Adding certificate verification is strongly advised. See: https://urllib3.readthedocs.io/en/1.26.x/advanced-usage.html#ssl-warnings\n",
      "  InsecureRequestWarning,\n"
     ]
    },
    {
     "name": "stdout",
     "output_type": "stream",
     "text": [
      "29 https://www.linguee.com/chinese-english/translation/%E4%B8%AD%E5%9C%8B%E5%9C%8B%E9%98%B2%E7%A7%91%E6%8A%80%E4%BF%A1%E6%81%AF%E4%B8%AD%E5%BF%83.html\n"
     ]
    },
    {
     "name": "stderr",
     "output_type": "stream",
     "text": [
      "/opt/anaconda3/envs/tf15/lib/python3.7/site-packages/urllib3/connectionpool.py:1020: InsecureRequestWarning: Unverified HTTPS request is being made to host 'www.linguee.com'. Adding certificate verification is strongly advised. See: https://urllib3.readthedocs.io/en/1.26.x/advanced-usage.html#ssl-warnings\n",
      "  InsecureRequestWarning,\n"
     ]
    },
    {
     "name": "stdout",
     "output_type": "stream",
     "text": [
      "30 https://other-wiki.zervice.io/wikipedia_zh_all_novid_2018-07/A/%E4%B8%AD%E5%9B%BD%E5%9B%BD%E9%98%B2%E7%A7%91%E6%8A%80%E4%BF%A1%E6%81%AF%E4%B8%AD%E5%BF%83.html\n",
      "HTTPSConnectionPool(host='other-wiki.zervice.io', port=443): Max retries exceeded with url: /wikipedia_zh_all_novid_2018-07/A/%E4%B8%AD%E5%9B%BD%E5%9B%BD%E9%98%B2%E7%A7%91%E6%8A%80%E4%BF%A1%E6%81%AF%E4%B8%AD%E5%BF%83.html (Caused by NewConnectionError('<urllib3.connection.HTTPSConnection object at 0x7fec8630b780>: Failed to establish a new connection: [Errno 8] nodename nor servname provided, or not known'))\n",
      "31 https://maplebear.com.br/index.php?redirect40e4e/dec312797.htm\n"
     ]
    },
    {
     "name": "stderr",
     "output_type": "stream",
     "text": [
      "/opt/anaconda3/envs/tf15/lib/python3.7/site-packages/urllib3/connectionpool.py:1020: InsecureRequestWarning: Unverified HTTPS request is being made to host 'maplebear.com.br'. Adding certificate verification is strongly advised. See: https://urllib3.readthedocs.io/en/1.26.x/advanced-usage.html#ssl-warnings\n",
      "  InsecureRequestWarning,\n",
      "/opt/anaconda3/envs/tf15/lib/python3.7/site-packages/urllib3/connectionpool.py:1020: InsecureRequestWarning: Unverified HTTPS request is being made to host 'maplebear.com.br'. Adding certificate verification is strongly advised. See: https://urllib3.readthedocs.io/en/1.26.x/advanced-usage.html#ssl-warnings\n",
      "  InsecureRequestWarning,\n"
     ]
    },
    {
     "ename": "NameError",
     "evalue": "name '__lac' is not defined",
     "output_type": "error",
     "traceback": [
      "\u001b[0;31m---------------------------------------------------------------------------\u001b[0m",
      "\u001b[0;31mNameError\u001b[0m                                 Traceback (most recent call last)",
      "\u001b[0;32m/var/folders/l6/gmldvxdx6yl712wg0dbzvv0c0000gn/T/ipykernel_57945/1567994140.py\u001b[0m in \u001b[0;36m<module>\u001b[0;34m\u001b[0m\n\u001b[1;32m      1\u001b[0m \u001b[0mgoogle_search_rs\u001b[0m \u001b[0;34m=\u001b[0m \u001b[0mpd\u001b[0m\u001b[0;34m.\u001b[0m\u001b[0mread_excel\u001b[0m\u001b[0;34m(\u001b[0m\u001b[0;34m'/Users/csti-user/Downloads/OSINT/data/test.xlsx'\u001b[0m\u001b[0;34m)\u001b[0m\u001b[0;34m.\u001b[0m\u001b[0murl\u001b[0m\u001b[0;34m.\u001b[0m\u001b[0mto_list\u001b[0m\u001b[0;34m(\u001b[0m\u001b[0;34m)\u001b[0m\u001b[0;34m\u001b[0m\u001b[0m\n\u001b[0;32m----> 2\u001b[0;31m \u001b[0mosint\u001b[0m\u001b[0;34m.\u001b[0m\u001b[0m__get_similarity\u001b[0m\u001b[0;34m(\u001b[0m\u001b[0mgoogle_search_rs\u001b[0m\u001b[0;34m,\u001b[0m \u001b[0;36m15\u001b[0m\u001b[0;34m,\u001b[0m \u001b[0;34m\"王雪峰\"\u001b[0m\u001b[0;34m)\u001b[0m\u001b[0;34m\u001b[0m\u001b[0m\n\u001b[0m",
      "\u001b[0;32m~/Downloads/OSINT/code/OSINT_func_lac.py\u001b[0m in \u001b[0;36m__get_similarity\u001b[0;34m(google_search_rs, top, query)\u001b[0m\n\u001b[1;32m    253\u001b[0m     \u001b[0mall_doc_count\u001b[0m \u001b[0;34m=\u001b[0m \u001b[0;34m[\u001b[0m\u001b[0mCounter\u001b[0m\u001b[0;34m(\u001b[0m\u001b[0mfor_target_page\u001b[0m\u001b[0;34m[\u001b[0m\u001b[0mi\u001b[0m\u001b[0;34m]\u001b[0m\u001b[0;34m)\u001b[0m \u001b[0;32mfor\u001b[0m \u001b[0mi\u001b[0m \u001b[0;32min\u001b[0m \u001b[0mrange\u001b[0m\u001b[0;34m(\u001b[0m\u001b[0mlen\u001b[0m\u001b[0;34m(\u001b[0m\u001b[0mfor_target_page\u001b[0m\u001b[0;34m)\u001b[0m\u001b[0;34m)\u001b[0m\u001b[0;34m]\u001b[0m\u001b[0;34m\u001b[0m\u001b[0m\n\u001b[1;32m    254\u001b[0m     \u001b[0mtfidfs\u001b[0m \u001b[0;34m=\u001b[0m \u001b[0m__get_tfidfs\u001b[0m\u001b[0;34m(\u001b[0m\u001b[0mall_doc_count\u001b[0m\u001b[0;34m,\u001b[0m\u001b[0mtop\u001b[0m\u001b[0;34m)\u001b[0m \u001b[0;31m#所有網頁內容分詞的tfidfs，return dataframe\u001b[0m\u001b[0;34m\u001b[0m\u001b[0m\n\u001b[0;32m--> 255\u001b[0;31m     \u001b[0mmodel\u001b[0m \u001b[0;34m=\u001b[0m \u001b[0m__get_trained_model\u001b[0m\u001b[0;34m(\u001b[0m\u001b[0mquery\u001b[0m\u001b[0;34m,\u001b[0m \u001b[0mcontexts\u001b[0m\u001b[0;34m)\u001b[0m \u001b[0;31m#詞向量模型\u001b[0m\u001b[0;34m\u001b[0m\u001b[0m\n\u001b[0m\u001b[1;32m    256\u001b[0m     \u001b[0mquery_vector\u001b[0m \u001b[0;34m=\u001b[0m \u001b[0m__get_vector\u001b[0m\u001b[0;34m(\u001b[0m\u001b[0mquery\u001b[0m\u001b[0;34m,\u001b[0m \u001b[0mmodel\u001b[0m\u001b[0;34m)\u001b[0m \u001b[0;31m#搜尋詞的詞向量\u001b[0m\u001b[0;34m\u001b[0m\u001b[0m\n\u001b[1;32m    257\u001b[0m \u001b[0;34m\u001b[0m\u001b[0m\n",
      "\u001b[0;32m~/Downloads/OSINT/code/OSINT_func_lac.py\u001b[0m in \u001b[0;36m__get_trained_model\u001b[0;34m(query, corpus)\u001b[0m\n\u001b[1;32m    206\u001b[0m         \u001b[0;32mreturn\u001b[0m \u001b[0;32mNone\u001b[0m\u001b[0;34m\u001b[0m\u001b[0m\n\u001b[1;32m    207\u001b[0m \u001b[0;34m\u001b[0m\u001b[0m\n\u001b[0;32m--> 208\u001b[0;31m     \u001b[0mwords\u001b[0m\u001b[0;34m,\u001b[0m \u001b[0mtags\u001b[0m \u001b[0;34m=\u001b[0m \u001b[0m__lac\u001b[0m\u001b[0;34m.\u001b[0m\u001b[0mrun\u001b[0m\u001b[0;34m(\u001b[0m\u001b[0mquery\u001b[0m\u001b[0;34m)\u001b[0m\u001b[0;34m\u001b[0m\u001b[0m\n\u001b[0m\u001b[1;32m    209\u001b[0m \u001b[0;34m\u001b[0m\u001b[0m\n\u001b[1;32m    210\u001b[0m     model.build_vocab(corpus, update=True, trim_rule=lambda word, count, min_count:\n",
      "\u001b[0;31mNameError\u001b[0m: name '__lac' is not defined"
     ]
    }
   ],
   "source": [
    "google_search_rs = pd.read_excel('/Users/csti-user/Downloads/OSINT/data/test.xlsx').url.to_list()\n",
    "osint.__get_similarity(google_search_rs, 15, \"王雪峰\")"
   ]
  },
  {
   "cell_type": "code",
   "execution_count": null,
   "id": "d8868421",
   "metadata": {},
   "outputs": [],
   "source": []
  },
  {
   "cell_type": "code",
   "execution_count": null,
   "id": "8299b326",
   "metadata": {},
   "outputs": [],
   "source": [
    "google_search_rs = pd.read_csv('/Users/csti-user/Downloads/OSINT/data/try_1111.csv').url.to_list()\n",
    "__get_similarity(google_search_rs, 15, \"王雪峰\")"
   ]
  },
  {
   "cell_type": "code",
   "execution_count": null,
   "id": "7039e359",
   "metadata": {},
   "outputs": [],
   "source": []
  },
  {
   "cell_type": "code",
   "execution_count": null,
   "id": "236cd9dc",
   "metadata": {},
   "outputs": [],
   "source": []
  },
  {
   "cell_type": "code",
   "execution_count": null,
   "id": "8b3702f9",
   "metadata": {},
   "outputs": [],
   "source": []
  },
  {
   "cell_type": "code",
   "execution_count": null,
   "id": "5f0d0420",
   "metadata": {},
   "outputs": [],
   "source": []
  },
  {
   "cell_type": "code",
   "execution_count": null,
   "id": "21b751f7",
   "metadata": {},
   "outputs": [],
   "source": []
  },
  {
   "cell_type": "code",
   "execution_count": null,
   "id": "520587c0",
   "metadata": {},
   "outputs": [],
   "source": []
  }
 ],
 "metadata": {
  "kernelspec": {
   "display_name": "Python 3",
   "language": "python",
   "name": "python3"
  },
  "language_info": {
   "codemirror_mode": {
    "name": "ipython",
    "version": 3
   },
   "file_extension": ".py",
   "mimetype": "text/x-python",
   "name": "python",
   "nbconvert_exporter": "python",
   "pygments_lexer": "ipython3",
   "version": "3.8.5"
  },
  "toc": {
   "base_numbering": 1,
   "nav_menu": {},
   "number_sections": true,
   "sideBar": true,
   "skip_h1_title": false,
   "title_cell": "Table of Contents",
   "title_sidebar": "Contents",
   "toc_cell": false,
   "toc_position": {},
   "toc_section_display": true,
   "toc_window_display": false
  }
 },
 "nbformat": 4,
 "nbformat_minor": 5
}
